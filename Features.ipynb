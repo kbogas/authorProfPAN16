{
 "cells": [
  {
   "cell_type": "code",
   "execution_count": 1,
   "metadata": {
    "collapsed": false
   },
   "outputs": [
    {
     "name": "stdout",
     "output_type": "stream",
     "text": [
      "Loading dataset->Grouping User texts.\n",
      "\n",
      "Loaded 436 users...\n",
      "\n",
      "\n",
      "--------------- Thy time of Running ---------------\n",
      "Learning to judge age..\n",
      "Learning to judge gender..\n"
     ]
    }
   ],
   "source": [
    "import os\n",
    "from argparse import ArgumentParser\n",
    "from sklearn.externals import joblib\n",
    "from tictacs import from_recipe\n",
    "from pan import ProfilingDataset\n",
    "import dill\n",
    "import cPickle as pickle\n",
    "# from sklearn.neighbors import KNeighborsClassifier\n",
    "# from sklearn.metrics import accuracy_score, confusion_matrix\n",
    "\n",
    "\n",
    "infolder = \"../DATA/pan16-author-profiling-training-dataset-2016-04-25/pan16-author-profiling-training-dataset-english-2016-02-29/\"\n",
    "outfolder = \"models/\"\n",
    "print('Loading dataset->Grouping User texts.\\n')\n",
    "dataset = ProfilingDataset(infolder)\n",
    "print('Loaded {} users...\\n'.format(len(dataset.entries)))\n",
    "# get config\n",
    "config = dataset.config\n",
    "tasks = config.tasks\n",
    "print('\\n--------------- Thy time of Running ---------------')\n",
    "for task in tasks:\n",
    "    print('Learning to judge %s..' % task)\n",
    "    # load data\n",
    "    X, y = dataset.get_data(task)"
   ]
  },
  {
   "cell_type": "code",
   "execution_count": null,
   "metadata": {
    "collapsed": true
   },
   "outputs": [],
   "source": [
    "Instance"
   ]
  },
  {
   "cell_type": "code",
   "execution_count": 17,
   "metadata": {
    "collapsed": false
   },
   "outputs": [
    {
     "name": "stdout",
     "output_type": "stream",
     "text": [
      "277792\n"
     ]
    }
   ],
   "source": [
    "from pan import ProfilingDataset, createDocProfiles, create_target_prof_trainset\n",
    "from pan import preprocess\n",
    "\n",
    "task = 'gender'\n",
    "docs = createDocProfiles(dataset)\n",
    "X, y = create_target_prof_trainset(docs, task)\n",
    "print len(X)\n",
    "#X = preprocess.preprocess(X)"
   ]
  },
  {
   "cell_type": "code",
   "execution_count": null,
   "metadata": {
    "collapsed": true
   },
   "outputs": [],
   "source": [
    "Profile"
   ]
  },
  {
   "cell_type": "code",
   "execution_count": 68,
   "metadata": {
    "collapsed": false
   },
   "outputs": [
    {
     "name": "stdout",
     "output_type": "stream",
     "text": [
      "436\n"
     ]
    }
   ],
   "source": [
    "#reload(preprocess)\n",
    "#reload(features)\n",
    "from pan import features\n",
    "from pan import preprocess\n",
    "#X, y = dataset.get_data('age')\n",
    "X, y = dataset.get_data('gender')\n",
    "print len(X)\n",
    "#print X[0]\n",
    "#X = preprocess.preprocess(X)\n",
    "#print \"$$$$$$$$$$$$$$$$$$$$$$$$$$$$$$$$$$$$$$$$$$$$$$$$$$$$$$$$$$$$$$$$$$$$$$$$$$$$$$\"\n",
    "#print X[0]"
   ]
  },
  {
   "cell_type": "code",
   "execution_count": null,
   "metadata": {
    "collapsed": true
   },
   "outputs": [],
   "source": [
    "import pickle\n",
    "with open(\"../DATA/graph-twitter/graph_gender_age/X.txt\", 'r') as inp:\n",
    "    X = pickle.load(inp)\n",
    "with open(\"../DATA/graph-twitter/graph_gender_age/y.txt\", 'r') as yinp:\n",
    "    y = pickle.load(yinp)\n",
    "X = preprocess.preprocess(X)\n",
    "y = [s.lower() for s in y]"
   ]
  },
  {
   "cell_type": "code",
   "execution_count": 54,
   "metadata": {
    "collapsed": false
   },
   "outputs": [
    {
     "name": "stdout",
     "output_type": "stream",
     "text": [
      "303 303\n"
     ]
    }
   ],
   "source": [
    "import json\n",
    "with open(\"../DATA/graph-twitter/graph_gender_age/labeled.json\", 'r') as inp:\n",
    "    labeled = json.load(inp)\n",
    "X = []\n",
    "y = []\n",
    "for user in labeled:\n",
    "    y.append(user['gender'].lower())\n",
    "    X.append(' '.join(user['texts']))\n",
    "# for user in labeled:\n",
    "#     y.extend([user['gender'].lower() for t in user['texts']])\n",
    "#     X.extend(user['texts'])\n",
    "print len(X), len(y)\n",
    "#X = preprocess.preprocess(X)"
   ]
  },
  {
   "cell_type": "code",
   "execution_count": null,
   "metadata": {
    "collapsed": false
   },
   "outputs": [],
   "source": [
    "y"
   ]
  },
  {
   "cell_type": "code",
   "execution_count": 47,
   "metadata": {
    "collapsed": false
   },
   "outputs": [],
   "source": [
    "from sklearn.base import BaseEstimator, TransformerMixin\n",
    "\n",
    "class SOACWrapper(BaseEstimator, TransformerMixin):\n",
    "    \n",
    "    import time\n",
    "    import numpy\n",
    "    from sklearn.preprocessing import normalize\n",
    "    from collections import Counter\n",
    "    \n",
    "    \n",
    "    def __init__(self):\n",
    "        self.labels = []\n",
    "        self.prior_row = None\n",
    "        self.term_table = None\n",
    "        return None\n",
    "    \n",
    "    def fit(self, X, y=None):\n",
    "        \n",
    "        import time\n",
    "        import numpy\n",
    "        from sklearn.preprocessing import normalize\n",
    "        from collections import Counter\n",
    "        \n",
    "        if y is None:\n",
    "            raise ValueError('we need y labels to supervise-fit!')\n",
    "        else:\n",
    "            time_start = time.time()\n",
    "            target_profiles = sorted(list(set(y)))\n",
    "            self.labels = target_profiles\n",
    "            ##SOA\n",
    "            doc_prof = numpy.zeros([X.shape[0], len(target_profiles)])\n",
    "            for i in range(0, X.shape[0]):\n",
    "                tmp = numpy.zeros([1, len(target_profiles)])\n",
    "                tmp[0, target_profiles.index(y[i])] = 1\n",
    "                doc_prof[i, :] = tmp\n",
    "            \n",
    "            ## SOAC\n",
    "#            dd = Counter(y)\n",
    "#             self.prior_row = numpy.zeros([1, len(target_profiles)])\n",
    "#             for i, key in enumerate(sorted(dd.keys())):\n",
    "#                 dd[key] = dd[key]/float(len(y))\n",
    "#                 self.prior_row[0, i] = 1/dd[key]\n",
    "#             doc_prof = numpy.tile(self.prior_row, (X.shape[0], 1))\n",
    "#             for i in range(0, X.shape[0]):\n",
    "#                 doc_prof[i, target_profiles.index(y[i])] = 0\n",
    "#\n",
    "            #print self.prior_row\n",
    "            # Gia to palio. Na vgalw kai doc_prof apo to transform\n",
    "            #self.prior_row = numpy.ones([1, len(target_profiles)])\n",
    "            \n",
    "            #try:\n",
    "                #X = numpy.log2(X + 1)\n",
    "            #except Exception, e:\n",
    "            #    print \"Error in log2\"\n",
    "            #    print e\n",
    "            print 'X'\n",
    "            print X.shape\n",
    "            print X\n",
    "            print 'Doc_prof'\n",
    "            print doc_prof.shape\n",
    "            print doc_prof\n",
    "            try:\n",
    "                term_prof = 100*X.transpose().dot(doc_prof)\n",
    "            except Exception, e:\n",
    "                print \"Error in product\"\n",
    "                print e\n",
    "            print 'Term_prof'\n",
    "            print term_prof.shape\n",
    "            print term_prof\n",
    "#             print 'Dot Product'\n",
    "#             print term_prof\n",
    "            term_prof = term_prof / term_prof.sum(axis=0)\n",
    "            print 'First'\n",
    "            print term_prof\n",
    "            #print \"Normalization per collumn product in %0.2f sec\" % (time.time()- time_start)\n",
    "            #normalize(term_prof, norm='l1', axis=0, copy=False)\n",
    "            # normalize across profiles\n",
    "            print 'Second'\n",
    "            term_prof = normalize(term_prof, norm='l1', axis=1, copy=False)\n",
    "            #print term_prof\n",
    "#             term_prof = term_prof / \\\n",
    "#                numpy.reshape(\n",
    "#                   term_prof.sum(axis=1), (term_prof.sum(axis=1).shape[0], 1))\n",
    "            print term_prof\n",
    "            #print \"Normalization per collumn product in %0.2f sec\" % (time.time()- time_start)\n",
    "#             print 'First'\n",
    "#             term_prof = normalize(term_prof, norm='l1', axis=0, copy=False)\n",
    "#             print term_prof\n",
    "#             print 'Second'\n",
    "#             term_prof = normalize(term_prof, norm='l1', axis=1, copy=False)\n",
    "#             print term_prof\n",
    "            # clean term_prof\n",
    "            # term_prof = cleaned(term_prof, self.thres)\n",
    "            self.term_table = term_prof\n",
    "            return self\n",
    "        \n",
    "    def transform(self, X, y=None):\n",
    "        \n",
    "        import numpy\n",
    "        from sklearn.preprocessing import normalize\n",
    "        \n",
    "        if self.labels is None:\n",
    "            raise AttributeError('term_table was no found! \\\n",
    "                     Probably model was not fitted first. Run model.fit(X,y)!')\n",
    "            exit(1)\n",
    "        else:\n",
    "            doc_prof = X.dot(self.term_table)\n",
    "            for i in range(0, doc_prof.shape[0]):\n",
    "                doc_prof[i, :] = doc_prof[i, :] #- doc_prof[i, :].min()\n",
    "            # print doc_prof\n",
    "            #normalize(doc_prof, norm='l1', axis=1, copy=False)\n",
    "            return doc_prof\n",
    "        \n",
    "    def predict(self, X):\n",
    "        \n",
    "        import numpy\n",
    "        num2label = dict((i, label) for i, label in enumerate(self.labels))\n",
    "        Y = self.transform(X)\n",
    "        y = numpy.argmax(Y, axis=1)\n",
    "        final = numpy.array([num2label[i] for i in y])\n",
    "#         for i,_ in enumerate(final):\n",
    "#             print 'X'\n",
    "#             print X[i,:]\n",
    "#             print 'TR'\n",
    "#             print Y[i,:]\n",
    "#             print 'Max || Predict || Real'\n",
    "#             print y[i], final[i], y_true[i]\n",
    "        return final\n",
    "\n",
    "        "
   ]
  },
  {
   "cell_type": "code",
   "execution_count": null,
   "metadata": {
    "collapsed": false
   },
   "outputs": [],
   "source": [
    "import numpy\n",
    "from sklearn.preprocessing import normalize\n",
    "a = numpy.random.rand(2,2)\n",
    "print a\n",
    "normalize(a, norm='l1', axis=1, copy=False)`\n",
    "print a"
   ]
  },
  {
   "cell_type": "code",
   "execution_count": null,
   "metadata": {
    "collapsed": false
   },
   "outputs": [],
   "source": [
    "numpy.max(tr, axis=0)"
   ]
  },
  {
   "cell_type": "code",
   "execution_count": null,
   "metadata": {
    "collapsed": false
   },
   "outputs": [],
   "source": [
    "#test = X[11000]\n",
    "c = CharFeatureExtractor(True)\n",
    "#tr = c.transform(X_train)\n",
    "soacw = SOACWrapper()\n",
    "pipe3 = Pipeline([('CharCount', c), ('soac', soacw)])\n",
    "#soacw.fit(tr, y_train)\n",
    "gg = pipe3.fit_transform(X_train, y_train)"
   ]
  },
  {
   "cell_type": "code",
   "execution_count": null,
   "metadata": {
    "collapsed": false
   },
   "outputs": [],
   "source": [
    "pipe3.steps[1][1].term_table"
   ]
  },
  {
   "cell_type": "code",
   "execution_count": null,
   "metadata": {
    "collapsed": false
   },
   "outputs": [],
   "source": [
    "c = CharFeatureExtractor(True)\n",
    "#tr = c.transform(X_train)\n",
    "tr[4,:].dot(pipe3.steps[1][1].term_table)"
   ]
  },
  {
   "cell_type": "code",
   "execution_count": null,
   "metadata": {
    "collapsed": false
   },
   "outputs": [],
   "source": [
    "y_train[:10]"
   ]
  },
  {
   "cell_type": "code",
   "execution_count": null,
   "metadata": {
    "collapsed": false
   },
   "outputs": [],
   "source": [
    "predict = soacw.predict(c.transform(X_cv), y_cv)\n",
    "acc = accuracy_score(y_cv, predict)\n",
    "conf = confusion_matrix(y_cv, predict, labels=sorted(list(set(y_cv))))\n",
    "rep = classification_report(y_cv, predict, target_names=sorted(list(set(y_cv))))\n",
    "print('Accuracy : {}'.format(acc))\n",
    "print('Confusion matrix :\\n {}'.format(conf))\n",
    "print('Classification report :\\n {}'.format(rep))"
   ]
  },
  {
   "cell_type": "code",
   "execution_count": null,
   "metadata": {
    "collapsed": false
   },
   "outputs": [],
   "source": [
    "for i in index:\n",
    "    print predict[i]"
   ]
  },
  {
   "cell_type": "code",
   "execution_count": null,
   "metadata": {
    "collapsed": false
   },
   "outputs": [],
   "source": [
    "index = []\n",
    "for i in xrange(len(y_train)):\n",
    "    if y_train[i] == '65-xx':\n",
    "        print i\n",
    "        index.append(i)\n",
    "index.extend([9, 15, 28,40])\n",
    "index"
   ]
  },
  {
   "cell_type": "code",
   "execution_count": null,
   "metadata": {
    "collapsed": false
   },
   "outputs": [],
   "source": [
    "gg[index]"
   ]
  },
  {
   "cell_type": "code",
   "execution_count": null,
   "metadata": {
    "collapsed": false
   },
   "outputs": [],
   "source": [
    "c2 = CharFeatureExtractor(True)\n",
    "tr3 =c2.transform([X_train[i] for i in index])\n",
    "for i in tr3:\n",
    "    print tr3.argmax(), tr3.max()"
   ]
  },
  {
   "cell_type": "code",
   "execution_count": 35,
   "metadata": {
    "collapsed": false
   },
   "outputs": [],
   "source": [
    "import regex as re\n",
    "import nltk\n",
    "import numpy\n",
    "from textblob.tokenizers import WordTokenizer\n",
    "from sklearn.base import BaseEstimator, TransformerMixin\n",
    "from pan.misc import _twokenize\n",
    "\n",
    "class CharFeatureExtractor(BaseEstimator, TransformerMixin):\n",
    "\n",
    "    \"\"\" Model that extracts Char Based Features. Counter: 32 features \"\"\"\n",
    "\n",
    "    def __init__(self, norm, norm_axis=0):\n",
    "        self.letters = ['a', 'b', 'c', 'd', 'e', 'f', 'g', 'h', 'i', 'j',\n",
    "                  'k', 'l', 'm', 'n', 'o', 'p', 'q', 'r', 's', 't',\n",
    "                  'u', 'v', 'w', 'x', 'y', 'z']\n",
    "        self.numbers = ['0', '1', '2', '3','4', '5', '6', '7', '8', '9']\n",
    "        self.special_c = ['!', '.', ':', '?', ';', ',', ')', '(', \n",
    "                          '-', '%', '$', '#', '@', '^', '&', '*', \n",
    "                          '=', '+', '/', '\"', \"'\", '<', '>', '|',\n",
    "                          '~', '`']\n",
    "        self.names = ['#C', '#a-z', '#upper', '#0-9', '#w', '#\\t'] + ['No_'+str(i) for i in self.special_c]\n",
    "        self.norm = norm\n",
    "        self.norm_axis = norm_axis\n",
    "\n",
    "    def fit(self, X, y=None):\n",
    "        return self\n",
    "\n",
    "    def transform(self, texts):\n",
    "        \"\"\" transform data\n",
    "\n",
    "        :texts: The texts to count capital words in\n",
    "        :returns: array\n",
    "\n",
    "        \"\"\"\n",
    "        from sklearn.preprocessing import normalize\n",
    "        \n",
    "        final_feat = []\n",
    "        for text in texts:\n",
    "            #text = text.encode('utf-8', 'ignore')\n",
    "            tmp = []\n",
    "            tmp.append(len(text))\n",
    "            if tmp[0] == 0:\n",
    "                tmp = [0 for i in self.names]\n",
    "            else:\n",
    "                tmp.append(sum([text.lower().count(l) for l in self.letters])/float(tmp[0]))\n",
    "                tmp.append(sum([l.isupper() for l in text])/float(tmp[0]))\n",
    "                tmp.append(sum([text.lower().count(l) for l in self.numbers])/float(tmp[0]))\n",
    "                tmp.append(text.count(' ')/float(tmp[0]))\n",
    "                tmp.append(text.count('\\t')/float(tmp[0]))\n",
    "                tmp.extend([text.lower().count(l)/float(tmp[0]) for l in self.special_c])\n",
    "            final_feat.append(tmp)\n",
    "        if self.norm:\n",
    "            final_feat2 = normalize(numpy.array(final_feat), norm='l1', axis=0)\n",
    "            #final_feat2 = normalize(numpy.array(final_feat), norm='l1', axis=1)\n",
    "            return final_feat2\n",
    "            #return normalize(numpy.array(final_feat), norm='l1', axis=self.norm_axis)\n",
    "        else:\n",
    "            return numpy.array(final_feat) "
   ]
  },
  {
   "cell_type": "code",
   "execution_count": null,
   "metadata": {
    "collapsed": false
   },
   "outputs": [],
   "source": [
    "def analyze_tweet(text):\n",
    "  h = Emoticon_RE.search(text)\n",
    "  return h\n",
    "h= analyze_tweet(':-) :D :P ;* :-< :)')\n",
    "h"
   ]
  },
  {
   "cell_type": "code",
   "execution_count": 73,
   "metadata": {
    "collapsed": false
   },
   "outputs": [],
   "source": [
    "import regex as re\n",
    "import nltk\n",
    "import numpy\n",
    "from textblob.tokenizers import WordTokenizer\n",
    "from sklearn.base import BaseEstimator, TransformerMixin\n",
    "from pan.misc import _twokenize\n",
    "\n",
    "eyes = [':', ';']\n",
    "noses = ['', '-', '=', 'o', 'O', '0', '>']\n",
    "mouths = [')', 'D', ']', '>',  '(',  '[', '<', 'p', 'P', 'd', \"|\", '/', '*', '@', '!', '$', '3', 'X']\n",
    "emoticons = [\"*O\", \"*-*\", \"*O*\", \"*o*\", \"* *\", \"=}\",\"(:;)\", \"{;:]\", \"^_^\", \"^-^\"]\n",
    "for eye in eyes:\n",
    "    for nose in noses:\n",
    "        for mouth in mouths:\n",
    "            emoticons.append(eye+nose+mouth)\n",
    "\n",
    "\n",
    "eyes = [':', ';']\n",
    "noses = ['', '-']\n",
    "mouths = [')', 'D', ']', '>',  '(',  '[', '<', 'p', 'P', 'd']            \n",
    "tongue_no_emo = []\n",
    "for nose in noses:\n",
    "    for eye in eyes:\n",
    "        for mouth in mouths:\n",
    "            tongue_no_emo.append(eye+nose+mouth)\n",
    "    \n",
    "class EmoticonExtractor(BaseEstimator, TransformerMixin):\n",
    "\n",
    "    \"\"\" Model that extracts Char Based Features. Counter: 32 features \"\"\"\n",
    "\n",
    "    def __init__(self, emoticons, norm=True, norm_axis=0):\n",
    "        self.emoticons = emoticons\n",
    "        self.names = emoticons\n",
    "        self.norm = norm\n",
    "        self.norm_axis = norm_axis\n",
    "\n",
    "    def fit(self, X, y=None):\n",
    "        return self\n",
    "\n",
    "    def transform(self, texts):\n",
    "        \"\"\" transform data\n",
    "\n",
    "        :texts: The texts to count capital words in\n",
    "        :returns: array\n",
    "\n",
    "        \"\"\"\n",
    "        from sklearn.preprocessing import normalize\n",
    "        \n",
    "        final_feat = []\n",
    "        for text in texts:\n",
    "            #text = text.encode('utf-8', 'ignore')\n",
    "            tmp = [text.count(emo) for emo in self.emoticons]\n",
    "            #if ';od' in text:\n",
    "            #    print 'Kai omws'\n",
    "            final_feat.append(tmp)\n",
    "        final_feat2 = numpy.array(final_feat)\n",
    "        final_feat3 = final_feat2[:, numpy.nonzero(final_feat2.sum(axis=0))[0]]\n",
    "        print 'Indexes'\n",
    "        print numpy.nonzero(final_feat2.sum(axis=0))[0]\n",
    "        print type(numpy.nonzero(final_feat2.sum(axis=0))[0])\n",
    "        print 'Names'\n",
    "        print numpy.array(self.names).shape\n",
    "        self.names = numpy.array(self.names)[numpy.nonzero(final_feat2.sum(axis=0))[0]]\n",
    "        print final_feat3.shape\n",
    "        if self.norm:\n",
    "            final_feat3 = normalize(numpy.array(final_feat3), norm='l1', axis=0)\n",
    "            return final_feat3\n",
    "            #return normalize(numpy.array(final_feat), norm='l1', axis=self.norm_axis)\n",
    "        else:\n",
    "            return final_feat3"
   ]
  },
  {
   "cell_type": "code",
   "execution_count": 66,
   "metadata": {
    "collapsed": false
   },
   "outputs": [
    {
     "name": "stdout",
     "output_type": "stream",
     "text": [
      "348 88 436 436\n"
     ]
    }
   ],
   "source": [
    "from sklearn.cross_validation import train_test_split\n",
    "split = 0.2\n",
    "X_train, X_cv, y_train, y_cv = train_test_split(X, y, test_size=split, stratify=y, random_state=100)\n",
    "print len(X_train), len(X_cv), len(X_cv) + len(X_train), len(X)"
   ]
  },
  {
   "cell_type": "code",
   "execution_count": 72,
   "metadata": {
    "collapsed": false
   },
   "outputs": [
    {
     "name": "stderr",
     "output_type": "stream",
     "text": [
      "/usr/local/lib/python2.7/dist-packages/sklearn/utils/validation.py:420: DataConversionWarning: Data with input dtype int64 was converted to float64 by the normalize function.\n",
      "  warnings.warn(msg, DataConversionWarning)\n"
     ]
    }
   ],
   "source": [
    "aa = EmoticonExtractor(emoticons)\n",
    "tr = aa.fit_transform(X_train)"
   ]
  },
  {
   "cell_type": "code",
   "execution_count": null,
   "metadata": {
    "collapsed": false
   },
   "outputs": [],
   "source": [
    "tr.shape"
   ]
  },
  {
   "cell_type": "code",
   "execution_count": null,
   "metadata": {
    "collapsed": false
   },
   "outputs": [],
   "source": [
    "tr"
   ]
  },
  {
   "cell_type": "code",
   "execution_count": null,
   "metadata": {
    "collapsed": false
   },
   "outputs": [],
   "source": [
    "s = _twokenize.tokenizeRawTweetText('Lala this is funny! Lala! :D. :(')\n",
    "aa = WordFeatureExtractor('./English_Function_Words_Set/')\n",
    "tr = aa.transform(X_train)"
   ]
  },
  {
   "cell_type": "code",
   "execution_count": null,
   "metadata": {
    "collapsed": false
   },
   "outputs": [],
   "source": [
    "c = CharFeatureExtractor(True)\n",
    "tr = c.fit_transform(X_train)"
   ]
  },
  {
   "cell_type": "code",
   "execution_count": null,
   "metadata": {
    "collapsed": false
   },
   "outputs": [],
   "source": [
    "tr = pipe3.steps[1][1].transform(pipe3.steps[0][1].transform(X_train))"
   ]
  },
  {
   "cell_type": "code",
   "execution_count": null,
   "metadata": {
    "collapsed": false
   },
   "outputs": [],
   "source": [
    "import pandas as pd\n",
    "data = pd.DataFrame(pipe3.steps[1][1].term_table, columns=['soa_%d'% i for i in xrange(len(set(y)))])\n",
    "#data[\"class\"] = y_train\n",
    "print(data.describe())"
   ]
  },
  {
   "cell_type": "code",
   "execution_count": 68,
   "metadata": {
    "collapsed": false
   },
   "outputs": [
    {
     "name": "stdout",
     "output_type": "stream",
     "text": [
      "               *O         * *         ^_^          :)          :D          :]  \\\n",
      "count  348.000000  348.000000  348.000000  348.000000  348.000000  348.000000   \n",
      "mean     0.002874    0.002874    0.002874    0.002874    0.002874    0.002874   \n",
      "std      0.028260    0.034671    0.031952    0.006732    0.014778    0.032748   \n",
      "min      0.000000    0.000000    0.000000    0.000000    0.000000    0.000000   \n",
      "25%      0.000000    0.000000    0.000000    0.000000    0.000000    0.000000   \n",
      "50%      0.000000    0.000000    0.000000    0.000319    0.000000    0.000000   \n",
      "75%      0.000000    0.000000    0.000000    0.002435    0.000000    0.000000   \n",
      "max      0.400000    0.600000    0.500000    0.056691    0.175610    0.500000   \n",
      "\n",
      "               :(          :[          :<          :p     ...             ;-3  \\\n",
      "count  348.000000  348.000000  348.000000  348.000000     ...      348.000000   \n",
      "mean     0.002874    0.002874    0.002874    0.002874     ...        0.002874   \n",
      "std      0.007759    0.039909    0.008030    0.015635     ...        0.053606   \n",
      "min      0.000000    0.000000    0.000000    0.000000     ...        0.000000   \n",
      "25%      0.000000    0.000000    0.000000    0.000000     ...        0.000000   \n",
      "50%      0.000000    0.000000    0.000930    0.000000     ...        0.000000   \n",
      "75%      0.001727    0.000000    0.002789    0.000000     ...        0.000000   \n",
      "max      0.070812    0.666667    0.084612    0.121212     ...        1.000000   \n",
      "\n",
      "              ;o)         ;op         ;od         ;OD         ;Op         ;OP  \\\n",
      "count  348.000000  348.000000  348.000000  348.000000  348.000000  348.000000   \n",
      "mean     0.002874    0.002874    0.002874    0.002874    0.002874    0.002874   \n",
      "std      0.037850    0.020558    0.037850    0.053606    0.014169    0.030860   \n",
      "min      0.000000    0.000000    0.000000    0.000000    0.000000    0.000000   \n",
      "25%      0.000000    0.000000    0.000000    0.000000    0.000000    0.000000   \n",
      "50%      0.000000    0.000000    0.000000    0.000000    0.000000    0.000000   \n",
      "75%      0.000000    0.000000    0.000000    0.000000    0.000000    0.000000   \n",
      "max      0.500000    0.333333    0.500000    1.000000    0.137931    0.333333   \n",
      "\n",
      "              ;Od         ;0)         ;03  \n",
      "count  348.000000  348.000000  348.000000  \n",
      "mean     0.002874    0.002874    0.002874  \n",
      "std      0.053606    0.037850    0.053606  \n",
      "min      0.000000    0.000000    0.000000  \n",
      "25%      0.000000    0.000000    0.000000  \n",
      "50%      0.000000    0.000000    0.000000  \n",
      "75%      0.000000    0.000000    0.000000  \n",
      "max      1.000000    0.500000    1.000000  \n",
      "\n",
      "[8 rows x 69 columns]\n"
     ]
    }
   ],
   "source": [
    "import pandas as pd\n",
    "data = pd.DataFrame(tr, columns=aa.names)\n",
    "data[\"class\"] = y_train\n",
    "print(data.describe())"
   ]
  },
  {
   "cell_type": "code",
   "execution_count": null,
   "metadata": {
    "collapsed": false
   },
   "outputs": [],
   "source": [
    "from pandas.tools.plotting import scatter_matrix\n",
    "scatter_matrix(data, alpha=0.2, figsize=(6, 6), diagonal='kde')\n",
    "plt.show()"
   ]
  },
  {
   "cell_type": "code",
   "execution_count": 69,
   "metadata": {
    "collapsed": true
   },
   "outputs": [],
   "source": [
    "grouped = data.groupby('class')\n",
    "means = grouped.mean().T\n",
    "\n",
    "import matplotlib.pyplot as plt\n",
    "### BAR PLOTS OF MEAN VALUE OF FEATURES FOR EACH CLASS ######\n",
    "\n",
    "grouped = data.groupby('class')\n",
    "#plt.figure()\n",
    "grouped.sum().T.plot(kind='bar', figsize=(60,10))\n",
    "plt.savefig('test1.png')\n",
    "plt.show()"
   ]
  },
  {
   "cell_type": "code",
   "execution_count": 90,
   "metadata": {
    "collapsed": false
   },
   "outputs": [
    {
     "name": "stdout",
     "output_type": "stream",
     "text": [
      "<class 'pandas.core.groupby.DataFrameGroupBy'>\n"
     ]
    },
    {
     "data": {
      "text/plain": [
       "';P'"
      ]
     },
     "execution_count": 90,
     "metadata": {},
     "output_type": "execute_result"
    }
   ],
   "source": [
    "def f(s):\n",
    "    return s/float(sum(s))\n",
    "\n",
    "print type(grouped)\n",
    "\n",
    "aaa = grouped.sum()\n",
    "aaa.loc['65-xx'].argmax()"
   ]
  },
  {
   "cell_type": "code",
   "execution_count": null,
   "metadata": {
    "collapsed": false
   },
   "outputs": [],
   "source": [
    "from sklearn.pipeline import Pipeline, FeatureUnion\n",
    "from sklearn.cross_validation import train_test_split\n",
    "from sklearn.feature_extraction.text import TfidfVectorizer\n",
    "from sklearn.grid_search import GridSearchCV\n",
    "from sklearn.svm import SVC, LinearSVC\n",
    "from pan.features import SOA_Model2, SOAC_Model2\n",
    "from pan import features\n",
    "\n",
    "grams3 = TfidfVectorizer(analyzer='word', ngram_range=[1,1], max_features=3000)\n",
    "soac = SOAC_Model2(max_df=0.9, min_df=5, tokenizer_var='sklearn', max_features=None)\n",
    "combined = FeatureUnion([('3grams', grams3), ('soac', soac)])\n",
    "svm = LinearSVC(C=100, class_weight='balanced')\n",
    "#svm = SVC(kernel='rbf', C=100, gamma=1, class_weight='balanced', probability=True)\n",
    "pipe = Pipeline([('combined',combined), ('svm', svm)])\n",
    "pipe.steps\n",
    "\n",
    "\n",
    "\n",
    "num_folds = 4\n",
    "split = 0.2\n",
    "X_train, X_cv, y_train, y_cv = train_test_split(X, y, test_size=split, stratify=y, random_state=100)\n",
    "print len(X_train), len(X_cv), len(X_cv) + len(X_train), len(X)\n",
    "#eclf = VotingClassifier(estimators=[(\"0\", pipe1), ('1', pipe2)], voting='soft')\n",
    "#pipe2.fit(X_train, y_train)\n",
    "# trained_models = []\n",
    "# params = {}\n",
    "params = {'svm__C': [0.001, 0.01, 0.1, 1, 10, 100],\n",
    "          'combined__soac__max_df': [1.0, 0.9, 0.8],\n",
    "          'combined__soac__max_features': [None, 5000, 10000],\n",
    "          'combined__soac__min_df': [1, 3, 5]}\n",
    "for model in [pipe]:\n",
    "    grid_search = GridSearchCV(estimator=model, param_grid=params, verbose=1, n_jobs=3, cv=num_folds, \n",
    "                                   refit=True, scoring='f1_weighted')\n",
    "    grid_search.fit(X_train, y_train)\n",
    "    print(grid_search.best_score_)\n",
    "    #print(grid_search.best_estimator_) \n",
    "    print('Best_params')\n",
    "    print(grid_search.grid_scores_)\n",
    "best = grid_search.best_estimator_"
   ]
  },
  {
   "cell_type": "code",
   "execution_count": 33,
   "metadata": {
    "collapsed": false
   },
   "outputs": [
    {
     "name": "stdout",
     "output_type": "stream",
     "text": [
      "Best_params\n",
      "{'combined__soac__min_df': 3, 'svm__C': 1, 'combined__soac__max_df': 1.0, 'combined__soac__max_features': 5000}\n"
     ]
    }
   ],
   "source": [
    "print('Best_params')\n",
    "print(grid_search.best_params_)"
   ]
  },
  {
   "cell_type": "code",
   "execution_count": 44,
   "metadata": {
    "collapsed": false
   },
   "outputs": [
    {
     "ename": "ValueError",
     "evalue": "Found array with 0 feature(s) (shape=(242, 0)) while a minimum of 1 is required by the normalize function.",
     "output_type": "error",
     "traceback": [
      "\u001b[1;31m---------------------------------------------------------------------------\u001b[0m",
      "\u001b[1;31mValueError\u001b[0m                                Traceback (most recent call last)",
      "\u001b[1;32m<ipython-input-44-1e9a4b381777>\u001b[0m in \u001b[0;36m<module>\u001b[1;34m()\u001b[0m\n\u001b[1;32m----> 1\u001b[1;33m \u001b[0mtr\u001b[0m \u001b[1;33m=\u001b[0m \u001b[0maa\u001b[0m\u001b[1;33m.\u001b[0m\u001b[0mfit_transform\u001b[0m\u001b[1;33m(\u001b[0m\u001b[0mX_train\u001b[0m\u001b[1;33m)\u001b[0m\u001b[1;33m\u001b[0m\u001b[0m\n\u001b[0m",
      "\u001b[1;32m/usr/local/lib/python2.7/dist-packages/sklearn/base.pyc\u001b[0m in \u001b[0;36mfit_transform\u001b[1;34m(self, X, y, **fit_params)\u001b[0m\n\u001b[0;32m    453\u001b[0m         \u001b[1;32mif\u001b[0m \u001b[0my\u001b[0m \u001b[1;32mis\u001b[0m \u001b[0mNone\u001b[0m\u001b[1;33m:\u001b[0m\u001b[1;33m\u001b[0m\u001b[0m\n\u001b[0;32m    454\u001b[0m             \u001b[1;31m# fit method of arity 1 (unsupervised transformation)\u001b[0m\u001b[1;33m\u001b[0m\u001b[1;33m\u001b[0m\u001b[0m\n\u001b[1;32m--> 455\u001b[1;33m             \u001b[1;32mreturn\u001b[0m \u001b[0mself\u001b[0m\u001b[1;33m.\u001b[0m\u001b[0mfit\u001b[0m\u001b[1;33m(\u001b[0m\u001b[0mX\u001b[0m\u001b[1;33m,\u001b[0m \u001b[1;33m**\u001b[0m\u001b[0mfit_params\u001b[0m\u001b[1;33m)\u001b[0m\u001b[1;33m.\u001b[0m\u001b[0mtransform\u001b[0m\u001b[1;33m(\u001b[0m\u001b[0mX\u001b[0m\u001b[1;33m)\u001b[0m\u001b[1;33m\u001b[0m\u001b[0m\n\u001b[0m\u001b[0;32m    456\u001b[0m         \u001b[1;32melse\u001b[0m\u001b[1;33m:\u001b[0m\u001b[1;33m\u001b[0m\u001b[0m\n\u001b[0;32m    457\u001b[0m             \u001b[1;31m# fit method of arity 2 (supervised transformation)\u001b[0m\u001b[1;33m\u001b[0m\u001b[1;33m\u001b[0m\u001b[0m\n",
      "\u001b[1;32m<ipython-input-36-fe8e33390461>\u001b[0m in \u001b[0;36mtransform\u001b[1;34m(self, texts)\u001b[0m\n\u001b[0;32m     58\u001b[0m         \u001b[0mself\u001b[0m\u001b[1;33m.\u001b[0m\u001b[0mnames\u001b[0m \u001b[1;33m=\u001b[0m \u001b[0mnumpy\u001b[0m\u001b[1;33m.\u001b[0m\u001b[0marray\u001b[0m\u001b[1;33m(\u001b[0m\u001b[0mself\u001b[0m\u001b[1;33m.\u001b[0m\u001b[0mnames\u001b[0m\u001b[1;33m)\u001b[0m\u001b[1;33m[\u001b[0m\u001b[0mnumpy\u001b[0m\u001b[1;33m.\u001b[0m\u001b[0mnonzero\u001b[0m\u001b[1;33m(\u001b[0m\u001b[0mfinal_feat2\u001b[0m\u001b[1;33m.\u001b[0m\u001b[0msum\u001b[0m\u001b[1;33m(\u001b[0m\u001b[0maxis\u001b[0m\u001b[1;33m=\u001b[0m\u001b[1;36m0\u001b[0m\u001b[1;33m)\u001b[0m\u001b[1;33m)\u001b[0m\u001b[1;33m[\u001b[0m\u001b[1;36m0\u001b[0m\u001b[1;33m]\u001b[0m\u001b[1;33m]\u001b[0m\u001b[1;33m\u001b[0m\u001b[0m\n\u001b[0;32m     59\u001b[0m         \u001b[1;32mif\u001b[0m \u001b[0mself\u001b[0m\u001b[1;33m.\u001b[0m\u001b[0mnorm\u001b[0m\u001b[1;33m:\u001b[0m\u001b[1;33m\u001b[0m\u001b[0m\n\u001b[1;32m---> 60\u001b[1;33m             \u001b[0mfinal_feat3\u001b[0m \u001b[1;33m=\u001b[0m \u001b[0mnormalize\u001b[0m\u001b[1;33m(\u001b[0m\u001b[0mnumpy\u001b[0m\u001b[1;33m.\u001b[0m\u001b[0marray\u001b[0m\u001b[1;33m(\u001b[0m\u001b[0mfinal_feat3\u001b[0m\u001b[1;33m)\u001b[0m\u001b[1;33m,\u001b[0m \u001b[0mnorm\u001b[0m\u001b[1;33m=\u001b[0m\u001b[1;34m'l1'\u001b[0m\u001b[1;33m,\u001b[0m \u001b[0maxis\u001b[0m\u001b[1;33m=\u001b[0m\u001b[1;36m0\u001b[0m\u001b[1;33m)\u001b[0m\u001b[1;33m\u001b[0m\u001b[0m\n\u001b[0m\u001b[0;32m     61\u001b[0m             \u001b[1;32mreturn\u001b[0m \u001b[0mfinal_feat3\u001b[0m\u001b[1;33m\u001b[0m\u001b[0m\n\u001b[0;32m     62\u001b[0m             \u001b[1;31m#return normalize(numpy.array(final_feat), norm='l1', axis=self.norm_axis)\u001b[0m\u001b[1;33m\u001b[0m\u001b[1;33m\u001b[0m\u001b[0m\n",
      "\u001b[1;32m/usr/local/lib/python2.7/dist-packages/sklearn/preprocessing/data.pyc\u001b[0m in \u001b[0;36mnormalize\u001b[1;34m(X, norm, axis, copy)\u001b[0m\n\u001b[0;32m   1278\u001b[0m \u001b[1;33m\u001b[0m\u001b[0m\n\u001b[0;32m   1279\u001b[0m     X = check_array(X, sparse_format, copy=copy, warn_on_dtype=True,\n\u001b[1;32m-> 1280\u001b[1;33m                     estimator='the normalize function', dtype=FLOAT_DTYPES)\n\u001b[0m\u001b[0;32m   1281\u001b[0m     \u001b[1;32mif\u001b[0m \u001b[0maxis\u001b[0m \u001b[1;33m==\u001b[0m \u001b[1;36m0\u001b[0m\u001b[1;33m:\u001b[0m\u001b[1;33m\u001b[0m\u001b[0m\n\u001b[0;32m   1282\u001b[0m         \u001b[0mX\u001b[0m \u001b[1;33m=\u001b[0m \u001b[0mX\u001b[0m\u001b[1;33m.\u001b[0m\u001b[0mT\u001b[0m\u001b[1;33m\u001b[0m\u001b[0m\n",
      "\u001b[1;32m/usr/local/lib/python2.7/dist-packages/sklearn/utils/validation.pyc\u001b[0m in \u001b[0;36mcheck_array\u001b[1;34m(array, accept_sparse, dtype, order, copy, force_all_finite, ensure_2d, allow_nd, ensure_min_samples, ensure_min_features, warn_on_dtype, estimator)\u001b[0m\n\u001b[0;32m    413\u001b[0m                              \u001b[1;34m\" a minimum of %d is required%s.\"\u001b[0m\u001b[1;33m\u001b[0m\u001b[0m\n\u001b[0;32m    414\u001b[0m                              % (n_features, shape_repr, ensure_min_features,\n\u001b[1;32m--> 415\u001b[1;33m                                 context))\n\u001b[0m\u001b[0;32m    416\u001b[0m \u001b[1;33m\u001b[0m\u001b[0m\n\u001b[0;32m    417\u001b[0m     \u001b[1;32mif\u001b[0m \u001b[0mwarn_on_dtype\u001b[0m \u001b[1;32mand\u001b[0m \u001b[0mdtype_orig\u001b[0m \u001b[1;32mis\u001b[0m \u001b[1;32mnot\u001b[0m \u001b[0mNone\u001b[0m \u001b[1;32mand\u001b[0m \u001b[0marray\u001b[0m\u001b[1;33m.\u001b[0m\u001b[0mdtype\u001b[0m \u001b[1;33m!=\u001b[0m \u001b[0mdtype_orig\u001b[0m\u001b[1;33m:\u001b[0m\u001b[1;33m\u001b[0m\u001b[0m\n",
      "\u001b[1;31mValueError\u001b[0m: Found array with 0 feature(s) (shape=(242, 0)) while a minimum of 1 is required by the normalize function."
     ]
    }
   ],
   "source": [
    "tr = aa.fit_transform(X_train)"
   ]
  },
  {
   "cell_type": "code",
   "execution_count": 69,
   "metadata": {
    "collapsed": false
   },
   "outputs": [
    {
     "name": "stdout",
     "output_type": "stream",
     "text": [
      "348 88 436 436\n",
      "Fitting 4 folds for each of 6 candidates, totalling 24 fits\n",
      "Indexes\n",
      "Indexes\n",
      "[  0   4   8  10  11  12  14  15  16  17  18  19  20  21  22  23  24  25\n",
      "  26  27  28  29  32  35  36  38  39  40  64  89  90 106 116 136 137 138\n",
      " 140 141 142 143 144 145 146 147 148 149 150 151 152 153 154 155 158 160\n",
      " 161 162 165 170 190 197 199 209 215 216 217 226][  0   4   8  10  11  12  14  15  16  17  18  19  20  21  22  23  24  25\n",
      "  26  28  29  32  35  36  38  39  40  64  89 102 106 116 136 137 138 140\n",
      " 141 142 143 144 145 146 147 148 149 150 151 152 153 154 158 161 162 165\n",
      " 166 167 170 190 197 199 209 215 216 226]\n",
      "\n",
      "Names\n",
      "Names\n",
      "(262,)\n",
      "(262,)\n",
      "(260, 66)\n",
      "(260, 64)\n",
      "IndexesIndexes\n",
      "\n",
      "[  4  10  11  14  15  16  17  18  19  20  21  23  24  26  28  29  32  35\n",
      "  38  39  64 102 136 137 140 141 142 143 144 145 147 149 150 151 152 153\n",
      " 154 162 166 167 190 197 199 215 216][  0   4   8  10  11  12  14  15  16  17  18  19  20  21  22  24  26  27\n",
      "  28  29  32  35  36  38  39  64  90 106 116 136 137 138 140 141 142 143\n",
      " 144 145 147 148 149 150 151 152 153 154 155 160 197 215 217]\n",
      "\n",
      "Names\n",
      "Names\n",
      "(66,)\n",
      "(64,)\n"
     ]
    },
    {
     "name": "stderr",
     "output_type": "stream",
     "text": [
      "/usr/local/lib/python2.7/dist-packages/sklearn/utils/validation.py:420: DataConversionWarning: Data with input dtype int64 was converted to float64 by the normalize function.\n",
      "  warnings.warn(msg, DataConversionWarning)\n",
      "/usr/local/lib/python2.7/dist-packages/sklearn/utils/validation.py:420: DataConversionWarning: Data with input dtype int64 was converted to float64 by the normalize function.\n",
      "  warnings.warn(msg, DataConversionWarning)\n"
     ]
    },
    {
     "ename": "JoblibIndexError",
     "evalue": "JoblibIndexError\n___________________________________________________________________________\nMultiprocessing exception:\n...........................................................................\n/usr/lib/python2.7/runpy.py in _run_module_as_main(mod_name='ipykernel.__main__', alter_argv=1)\n    157     pkg_name = mod_name.rpartition('.')[0]\n    158     main_globals = sys.modules[\"__main__\"].__dict__\n    159     if alter_argv:\n    160         sys.argv[0] = fname\n    161     return _run_code(code, main_globals, None,\n--> 162                      \"__main__\", fname, loader, pkg_name)\n        fname = '/usr/local/lib/python2.7/dist-packages/ipykernel/__main__.py'\n        loader = <pkgutil.ImpLoader instance>\n        pkg_name = 'ipykernel'\n    163 \n    164 def run_module(mod_name, init_globals=None,\n    165                run_name=None, alter_sys=False):\n    166     \"\"\"Execute a module's code without importing it\n\n...........................................................................\n/usr/lib/python2.7/runpy.py in _run_code(code=<code object <module> at 0x7f8d01683930, file \"/...2.7/dist-packages/ipykernel/__main__.py\", line 1>, run_globals={'__builtins__': <module '__builtin__' (built-in)>, '__doc__': None, '__file__': '/usr/local/lib/python2.7/dist-packages/ipykernel/__main__.py', '__loader__': <pkgutil.ImpLoader instance>, '__name__': '__main__', '__package__': 'ipykernel', 'app': <module 'ipykernel.kernelapp' from '/usr/local/lib/python2.7/dist-packages/ipykernel/kernelapp.pyc'>}, init_globals=None, mod_name='__main__', mod_fname='/usr/local/lib/python2.7/dist-packages/ipykernel/__main__.py', mod_loader=<pkgutil.ImpLoader instance>, pkg_name='ipykernel')\n     67         run_globals.update(init_globals)\n     68     run_globals.update(__name__ = mod_name,\n     69                        __file__ = mod_fname,\n     70                        __loader__ = mod_loader,\n     71                        __package__ = pkg_name)\n---> 72     exec code in run_globals\n        code = <code object <module> at 0x7f8d01683930, file \"/...2.7/dist-packages/ipykernel/__main__.py\", line 1>\n        run_globals = {'__builtins__': <module '__builtin__' (built-in)>, '__doc__': None, '__file__': '/usr/local/lib/python2.7/dist-packages/ipykernel/__main__.py', '__loader__': <pkgutil.ImpLoader instance>, '__name__': '__main__', '__package__': 'ipykernel', 'app': <module 'ipykernel.kernelapp' from '/usr/local/lib/python2.7/dist-packages/ipykernel/kernelapp.pyc'>}\n     73     return run_globals\n     74 \n     75 def _run_module_code(code, init_globals=None,\n     76                     mod_name=None, mod_fname=None,\n\n...........................................................................\n/usr/local/lib/python2.7/dist-packages/ipykernel/__main__.py in <module>()\n      1 \n      2 \n----> 3 \n      4 if __name__ == '__main__':\n      5     from ipykernel import kernelapp as app\n      6     app.launch_new_instance()\n      7 \n      8 \n      9 \n     10 \n\n...........................................................................\n/usr/local/lib/python2.7/dist-packages/traitlets/config/application.py in launch_instance(cls=<class 'ipykernel.kernelapp.IPKernelApp'>, argv=None, **kwargs={})\n    584         \n    585         If a global instance already exists, this reinitializes and starts it\n    586         \"\"\"\n    587         app = cls.instance(**kwargs)\n    588         app.initialize(argv)\n--> 589         app.start()\n        app.start = <bound method IPKernelApp.start of <ipykernel.kernelapp.IPKernelApp object>>\n    590 \n    591 #-----------------------------------------------------------------------------\n    592 # utility functions, for convenience\n    593 #-----------------------------------------------------------------------------\n\n...........................................................................\n/usr/local/lib/python2.7/dist-packages/ipykernel/kernelapp.py in start(self=<ipykernel.kernelapp.IPKernelApp object>)\n    400         \n    401         if self.poller is not None:\n    402             self.poller.start()\n    403         self.kernel.start()\n    404         try:\n--> 405             ioloop.IOLoop.instance().start()\n    406         except KeyboardInterrupt:\n    407             pass\n    408 \n    409 launch_new_instance = IPKernelApp.launch_instance\n\n...........................................................................\n/usr/local/lib/python2.7/dist-packages/zmq/eventloop/ioloop.py in start(self=<zmq.eventloop.ioloop.ZMQIOLoop object>)\n    157             PollIOLoop.configure(ZMQIOLoop)\n    158         return PollIOLoop.current(*args, **kwargs)\n    159     \n    160     def start(self):\n    161         try:\n--> 162             super(ZMQIOLoop, self).start()\n        self.start = <bound method ZMQIOLoop.start of <zmq.eventloop.ioloop.ZMQIOLoop object>>\n    163         except ZMQError as e:\n    164             if e.errno == ETERM:\n    165                 # quietly return on ETERM\n    166                 pass\n\n...........................................................................\n/usr/local/lib/python2.7/dist-packages/tornado-4.3-py2.7-linux-x86_64.egg/tornado/ioloop.py in start(self=<zmq.eventloop.ioloop.ZMQIOLoop object>)\n    878                 self._events.update(event_pairs)\n    879                 while self._events:\n    880                     fd, events = self._events.popitem()\n    881                     try:\n    882                         fd_obj, handler_func = self._handlers[fd]\n--> 883                         handler_func(fd_obj, events)\n        handler_func = <function null_wrapper>\n        fd_obj = <zmq.sugar.socket.Socket object>\n        events = 1\n    884                     except (OSError, IOError) as e:\n    885                         if errno_from_exception(e) == errno.EPIPE:\n    886                             # Happens when the client closes the connection\n    887                             pass\n\n...........................................................................\n/usr/local/lib/python2.7/dist-packages/tornado-4.3-py2.7-linux-x86_64.egg/tornado/stack_context.py in null_wrapper(*args=(<zmq.sugar.socket.Socket object>, 1), **kwargs={})\n    270         # Fast path when there are no active contexts.\n    271         def null_wrapper(*args, **kwargs):\n    272             try:\n    273                 current_state = _state.contexts\n    274                 _state.contexts = cap_contexts[0]\n--> 275                 return fn(*args, **kwargs)\n        args = (<zmq.sugar.socket.Socket object>, 1)\n        kwargs = {}\n    276             finally:\n    277                 _state.contexts = current_state\n    278         null_wrapper._wrapped = True\n    279         return null_wrapper\n\n...........................................................................\n/usr/local/lib/python2.7/dist-packages/zmq/eventloop/zmqstream.py in _handle_events(self=<zmq.eventloop.zmqstream.ZMQStream object>, fd=<zmq.sugar.socket.Socket object>, events=1)\n    435             # dispatch events:\n    436             if events & IOLoop.ERROR:\n    437                 gen_log.error(\"got POLLERR event on ZMQStream, which doesn't make sense\")\n    438                 return\n    439             if events & IOLoop.READ:\n--> 440                 self._handle_recv()\n        self._handle_recv = <bound method ZMQStream._handle_recv of <zmq.eventloop.zmqstream.ZMQStream object>>\n    441                 if not self.socket:\n    442                     return\n    443             if events & IOLoop.WRITE:\n    444                 self._handle_send()\n\n...........................................................................\n/usr/local/lib/python2.7/dist-packages/zmq/eventloop/zmqstream.py in _handle_recv(self=<zmq.eventloop.zmqstream.ZMQStream object>)\n    467                 gen_log.error(\"RECV Error: %s\"%zmq.strerror(e.errno))\n    468         else:\n    469             if self._recv_callback:\n    470                 callback = self._recv_callback\n    471                 # self._recv_callback = None\n--> 472                 self._run_callback(callback, msg)\n        self._run_callback = <bound method ZMQStream._run_callback of <zmq.eventloop.zmqstream.ZMQStream object>>\n        callback = <function null_wrapper>\n        msg = [<zmq.sugar.frame.Frame object>, <zmq.sugar.frame.Frame object>, <zmq.sugar.frame.Frame object>, <zmq.sugar.frame.Frame object>, <zmq.sugar.frame.Frame object>, <zmq.sugar.frame.Frame object>, <zmq.sugar.frame.Frame object>]\n    473                 \n    474         # self.update_state()\n    475         \n    476 \n\n...........................................................................\n/usr/local/lib/python2.7/dist-packages/zmq/eventloop/zmqstream.py in _run_callback(self=<zmq.eventloop.zmqstream.ZMQStream object>, callback=<function null_wrapper>, *args=([<zmq.sugar.frame.Frame object>, <zmq.sugar.frame.Frame object>, <zmq.sugar.frame.Frame object>, <zmq.sugar.frame.Frame object>, <zmq.sugar.frame.Frame object>, <zmq.sugar.frame.Frame object>, <zmq.sugar.frame.Frame object>],), **kwargs={})\n    409         close our socket.\"\"\"\n    410         try:\n    411             # Use a NullContext to ensure that all StackContexts are run\n    412             # inside our blanket exception handler rather than outside.\n    413             with stack_context.NullContext():\n--> 414                 callback(*args, **kwargs)\n        callback = <function null_wrapper>\n        args = ([<zmq.sugar.frame.Frame object>, <zmq.sugar.frame.Frame object>, <zmq.sugar.frame.Frame object>, <zmq.sugar.frame.Frame object>, <zmq.sugar.frame.Frame object>, <zmq.sugar.frame.Frame object>, <zmq.sugar.frame.Frame object>],)\n        kwargs = {}\n    415         except:\n    416             gen_log.error(\"Uncaught exception, closing connection.\",\n    417                           exc_info=True)\n    418             # Close the socket on an uncaught exception from a user callback\n\n...........................................................................\n/usr/local/lib/python2.7/dist-packages/tornado-4.3-py2.7-linux-x86_64.egg/tornado/stack_context.py in null_wrapper(*args=([<zmq.sugar.frame.Frame object>, <zmq.sugar.frame.Frame object>, <zmq.sugar.frame.Frame object>, <zmq.sugar.frame.Frame object>, <zmq.sugar.frame.Frame object>, <zmq.sugar.frame.Frame object>, <zmq.sugar.frame.Frame object>],), **kwargs={})\n    270         # Fast path when there are no active contexts.\n    271         def null_wrapper(*args, **kwargs):\n    272             try:\n    273                 current_state = _state.contexts\n    274                 _state.contexts = cap_contexts[0]\n--> 275                 return fn(*args, **kwargs)\n        args = ([<zmq.sugar.frame.Frame object>, <zmq.sugar.frame.Frame object>, <zmq.sugar.frame.Frame object>, <zmq.sugar.frame.Frame object>, <zmq.sugar.frame.Frame object>, <zmq.sugar.frame.Frame object>, <zmq.sugar.frame.Frame object>],)\n        kwargs = {}\n    276             finally:\n    277                 _state.contexts = current_state\n    278         null_wrapper._wrapped = True\n    279         return null_wrapper\n\n...........................................................................\n/usr/local/lib/python2.7/dist-packages/ipykernel/kernelbase.py in dispatcher(msg=[<zmq.sugar.frame.Frame object>, <zmq.sugar.frame.Frame object>, <zmq.sugar.frame.Frame object>, <zmq.sugar.frame.Frame object>, <zmq.sugar.frame.Frame object>, <zmq.sugar.frame.Frame object>, <zmq.sugar.frame.Frame object>])\n    255         if self.control_stream:\n    256             self.control_stream.on_recv(self.dispatch_control, copy=False)\n    257 \n    258         def make_dispatcher(stream):\n    259             def dispatcher(msg):\n--> 260                 return self.dispatch_shell(stream, msg)\n        msg = [<zmq.sugar.frame.Frame object>, <zmq.sugar.frame.Frame object>, <zmq.sugar.frame.Frame object>, <zmq.sugar.frame.Frame object>, <zmq.sugar.frame.Frame object>, <zmq.sugar.frame.Frame object>, <zmq.sugar.frame.Frame object>]\n    261             return dispatcher\n    262 \n    263         for s in self.shell_streams:\n    264             s.on_recv(make_dispatcher(s), copy=False)\n\n...........................................................................\n/usr/local/lib/python2.7/dist-packages/ipykernel/kernelbase.py in dispatch_shell(self=<ipykernel.ipkernel.IPythonKernel object>, stream=<zmq.eventloop.zmqstream.ZMQStream object>, msg={'buffers': [], 'content': {'allow_stdin': True, 'code': 'from sklearn.cross_validation import train_test_...t_estimator_) \\nbest = grid_search.best_estimator_', 'silent': False, 'stop_on_error': True, 'store_history': True, 'user_expressions': {}}, 'header': {'date': '2016-11-14T17:43:10.052043', 'msg_id': '62D810C1A64640D48A3BEA6F4A8D8075', 'msg_type': 'execute_request', 'session': 'C9DC4ED682F9437B85C131741637BBBC', 'username': 'username', 'version': '5.0'}, 'metadata': {}, 'msg_id': '62D810C1A64640D48A3BEA6F4A8D8075', 'msg_type': 'execute_request', 'parent_header': {}})\n    207             self.log.error(\"UNKNOWN MESSAGE TYPE: %r\", msg_type)\n    208         else:\n    209             self.log.debug(\"%s: %s\", msg_type, msg)\n    210             self.pre_handler_hook()\n    211             try:\n--> 212                 handler(stream, idents, msg)\n        handler = <bound method IPythonKernel.execute_request of <ipykernel.ipkernel.IPythonKernel object>>\n        stream = <zmq.eventloop.zmqstream.ZMQStream object>\n        idents = ['C9DC4ED682F9437B85C131741637BBBC']\n        msg = {'buffers': [], 'content': {'allow_stdin': True, 'code': 'from sklearn.cross_validation import train_test_...t_estimator_) \\nbest = grid_search.best_estimator_', 'silent': False, 'stop_on_error': True, 'store_history': True, 'user_expressions': {}}, 'header': {'date': '2016-11-14T17:43:10.052043', 'msg_id': '62D810C1A64640D48A3BEA6F4A8D8075', 'msg_type': 'execute_request', 'session': 'C9DC4ED682F9437B85C131741637BBBC', 'username': 'username', 'version': '5.0'}, 'metadata': {}, 'msg_id': '62D810C1A64640D48A3BEA6F4A8D8075', 'msg_type': 'execute_request', 'parent_header': {}}\n    213             except Exception:\n    214                 self.log.error(\"Exception in message handler:\", exc_info=True)\n    215             finally:\n    216                 self.post_handler_hook()\n\n...........................................................................\n/usr/local/lib/python2.7/dist-packages/ipykernel/kernelbase.py in execute_request(self=<ipykernel.ipkernel.IPythonKernel object>, stream=<zmq.eventloop.zmqstream.ZMQStream object>, ident=['C9DC4ED682F9437B85C131741637BBBC'], parent={'buffers': [], 'content': {'allow_stdin': True, 'code': 'from sklearn.cross_validation import train_test_...t_estimator_) \\nbest = grid_search.best_estimator_', 'silent': False, 'stop_on_error': True, 'store_history': True, 'user_expressions': {}}, 'header': {'date': '2016-11-14T17:43:10.052043', 'msg_id': '62D810C1A64640D48A3BEA6F4A8D8075', 'msg_type': 'execute_request', 'session': 'C9DC4ED682F9437B85C131741637BBBC', 'username': 'username', 'version': '5.0'}, 'metadata': {}, 'msg_id': '62D810C1A64640D48A3BEA6F4A8D8075', 'msg_type': 'execute_request', 'parent_header': {}})\n    365         if not silent:\n    366             self.execution_count += 1\n    367             self._publish_execute_input(code, parent, self.execution_count)\n    368 \n    369         reply_content = self.do_execute(code, silent, store_history,\n--> 370                                         user_expressions, allow_stdin)\n        user_expressions = {}\n        allow_stdin = True\n    371 \n    372         # Flush output before sending the reply.\n    373         sys.stdout.flush()\n    374         sys.stderr.flush()\n\n...........................................................................\n/usr/local/lib/python2.7/dist-packages/ipykernel/ipkernel.py in do_execute(self=<ipykernel.ipkernel.IPythonKernel object>, code=u'from sklearn.cross_validation import train_tes...estimator_) \\nbest = grid_search.best_estimator_', silent=False, store_history=True, user_expressions={}, allow_stdin=True)\n    170 \n    171         reply_content = {}\n    172         # FIXME: the shell calls the exception handler itself.\n    173         shell._reply_content = None\n    174         try:\n--> 175             shell.run_cell(code, store_history=store_history, silent=silent)\n        shell.run_cell = <bound method ZMQInteractiveShell.run_cell of <ipykernel.zmqshell.ZMQInteractiveShell object>>\n        code = u'from sklearn.cross_validation import train_tes...estimator_) \\nbest = grid_search.best_estimator_'\n        store_history = True\n        silent = False\n    176         except:\n    177             status = u'error'\n    178             # FIXME: this code right now isn't being used yet by default,\n    179             # because the run_cell() call above directly fires off exception\n\n...........................................................................\n/usr/local/lib/python2.7/dist-packages/IPython/core/interactiveshell.py in run_cell(self=<ipykernel.zmqshell.ZMQInteractiveShell object>, raw_cell=u'from sklearn.cross_validation import train_tes...estimator_) \\nbest = grid_search.best_estimator_', store_history=True, silent=False, shell_futures=True)\n   2897                 self.displayhook.exec_result = result\n   2898 \n   2899                 # Execute the user code\n   2900                 interactivity = \"none\" if silent else self.ast_node_interactivity\n   2901                 self.run_ast_nodes(code_ast.body, cell_name,\n-> 2902                    interactivity=interactivity, compiler=compiler, result=result)\n        interactivity = 'last_expr'\n        compiler = <IPython.core.compilerop.CachingCompiler instance>\n   2903 \n   2904                 # Reset this so later displayed values do not modify the\n   2905                 # ExecutionResult\n   2906                 self.displayhook.exec_result = None\n\n...........................................................................\n/usr/local/lib/python2.7/dist-packages/IPython/core/interactiveshell.py in run_ast_nodes(self=<ipykernel.zmqshell.ZMQInteractiveShell object>, nodelist=[<_ast.ImportFrom object>, <_ast.ImportFrom object>, <_ast.ImportFrom object>, <_ast.ImportFrom object>, <_ast.ImportFrom object>, <_ast.ImportFrom object>, <_ast.Assign object>, <_ast.Assign object>, <_ast.Assign object>, <_ast.Assign object>, <_ast.Assign object>, <_ast.Assign object>, <_ast.Assign object>, <_ast.Assign object>, <_ast.Assign object>, <_ast.Assign object>, <_ast.Assign object>, <_ast.Print object>, <_ast.Assign object>, <_ast.For object>, ...], cell_name='<ipython-input-69-cff36440402c>', interactivity='none', compiler=<IPython.core.compilerop.CachingCompiler instance>, result=<IPython.core.interactiveshell.ExecutionResult object>)\n   3001 \n   3002         try:\n   3003             for i, node in enumerate(to_run_exec):\n   3004                 mod = ast.Module([node])\n   3005                 code = compiler(mod, cell_name, \"exec\")\n-> 3006                 if self.run_code(code, result):\n        self.run_code = <bound method ZMQInteractiveShell.run_code of <ipykernel.zmqshell.ZMQInteractiveShell object>>\n        code = <code object <module> at 0x7f8caae2e330, file \"<ipython-input-69-cff36440402c>\", line 29>\n        result = <IPython.core.interactiveshell.ExecutionResult object>\n   3007                     return True\n   3008 \n   3009             for i, node in enumerate(to_run_interactive):\n   3010                 mod = ast.Interactive([node])\n\n...........................................................................\n/usr/local/lib/python2.7/dist-packages/IPython/core/interactiveshell.py in run_code(self=<ipykernel.zmqshell.ZMQInteractiveShell object>, code_obj=<code object <module> at 0x7f8caae2e330, file \"<ipython-input-69-cff36440402c>\", line 29>, result=<IPython.core.interactiveshell.ExecutionResult object>)\n   3061         outflag = 1  # happens in more places, so it's easier as default\n   3062         try:\n   3063             try:\n   3064                 self.hooks.pre_run_code_hook()\n   3065                 #rprint('Running code', repr(code_obj)) # dbg\n-> 3066                 exec(code_obj, self.user_global_ns, self.user_ns)\n        code_obj = <code object <module> at 0x7f8caae2e330, file \"<ipython-input-69-cff36440402c>\", line 29>\n        self.user_global_ns = {'ArgumentParser': <class 'argparse.ArgumentParser'>, 'BaseEstimator': <class 'sklearn.base.BaseEstimator'>, 'CharFeatureExtractor': <class '__main__.CharFeatureExtractor'>, 'EmoticonExtractor': <class '__main__.EmoticonExtractor'>, 'FeatureUnion': <class 'sklearn.pipeline.FeatureUnion'>, 'GridSearchCV': <class 'sklearn.grid_search.GridSearchCV'>, 'In': ['', u'import os\\nfrom argparse import ArgumentParser...  # load data\\n    X, y = dataset.get_data(task)', u'#reload(preprocess)\\n#reload(features)\\nfrom p...$$$$$$$$$$$$$$$$$$$$$$$$$$$$$$$$$$\"\\n#print X[0]', u'from sklearn.pipeline import Pipeline, Feature...estimator_) \\nbest = grid_search.best_estimator_', u'from sklearn.pipeline import Pipeline, Feature...estimator_) \\nbest = grid_search.best_estimator_', u'from sklearn.pipeline import Pipeline, Feature...est_params_)\\nbest = grid_search.best_estimator_', u\"print('Best_params')\\nprint(grid_search.best_params_)\", u\"print('Best_params')\\nprint(grid_search.grid_scores_)\", u'import json\\nwith open(\"../DATA/graph-twitter/...int len(X), len(y)\\nX = preprocess.preprocess(X)', u'y', u'from sklearn.pipeline import Pipeline, Feature...est_params_)\\nbest = grid_search.best_estimator_', u\"print('Best_params')\\nprint(grid_search.grid_scores_)\", u\"from pan import ProfilingDataset, createDocPro...sk)\\nprint len(X)\\n#X = preprocess.preprocess(X)\", u'from sklearn.pipeline import Pipeline, Feature...id_scores_)\\n#best = grid_search.best_estimator_', u'import json\\nwith open(\"../DATA/graph-twitter/...int len(X), len(y)\\nX = preprocess.preprocess(X)', u\"from sklearn.metrics import accuracy_score, co...int('Classification report :\\\\n {}'.format(rep))\", u'from sklearn.pipeline import Pipeline, Feature...id_scores_)\\n#best = grid_search.best_estimator_', u\"from pan import ProfilingDataset, createDocPro...sk)\\nprint len(X)\\n#X = preprocess.preprocess(X)\", u'from sklearn.pipeline import Pipeline, Feature...rid_scores_)\\nbest = grid_search.best_estimator_', u'import json\\nwith open(\"../DATA/graph-twitter/...int len(X), len(y)\\nX = preprocess.preprocess(X)', ...], 'LinearSVC': <class 'sklearn.svm.classes.LinearSVC'>, 'Out': {9: [u'female', u'female', u'female', u'female', u'male', u'male', u'female', u'female', u'male', u'male', u'male', u'male', u'female', u'female', u'female', u'male', u'female', u'female', u'male', u'male', ...], 45: [u'An ocean obsessed Spanish chef brings plankton... ARG Poll \\n\\nTrump    +  \\nClinton  \\nJohnson  ', u'RT  BREAKING  Inside Sources CONFIRM Host SUPP...r  The true  the false and everything in between', u'College educated white women are Hillary Clint...mnesty International locked out of Moscow office', u'Saudi government inks more lobbyists as Congre...y cool thing for a random Cubs fan before Game  ', u'An ocean obsessed Spanish chef brings plankton... ARG Poll \\n\\nTrump    +  \\nClinton  \\nJohnson  ', u'Apparent hacking leads to profane  Crooked Hil...3c2 \\u03c7\\u03b1\\u03c7\\u03b1\\u03c7 ellinofreneia', u'Here s where your Senate races stand   The epi... primary since    Bernie Sanders stood no chance', u'Neiman Marcus sells collard greens for $   and...l to let terminally ill patients end their lives', u'Neiman Marcus sells collard greens for $   and...l to let terminally ill patients end their lives', u'Is Virginia warming up to pot   Why a federal ...f602\\U0001f600\\U0001f600\\U0001f600 ellinofreneia', u'Evenings are about to get a lot darker \\u2014 ...ason due to sexually explicit  scouting reports ', u'When was America great  Opinion  Let\\u2019s sh... break   year old World Series \\u2018curse\\u2019', u'RT  PodestaEmails \\nErdogan  Turkey s radical ...de Can an anti Trump surge of voters sway Texas ', u' Reporters aren\\u2019t supposed to give things...ame after me  via How to eat for an energy boost', u'This principal and secretary take heat for Tru... Big changes are afoot at Victoria\\u2019s Secret', u'Metro Board Chairman Jack Evans urges federal ...b4\\u03ce\\u03c3\\u03b5\\u03b9\\u03c2 \\nellinofreneia', u'RT  Alabama death row inmate Thomas Arthur s e... just might have helped end the Cubs\\u2019 curse', u' I\\u2019m not a monster  A teen horror blogger...c4\\u03c3\\u03bf\\u03bb\\u03b9\\u03ac   ellinofreneia', u'Five things we still don\\u2019t know about Hil...cretary take heat for Trump and Clinton costumes', u'The ramifications of law enforcement advocatin... on par with Trump  Post ABC Tracking poll finds', ...]}, 'Pipeline': <class 'sklearn.pipeline.Pipeline'>, ...}\n        self.user_ns = {'ArgumentParser': <class 'argparse.ArgumentParser'>, 'BaseEstimator': <class 'sklearn.base.BaseEstimator'>, 'CharFeatureExtractor': <class '__main__.CharFeatureExtractor'>, 'EmoticonExtractor': <class '__main__.EmoticonExtractor'>, 'FeatureUnion': <class 'sklearn.pipeline.FeatureUnion'>, 'GridSearchCV': <class 'sklearn.grid_search.GridSearchCV'>, 'In': ['', u'import os\\nfrom argparse import ArgumentParser...  # load data\\n    X, y = dataset.get_data(task)', u'#reload(preprocess)\\n#reload(features)\\nfrom p...$$$$$$$$$$$$$$$$$$$$$$$$$$$$$$$$$$\"\\n#print X[0]', u'from sklearn.pipeline import Pipeline, Feature...estimator_) \\nbest = grid_search.best_estimator_', u'from sklearn.pipeline import Pipeline, Feature...estimator_) \\nbest = grid_search.best_estimator_', u'from sklearn.pipeline import Pipeline, Feature...est_params_)\\nbest = grid_search.best_estimator_', u\"print('Best_params')\\nprint(grid_search.best_params_)\", u\"print('Best_params')\\nprint(grid_search.grid_scores_)\", u'import json\\nwith open(\"../DATA/graph-twitter/...int len(X), len(y)\\nX = preprocess.preprocess(X)', u'y', u'from sklearn.pipeline import Pipeline, Feature...est_params_)\\nbest = grid_search.best_estimator_', u\"print('Best_params')\\nprint(grid_search.grid_scores_)\", u\"from pan import ProfilingDataset, createDocPro...sk)\\nprint len(X)\\n#X = preprocess.preprocess(X)\", u'from sklearn.pipeline import Pipeline, Feature...id_scores_)\\n#best = grid_search.best_estimator_', u'import json\\nwith open(\"../DATA/graph-twitter/...int len(X), len(y)\\nX = preprocess.preprocess(X)', u\"from sklearn.metrics import accuracy_score, co...int('Classification report :\\\\n {}'.format(rep))\", u'from sklearn.pipeline import Pipeline, Feature...id_scores_)\\n#best = grid_search.best_estimator_', u\"from pan import ProfilingDataset, createDocPro...sk)\\nprint len(X)\\n#X = preprocess.preprocess(X)\", u'from sklearn.pipeline import Pipeline, Feature...rid_scores_)\\nbest = grid_search.best_estimator_', u'import json\\nwith open(\"../DATA/graph-twitter/...int len(X), len(y)\\nX = preprocess.preprocess(X)', ...], 'LinearSVC': <class 'sklearn.svm.classes.LinearSVC'>, 'Out': {9: [u'female', u'female', u'female', u'female', u'male', u'male', u'female', u'female', u'male', u'male', u'male', u'male', u'female', u'female', u'female', u'male', u'female', u'female', u'male', u'male', ...], 45: [u'An ocean obsessed Spanish chef brings plankton... ARG Poll \\n\\nTrump    +  \\nClinton  \\nJohnson  ', u'RT  BREAKING  Inside Sources CONFIRM Host SUPP...r  The true  the false and everything in between', u'College educated white women are Hillary Clint...mnesty International locked out of Moscow office', u'Saudi government inks more lobbyists as Congre...y cool thing for a random Cubs fan before Game  ', u'An ocean obsessed Spanish chef brings plankton... ARG Poll \\n\\nTrump    +  \\nClinton  \\nJohnson  ', u'Apparent hacking leads to profane  Crooked Hil...3c2 \\u03c7\\u03b1\\u03c7\\u03b1\\u03c7 ellinofreneia', u'Here s where your Senate races stand   The epi... primary since    Bernie Sanders stood no chance', u'Neiman Marcus sells collard greens for $   and...l to let terminally ill patients end their lives', u'Neiman Marcus sells collard greens for $   and...l to let terminally ill patients end their lives', u'Is Virginia warming up to pot   Why a federal ...f602\\U0001f600\\U0001f600\\U0001f600 ellinofreneia', u'Evenings are about to get a lot darker \\u2014 ...ason due to sexually explicit  scouting reports ', u'When was America great  Opinion  Let\\u2019s sh... break   year old World Series \\u2018curse\\u2019', u'RT  PodestaEmails \\nErdogan  Turkey s radical ...de Can an anti Trump surge of voters sway Texas ', u' Reporters aren\\u2019t supposed to give things...ame after me  via How to eat for an energy boost', u'This principal and secretary take heat for Tru... Big changes are afoot at Victoria\\u2019s Secret', u'Metro Board Chairman Jack Evans urges federal ...b4\\u03ce\\u03c3\\u03b5\\u03b9\\u03c2 \\nellinofreneia', u'RT  Alabama death row inmate Thomas Arthur s e... just might have helped end the Cubs\\u2019 curse', u' I\\u2019m not a monster  A teen horror blogger...c4\\u03c3\\u03bf\\u03bb\\u03b9\\u03ac   ellinofreneia', u'Five things we still don\\u2019t know about Hil...cretary take heat for Trump and Clinton costumes', u'The ramifications of law enforcement advocatin... on par with Trump  Post ABC Tracking poll finds', ...]}, 'Pipeline': <class 'sklearn.pipeline.Pipeline'>, ...}\n   3067             finally:\n   3068                 # Reset our crash handler in place\n   3069                 sys.excepthook = old_excepthook\n   3070         except SystemExit as e:\n\n...........................................................................\n/media/kostas/DATA/GIT/PAN16/<ipython-input-69-cff36440402c> in <module>()\n     27 # params = {}\n     28 params = {'svm__C': [0.001, 0.01, 0.1, 1, 10, 100]}\n     29 for model in [pipe1]:\n     30     grid_search = GridSearchCV(estimator=model, param_grid=params, verbose=1, n_jobs=2, cv=num_folds, \n     31                                    refit=True, scoring='f1_weighted')\n---> 32     grid_search.fit(X_train,y_train)\n     33     print(grid_search.best_score_)\n     34     print(grid_search.best_estimator_) \n     35 best = grid_search.best_estimator_\n     36 \n\n...........................................................................\n/usr/local/lib/python2.7/dist-packages/sklearn/grid_search.py in fit(self=GridSearchCV(cv=4, error_score='raise',\n       e...it=True, scoring='f1_weighted',\n       verbose=1), X=[u'<a href=\"/BobMiller146\" class=\"twitter-atreply...user-id=\"29526003\" ><s>@</s><b>luxeagent</b></a>', u'The Media Journalist Daily is out! <a href=\"ht...ser-id=\"18771370\" ><s>@</s><b>ErikWemple</b></a>', u'Innovation Isn\\u2019t \\u2018Creativity,\\u2019 ...class=\"invisible\">&nbsp;</span>\\u2026</span></a>', u'You\\u2019re using this conspiracy theory as an...ento!\\n@SonrisaDesigual Muy de Cucumberhot... ;)', u'Alzheimer&#39;s Resource Center and Lifestyle ...<span class=\"invisible\">&nbsp;</span></span></a>', u'Wonder how this approach compares to what Chen...ensive tactics to MS+Apple&#39;s offensive ones.', u'<a href=\"/cadencesport\" class=\"twitter-atreply... cercat Barcelona i tot eren perfils corporatius', u'it is unfortunate that Lee&#39;s first act as ...<span class=\"invisible\">&nbsp;</span></span></a>', u'<a href=\"/zulahni\" class=\"twitter-atreply pret...me column, at the front edge of the fire escape.', u'I am a Samsung Paralympic Blogger - watch all ...-id=\"321336256\" ><s>@</s><b>Paralimpicos</b></a>', u'<a href=\"/howden_africa\" class=\"twitter-atrepl...d=\"true\" dir=\"ltr\" >pic.twitter.com/2Gfm0Xbj</a>', u'Sundays in <a href=\"/hashtag/Cork?src=hash\" da...js-nav\" dir=\"ltr\" ><s>#</s><b>MarkAsRead</b></a>', u'Listening to <a href=\"/clsaarinen\" class=\"twit...<span class=\"invisible\">&nbsp;</span></span></a>', u'&quot;<a href=\"/UxioMalvido\" class=\"twitter-at...class=\"invisible\">&nbsp;</span>\\u2026</span></a>', u'<a href=\"/Infinityindies\" class=\"twitter-atrep...<span class=\"invisible\">&nbsp;</span></span></a>', u'Nueva imagen de Batman vs Deathstroke en el v\\...span></a> Iron Man Mark Z Armour, corto fan-film', u'&quot;Young people need to be able to communic...r-id=\"1168811833\" ><s>@</s><b>mikraemer</b></a>)', u'He runs, I follow! <a href=\"/AllisterF\" class=...<span class=\"invisible\">&nbsp;</span></span></a>', u'NEW!!! Google Page Rank Update 2011 <a href=\"h...M? Anybody used them?\\nDo u use SEO Power Suite?', u'<a href=\"/jamiekilstein\" class=\"twitter-atrepl...class=\"invisible\">&nbsp;</span>\\u2026</span></a>', ...], y=['male', 'female', 'male', 'female', 'female', 'male', 'female', 'female', 'male', 'female', 'female', 'male', 'female', 'female', 'male', 'male', 'female', 'female', 'male', 'male', ...])\n    799         y : array-like, shape = [n_samples] or [n_samples, n_output], optional\n    800             Target relative to X for classification or regression;\n    801             None for unsupervised learning.\n    802 \n    803         \"\"\"\n--> 804         return self._fit(X, y, ParameterGrid(self.param_grid))\n        self._fit = <bound method GridSearchCV._fit of GridSearchCV(...t=True, scoring='f1_weighted',\n       verbose=1)>\n        X = [u'<a href=\"/BobMiller146\" class=\"twitter-atreply...user-id=\"29526003\" ><s>@</s><b>luxeagent</b></a>', u'The Media Journalist Daily is out! <a href=\"ht...ser-id=\"18771370\" ><s>@</s><b>ErikWemple</b></a>', u'Innovation Isn\\u2019t \\u2018Creativity,\\u2019 ...class=\"invisible\">&nbsp;</span>\\u2026</span></a>', u'You\\u2019re using this conspiracy theory as an...ento!\\n@SonrisaDesigual Muy de Cucumberhot... ;)', u'Alzheimer&#39;s Resource Center and Lifestyle ...<span class=\"invisible\">&nbsp;</span></span></a>', u'Wonder how this approach compares to what Chen...ensive tactics to MS+Apple&#39;s offensive ones.', u'<a href=\"/cadencesport\" class=\"twitter-atreply... cercat Barcelona i tot eren perfils corporatius', u'it is unfortunate that Lee&#39;s first act as ...<span class=\"invisible\">&nbsp;</span></span></a>', u'<a href=\"/zulahni\" class=\"twitter-atreply pret...me column, at the front edge of the fire escape.', u'I am a Samsung Paralympic Blogger - watch all ...-id=\"321336256\" ><s>@</s><b>Paralimpicos</b></a>', u'<a href=\"/howden_africa\" class=\"twitter-atrepl...d=\"true\" dir=\"ltr\" >pic.twitter.com/2Gfm0Xbj</a>', u'Sundays in <a href=\"/hashtag/Cork?src=hash\" da...js-nav\" dir=\"ltr\" ><s>#</s><b>MarkAsRead</b></a>', u'Listening to <a href=\"/clsaarinen\" class=\"twit...<span class=\"invisible\">&nbsp;</span></span></a>', u'&quot;<a href=\"/UxioMalvido\" class=\"twitter-at...class=\"invisible\">&nbsp;</span>\\u2026</span></a>', u'<a href=\"/Infinityindies\" class=\"twitter-atrep...<span class=\"invisible\">&nbsp;</span></span></a>', u'Nueva imagen de Batman vs Deathstroke en el v\\...span></a> Iron Man Mark Z Armour, corto fan-film', u'&quot;Young people need to be able to communic...r-id=\"1168811833\" ><s>@</s><b>mikraemer</b></a>)', u'He runs, I follow! <a href=\"/AllisterF\" class=...<span class=\"invisible\">&nbsp;</span></span></a>', u'NEW!!! Google Page Rank Update 2011 <a href=\"h...M? Anybody used them?\\nDo u use SEO Power Suite?', u'<a href=\"/jamiekilstein\" class=\"twitter-atrepl...class=\"invisible\">&nbsp;</span>\\u2026</span></a>', ...]\n        y = ['male', 'female', 'male', 'female', 'female', 'male', 'female', 'female', 'male', 'female', 'female', 'male', 'female', 'female', 'male', 'male', 'female', 'female', 'male', 'male', ...]\n        self.param_grid = {'svm__C': [0.001, 0.01, 0.1, 1, 10, 100]}\n    805 \n    806 \n    807 class RandomizedSearchCV(BaseSearchCV):\n    808     \"\"\"Randomized search on hyper parameters.\n\n...........................................................................\n/usr/local/lib/python2.7/dist-packages/sklearn/grid_search.py in _fit(self=GridSearchCV(cv=4, error_score='raise',\n       e...it=True, scoring='f1_weighted',\n       verbose=1), X=[u'<a href=\"/BobMiller146\" class=\"twitter-atreply...user-id=\"29526003\" ><s>@</s><b>luxeagent</b></a>', u'The Media Journalist Daily is out! <a href=\"ht...ser-id=\"18771370\" ><s>@</s><b>ErikWemple</b></a>', u'Innovation Isn\\u2019t \\u2018Creativity,\\u2019 ...class=\"invisible\">&nbsp;</span>\\u2026</span></a>', u'You\\u2019re using this conspiracy theory as an...ento!\\n@SonrisaDesigual Muy de Cucumberhot... ;)', u'Alzheimer&#39;s Resource Center and Lifestyle ...<span class=\"invisible\">&nbsp;</span></span></a>', u'Wonder how this approach compares to what Chen...ensive tactics to MS+Apple&#39;s offensive ones.', u'<a href=\"/cadencesport\" class=\"twitter-atreply... cercat Barcelona i tot eren perfils corporatius', u'it is unfortunate that Lee&#39;s first act as ...<span class=\"invisible\">&nbsp;</span></span></a>', u'<a href=\"/zulahni\" class=\"twitter-atreply pret...me column, at the front edge of the fire escape.', u'I am a Samsung Paralympic Blogger - watch all ...-id=\"321336256\" ><s>@</s><b>Paralimpicos</b></a>', u'<a href=\"/howden_africa\" class=\"twitter-atrepl...d=\"true\" dir=\"ltr\" >pic.twitter.com/2Gfm0Xbj</a>', u'Sundays in <a href=\"/hashtag/Cork?src=hash\" da...js-nav\" dir=\"ltr\" ><s>#</s><b>MarkAsRead</b></a>', u'Listening to <a href=\"/clsaarinen\" class=\"twit...<span class=\"invisible\">&nbsp;</span></span></a>', u'&quot;<a href=\"/UxioMalvido\" class=\"twitter-at...class=\"invisible\">&nbsp;</span>\\u2026</span></a>', u'<a href=\"/Infinityindies\" class=\"twitter-atrep...<span class=\"invisible\">&nbsp;</span></span></a>', u'Nueva imagen de Batman vs Deathstroke en el v\\...span></a> Iron Man Mark Z Armour, corto fan-film', u'&quot;Young people need to be able to communic...r-id=\"1168811833\" ><s>@</s><b>mikraemer</b></a>)', u'He runs, I follow! <a href=\"/AllisterF\" class=...<span class=\"invisible\">&nbsp;</span></span></a>', u'NEW!!! Google Page Rank Update 2011 <a href=\"h...M? Anybody used them?\\nDo u use SEO Power Suite?', u'<a href=\"/jamiekilstein\" class=\"twitter-atrepl...class=\"invisible\">&nbsp;</span>\\u2026</span></a>', ...], y=['male', 'female', 'male', 'female', 'female', 'male', 'female', 'female', 'male', 'female', 'female', 'male', 'female', 'female', 'male', 'male', 'female', 'female', 'male', 'male', ...], parameter_iterable=<sklearn.grid_search.ParameterGrid object>)\n    548         )(\n    549             delayed(_fit_and_score)(clone(base_estimator), X, y, self.scorer_,\n    550                                     train, test, self.verbose, parameters,\n    551                                     self.fit_params, return_parameters=True,\n    552                                     error_score=self.error_score)\n--> 553                 for parameters in parameter_iterable\n        parameters = undefined\n        parameter_iterable = <sklearn.grid_search.ParameterGrid object>\n    554                 for train, test in cv)\n    555 \n    556         # Out is a list of triplet: score, estimator, n_test_samples\n    557         n_fits = len(out)\n\n...........................................................................\n/usr/local/lib/python2.7/dist-packages/sklearn/externals/joblib/parallel.py in __call__(self=Parallel(n_jobs=2), iterable=<generator object <genexpr>>)\n    805             if pre_dispatch == \"all\" or n_jobs == 1:\n    806                 # The iterable was consumed all at once by the above for loop.\n    807                 # No need to wait for async callbacks to trigger to\n    808                 # consumption.\n    809                 self._iterating = False\n--> 810             self.retrieve()\n        self.retrieve = <bound method Parallel.retrieve of Parallel(n_jobs=2)>\n    811             # Make sure that we get a last message telling us we are done\n    812             elapsed_time = time.time() - self._start_time\n    813             self._print('Done %3i out of %3i | elapsed: %s finished',\n    814                         (len(self._output), len(self._output),\n\n---------------------------------------------------------------------------\nSub-process traceback:\n---------------------------------------------------------------------------\nIndexError                                         Mon Nov 14 17:43:33 2016\nPID: 388                                      Python 2.7.6: /usr/bin/python\n...........................................................................\n/usr/local/lib/python2.7/dist-packages/sklearn/externals/joblib/parallel.py in __call__(self=<sklearn.externals.joblib.parallel.BatchedCalls object>)\n     67     def __init__(self, iterator_slice):\n     68         self.items = list(iterator_slice)\n     69         self._size = len(self.items)\n     70 \n     71     def __call__(self):\n---> 72         return [func(*args, **kwargs) for func, args, kwargs in self.items]\n        func = <function _fit_and_score>\n        args = <type 'tuple'> instance\n        kwargs = {'error_score': 'raise', 'return_parameters': True}\n        self.items = <type 'list'> instance\n     73 \n     74     def __len__(self):\n     75         return self._size\n     76 \n\n...........................................................................\n/usr/local/lib/python2.7/dist-packages/sklearn/cross_validation.py in _fit_and_score(estimator=Pipeline(steps=[('CharCount', EmoticonExtractor(...e, shrinking=True,\n  tol=0.001, verbose=False))]), X=[u'<a href=\"/BobMiller146\" class=\"twitter-atreply...user-id=\"29526003\" ><s>@</s><b>luxeagent</b></a>', u'The Media Journalist Daily is out! <a href=\"ht...ser-id=\"18771370\" ><s>@</s><b>ErikWemple</b></a>', u'Innovation Isn\\u2019t \\u2018Creativity,\\u2019 ...class=\"invisible\">&nbsp;</span>\\u2026</span></a>', u'You\\u2019re using this conspiracy theory as an...ento!\\n@SonrisaDesigual Muy de Cucumberhot... ;)', u'Alzheimer&#39;s Resource Center and Lifestyle ...<span class=\"invisible\">&nbsp;</span></span></a>', u'Wonder how this approach compares to what Chen...ensive tactics to MS+Apple&#39;s offensive ones.', u'<a href=\"/cadencesport\" class=\"twitter-atreply... cercat Barcelona i tot eren perfils corporatius', u'it is unfortunate that Lee&#39;s first act as ...<span class=\"invisible\">&nbsp;</span></span></a>', u'<a href=\"/zulahni\" class=\"twitter-atreply pret...me column, at the front edge of the fire escape.', u'I am a Samsung Paralympic Blogger - watch all ...-id=\"321336256\" ><s>@</s><b>Paralimpicos</b></a>', u'<a href=\"/howden_africa\" class=\"twitter-atrepl...d=\"true\" dir=\"ltr\" >pic.twitter.com/2Gfm0Xbj</a>', u'Sundays in <a href=\"/hashtag/Cork?src=hash\" da...js-nav\" dir=\"ltr\" ><s>#</s><b>MarkAsRead</b></a>', u'Listening to <a href=\"/clsaarinen\" class=\"twit...<span class=\"invisible\">&nbsp;</span></span></a>', u'&quot;<a href=\"/UxioMalvido\" class=\"twitter-at...class=\"invisible\">&nbsp;</span>\\u2026</span></a>', u'<a href=\"/Infinityindies\" class=\"twitter-atrep...<span class=\"invisible\">&nbsp;</span></span></a>', u'Nueva imagen de Batman vs Deathstroke en el v\\...span></a> Iron Man Mark Z Armour, corto fan-film', u'&quot;Young people need to be able to communic...r-id=\"1168811833\" ><s>@</s><b>mikraemer</b></a>)', u'He runs, I follow! <a href=\"/AllisterF\" class=...<span class=\"invisible\">&nbsp;</span></span></a>', u'NEW!!! Google Page Rank Update 2011 <a href=\"h...M? Anybody used them?\\nDo u use SEO Power Suite?', u'<a href=\"/jamiekilstein\" class=\"twitter-atrepl...class=\"invisible\">&nbsp;</span>\\u2026</span></a>', ...], y=['male', 'female', 'male', 'female', 'female', 'male', 'female', 'female', 'male', 'female', 'female', 'male', 'female', 'female', 'male', 'male', 'female', 'female', 'male', 'male', ...], scorer=<class 'sklearn.metrics.scorer._PredictScorer'> instance, train=array([ 88,  89,  90,  91,  92,  93,  94,  95,  ...38, 339, 340, 341, 342, 343, 344, 345, 346, 347]), test=array([ 0,  1,  2,  3,  4,  5,  6,  7,  8,  9, 1..., 78, 79, 80, 81, 82, 83, 84,\n       85, 86, 87]), verbose=1, parameters={'svm__C': 0.001}, fit_params={}, return_train_score=False, return_parameters=True, error_score='raise')\n   1545                              \" numeric value. (Hint: if using 'raise', please\"\n   1546                              \" make sure that it has been spelled correctly.)\"\n   1547                              )\n   1548 \n   1549     else:\n-> 1550         test_score = _score(estimator, X_test, y_test, scorer)\n        test_score = undefined\n        estimator = Pipeline(steps=[('CharCount', EmoticonExtractor(...e, shrinking=True,\n  tol=0.001, verbose=False))])\n        X_test = [u'<a href=\"/BobMiller146\" class=\"twitter-atreply...user-id=\"29526003\" ><s>@</s><b>luxeagent</b></a>', u'The Media Journalist Daily is out! <a href=\"ht...ser-id=\"18771370\" ><s>@</s><b>ErikWemple</b></a>', u'Innovation Isn\\u2019t \\u2018Creativity,\\u2019 ...class=\"invisible\">&nbsp;</span>\\u2026</span></a>', u'You\\u2019re using this conspiracy theory as an...ento!\\n@SonrisaDesigual Muy de Cucumberhot... ;)', u'Alzheimer&#39;s Resource Center and Lifestyle ...<span class=\"invisible\">&nbsp;</span></span></a>', u'Wonder how this approach compares to what Chen...ensive tactics to MS+Apple&#39;s offensive ones.', u'<a href=\"/cadencesport\" class=\"twitter-atreply... cercat Barcelona i tot eren perfils corporatius', u'it is unfortunate that Lee&#39;s first act as ...<span class=\"invisible\">&nbsp;</span></span></a>', u'<a href=\"/zulahni\" class=\"twitter-atreply pret...me column, at the front edge of the fire escape.', u'I am a Samsung Paralympic Blogger - watch all ...-id=\"321336256\" ><s>@</s><b>Paralimpicos</b></a>', u'<a href=\"/howden_africa\" class=\"twitter-atrepl...d=\"true\" dir=\"ltr\" >pic.twitter.com/2Gfm0Xbj</a>', u'Sundays in <a href=\"/hashtag/Cork?src=hash\" da...js-nav\" dir=\"ltr\" ><s>#</s><b>MarkAsRead</b></a>', u'Listening to <a href=\"/clsaarinen\" class=\"twit...<span class=\"invisible\">&nbsp;</span></span></a>', u'&quot;<a href=\"/UxioMalvido\" class=\"twitter-at...class=\"invisible\">&nbsp;</span>\\u2026</span></a>', u'<a href=\"/Infinityindies\" class=\"twitter-atrep...<span class=\"invisible\">&nbsp;</span></span></a>', u'Nueva imagen de Batman vs Deathstroke en el v\\...span></a> Iron Man Mark Z Armour, corto fan-film', u'&quot;Young people need to be able to communic...r-id=\"1168811833\" ><s>@</s><b>mikraemer</b></a>)', u'He runs, I follow! <a href=\"/AllisterF\" class=...<span class=\"invisible\">&nbsp;</span></span></a>', u'NEW!!! Google Page Rank Update 2011 <a href=\"h...M? Anybody used them?\\nDo u use SEO Power Suite?', u'<a href=\"/jamiekilstein\" class=\"twitter-atrepl...class=\"invisible\">&nbsp;</span>\\u2026</span></a>', ...]\n        y_test = ['male', 'female', 'male', 'female', 'female', 'male', 'female', 'female', 'male', 'female', 'female', 'male', 'female', 'female', 'male', 'male', 'female', 'female', 'male', 'male', ...]\n        scorer = <class 'sklearn.metrics.scorer._PredictScorer'> instance\n   1551         if return_train_score:\n   1552             train_score = _score(estimator, X_train, y_train, scorer)\n   1553 \n   1554     scoring_time = time.time() - start_time\n\n...........................................................................\n/usr/local/lib/python2.7/dist-packages/sklearn/cross_validation.py in _score(estimator=Pipeline(steps=[('CharCount', EmoticonExtractor(...e, shrinking=True,\n  tol=0.001, verbose=False))]), X_test=[u'<a href=\"/BobMiller146\" class=\"twitter-atreply...user-id=\"29526003\" ><s>@</s><b>luxeagent</b></a>', u'The Media Journalist Daily is out! <a href=\"ht...ser-id=\"18771370\" ><s>@</s><b>ErikWemple</b></a>', u'Innovation Isn\\u2019t \\u2018Creativity,\\u2019 ...class=\"invisible\">&nbsp;</span>\\u2026</span></a>', u'You\\u2019re using this conspiracy theory as an...ento!\\n@SonrisaDesigual Muy de Cucumberhot... ;)', u'Alzheimer&#39;s Resource Center and Lifestyle ...<span class=\"invisible\">&nbsp;</span></span></a>', u'Wonder how this approach compares to what Chen...ensive tactics to MS+Apple&#39;s offensive ones.', u'<a href=\"/cadencesport\" class=\"twitter-atreply... cercat Barcelona i tot eren perfils corporatius', u'it is unfortunate that Lee&#39;s first act as ...<span class=\"invisible\">&nbsp;</span></span></a>', u'<a href=\"/zulahni\" class=\"twitter-atreply pret...me column, at the front edge of the fire escape.', u'I am a Samsung Paralympic Blogger - watch all ...-id=\"321336256\" ><s>@</s><b>Paralimpicos</b></a>', u'<a href=\"/howden_africa\" class=\"twitter-atrepl...d=\"true\" dir=\"ltr\" >pic.twitter.com/2Gfm0Xbj</a>', u'Sundays in <a href=\"/hashtag/Cork?src=hash\" da...js-nav\" dir=\"ltr\" ><s>#</s><b>MarkAsRead</b></a>', u'Listening to <a href=\"/clsaarinen\" class=\"twit...<span class=\"invisible\">&nbsp;</span></span></a>', u'&quot;<a href=\"/UxioMalvido\" class=\"twitter-at...class=\"invisible\">&nbsp;</span>\\u2026</span></a>', u'<a href=\"/Infinityindies\" class=\"twitter-atrep...<span class=\"invisible\">&nbsp;</span></span></a>', u'Nueva imagen de Batman vs Deathstroke en el v\\...span></a> Iron Man Mark Z Armour, corto fan-film', u'&quot;Young people need to be able to communic...r-id=\"1168811833\" ><s>@</s><b>mikraemer</b></a>)', u'He runs, I follow! <a href=\"/AllisterF\" class=...<span class=\"invisible\">&nbsp;</span></span></a>', u'NEW!!! Google Page Rank Update 2011 <a href=\"h...M? Anybody used them?\\nDo u use SEO Power Suite?', u'<a href=\"/jamiekilstein\" class=\"twitter-atrepl...class=\"invisible\">&nbsp;</span>\\u2026</span></a>', ...], y_test=['male', 'female', 'male', 'female', 'female', 'male', 'female', 'female', 'male', 'female', 'female', 'male', 'female', 'female', 'male', 'male', 'female', 'female', 'male', 'male', ...], scorer=<class 'sklearn.metrics.scorer._PredictScorer'> instance)\n   1601 def _score(estimator, X_test, y_test, scorer):\n   1602     \"\"\"Compute the score of an estimator on a given test set.\"\"\"\n   1603     if y_test is None:\n   1604         score = scorer(estimator, X_test)\n   1605     else:\n-> 1606         score = scorer(estimator, X_test, y_test)\n        score = undefined\n        scorer = <class 'sklearn.metrics.scorer._PredictScorer'> instance\n        estimator = Pipeline(steps=[('CharCount', EmoticonExtractor(...e, shrinking=True,\n  tol=0.001, verbose=False))])\n        X_test = [u'<a href=\"/BobMiller146\" class=\"twitter-atreply...user-id=\"29526003\" ><s>@</s><b>luxeagent</b></a>', u'The Media Journalist Daily is out! <a href=\"ht...ser-id=\"18771370\" ><s>@</s><b>ErikWemple</b></a>', u'Innovation Isn\\u2019t \\u2018Creativity,\\u2019 ...class=\"invisible\">&nbsp;</span>\\u2026</span></a>', u'You\\u2019re using this conspiracy theory as an...ento!\\n@SonrisaDesigual Muy de Cucumberhot... ;)', u'Alzheimer&#39;s Resource Center and Lifestyle ...<span class=\"invisible\">&nbsp;</span></span></a>', u'Wonder how this approach compares to what Chen...ensive tactics to MS+Apple&#39;s offensive ones.', u'<a href=\"/cadencesport\" class=\"twitter-atreply... cercat Barcelona i tot eren perfils corporatius', u'it is unfortunate that Lee&#39;s first act as ...<span class=\"invisible\">&nbsp;</span></span></a>', u'<a href=\"/zulahni\" class=\"twitter-atreply pret...me column, at the front edge of the fire escape.', u'I am a Samsung Paralympic Blogger - watch all ...-id=\"321336256\" ><s>@</s><b>Paralimpicos</b></a>', u'<a href=\"/howden_africa\" class=\"twitter-atrepl...d=\"true\" dir=\"ltr\" >pic.twitter.com/2Gfm0Xbj</a>', u'Sundays in <a href=\"/hashtag/Cork?src=hash\" da...js-nav\" dir=\"ltr\" ><s>#</s><b>MarkAsRead</b></a>', u'Listening to <a href=\"/clsaarinen\" class=\"twit...<span class=\"invisible\">&nbsp;</span></span></a>', u'&quot;<a href=\"/UxioMalvido\" class=\"twitter-at...class=\"invisible\">&nbsp;</span>\\u2026</span></a>', u'<a href=\"/Infinityindies\" class=\"twitter-atrep...<span class=\"invisible\">&nbsp;</span></span></a>', u'Nueva imagen de Batman vs Deathstroke en el v\\...span></a> Iron Man Mark Z Armour, corto fan-film', u'&quot;Young people need to be able to communic...r-id=\"1168811833\" ><s>@</s><b>mikraemer</b></a>)', u'He runs, I follow! <a href=\"/AllisterF\" class=...<span class=\"invisible\">&nbsp;</span></span></a>', u'NEW!!! Google Page Rank Update 2011 <a href=\"h...M? Anybody used them?\\nDo u use SEO Power Suite?', u'<a href=\"/jamiekilstein\" class=\"twitter-atrepl...class=\"invisible\">&nbsp;</span>\\u2026</span></a>', ...]\n        y_test = ['male', 'female', 'male', 'female', 'female', 'male', 'female', 'female', 'male', 'female', 'female', 'male', 'female', 'female', 'male', 'male', 'female', 'female', 'male', 'male', ...]\n   1607     if not isinstance(score, numbers.Number):\n   1608         raise ValueError(\"scoring must return a number, got %s (%s) instead.\"\n   1609                          % (str(score), type(score)))\n   1610     return score\n\n...........................................................................\n/usr/local/lib/python2.7/dist-packages/sklearn/metrics/scorer.py in __call__(self=<class 'sklearn.metrics.scorer._PredictScorer'> instance, estimator=Pipeline(steps=[('CharCount', EmoticonExtractor(...e, shrinking=True,\n  tol=0.001, verbose=False))]), X=[u'<a href=\"/BobMiller146\" class=\"twitter-atreply...user-id=\"29526003\" ><s>@</s><b>luxeagent</b></a>', u'The Media Journalist Daily is out! <a href=\"ht...ser-id=\"18771370\" ><s>@</s><b>ErikWemple</b></a>', u'Innovation Isn\\u2019t \\u2018Creativity,\\u2019 ...class=\"invisible\">&nbsp;</span>\\u2026</span></a>', u'You\\u2019re using this conspiracy theory as an...ento!\\n@SonrisaDesigual Muy de Cucumberhot... ;)', u'Alzheimer&#39;s Resource Center and Lifestyle ...<span class=\"invisible\">&nbsp;</span></span></a>', u'Wonder how this approach compares to what Chen...ensive tactics to MS+Apple&#39;s offensive ones.', u'<a href=\"/cadencesport\" class=\"twitter-atreply... cercat Barcelona i tot eren perfils corporatius', u'it is unfortunate that Lee&#39;s first act as ...<span class=\"invisible\">&nbsp;</span></span></a>', u'<a href=\"/zulahni\" class=\"twitter-atreply pret...me column, at the front edge of the fire escape.', u'I am a Samsung Paralympic Blogger - watch all ...-id=\"321336256\" ><s>@</s><b>Paralimpicos</b></a>', u'<a href=\"/howden_africa\" class=\"twitter-atrepl...d=\"true\" dir=\"ltr\" >pic.twitter.com/2Gfm0Xbj</a>', u'Sundays in <a href=\"/hashtag/Cork?src=hash\" da...js-nav\" dir=\"ltr\" ><s>#</s><b>MarkAsRead</b></a>', u'Listening to <a href=\"/clsaarinen\" class=\"twit...<span class=\"invisible\">&nbsp;</span></span></a>', u'&quot;<a href=\"/UxioMalvido\" class=\"twitter-at...class=\"invisible\">&nbsp;</span>\\u2026</span></a>', u'<a href=\"/Infinityindies\" class=\"twitter-atrep...<span class=\"invisible\">&nbsp;</span></span></a>', u'Nueva imagen de Batman vs Deathstroke en el v\\...span></a> Iron Man Mark Z Armour, corto fan-film', u'&quot;Young people need to be able to communic...r-id=\"1168811833\" ><s>@</s><b>mikraemer</b></a>)', u'He runs, I follow! <a href=\"/AllisterF\" class=...<span class=\"invisible\">&nbsp;</span></span></a>', u'NEW!!! Google Page Rank Update 2011 <a href=\"h...M? Anybody used them?\\nDo u use SEO Power Suite?', u'<a href=\"/jamiekilstein\" class=\"twitter-atrepl...class=\"invisible\">&nbsp;</span>\\u2026</span></a>', ...], y_true=['male', 'female', 'male', 'female', 'female', 'male', 'female', 'female', 'male', 'female', 'female', 'male', 'female', 'female', 'male', 'male', 'female', 'female', 'male', 'male', ...], sample_weight=None)\n     78         Returns\n     79         -------\n     80         score : float\n     81             Score function applied to prediction of estimator on X.\n     82         \"\"\"\n---> 83         y_pred = estimator.predict(X)\n        y_pred = undefined\n        estimator.predict = <function predict>\n        X = [u'<a href=\"/BobMiller146\" class=\"twitter-atreply...user-id=\"29526003\" ><s>@</s><b>luxeagent</b></a>', u'The Media Journalist Daily is out! <a href=\"ht...ser-id=\"18771370\" ><s>@</s><b>ErikWemple</b></a>', u'Innovation Isn\\u2019t \\u2018Creativity,\\u2019 ...class=\"invisible\">&nbsp;</span>\\u2026</span></a>', u'You\\u2019re using this conspiracy theory as an...ento!\\n@SonrisaDesigual Muy de Cucumberhot... ;)', u'Alzheimer&#39;s Resource Center and Lifestyle ...<span class=\"invisible\">&nbsp;</span></span></a>', u'Wonder how this approach compares to what Chen...ensive tactics to MS+Apple&#39;s offensive ones.', u'<a href=\"/cadencesport\" class=\"twitter-atreply... cercat Barcelona i tot eren perfils corporatius', u'it is unfortunate that Lee&#39;s first act as ...<span class=\"invisible\">&nbsp;</span></span></a>', u'<a href=\"/zulahni\" class=\"twitter-atreply pret...me column, at the front edge of the fire escape.', u'I am a Samsung Paralympic Blogger - watch all ...-id=\"321336256\" ><s>@</s><b>Paralimpicos</b></a>', u'<a href=\"/howden_africa\" class=\"twitter-atrepl...d=\"true\" dir=\"ltr\" >pic.twitter.com/2Gfm0Xbj</a>', u'Sundays in <a href=\"/hashtag/Cork?src=hash\" da...js-nav\" dir=\"ltr\" ><s>#</s><b>MarkAsRead</b></a>', u'Listening to <a href=\"/clsaarinen\" class=\"twit...<span class=\"invisible\">&nbsp;</span></span></a>', u'&quot;<a href=\"/UxioMalvido\" class=\"twitter-at...class=\"invisible\">&nbsp;</span>\\u2026</span></a>', u'<a href=\"/Infinityindies\" class=\"twitter-atrep...<span class=\"invisible\">&nbsp;</span></span></a>', u'Nueva imagen de Batman vs Deathstroke en el v\\...span></a> Iron Man Mark Z Armour, corto fan-film', u'&quot;Young people need to be able to communic...r-id=\"1168811833\" ><s>@</s><b>mikraemer</b></a>)', u'He runs, I follow! <a href=\"/AllisterF\" class=...<span class=\"invisible\">&nbsp;</span></span></a>', u'NEW!!! Google Page Rank Update 2011 <a href=\"h...M? Anybody used them?\\nDo u use SEO Power Suite?', u'<a href=\"/jamiekilstein\" class=\"twitter-atrepl...class=\"invisible\">&nbsp;</span>\\u2026</span></a>', ...]\n     84         if sample_weight is not None:\n     85             return self._sign * self._score_func(y_true, y_pred,\n     86                                                  sample_weight=sample_weight,\n     87                                                  **self._kwargs)\n\n...........................................................................\n/usr/local/lib/python2.7/dist-packages/sklearn/utils/metaestimators.py in <lambda>(*args=([u'<a href=\"/BobMiller146\" class=\"twitter-atreply...user-id=\"29526003\" ><s>@</s><b>luxeagent</b></a>', u'The Media Journalist Daily is out! <a href=\"ht...ser-id=\"18771370\" ><s>@</s><b>ErikWemple</b></a>', u'Innovation Isn\\u2019t \\u2018Creativity,\\u2019 ...class=\"invisible\">&nbsp;</span>\\u2026</span></a>', u'You\\u2019re using this conspiracy theory as an...ento!\\n@SonrisaDesigual Muy de Cucumberhot... ;)', u'Alzheimer&#39;s Resource Center and Lifestyle ...<span class=\"invisible\">&nbsp;</span></span></a>', u'Wonder how this approach compares to what Chen...ensive tactics to MS+Apple&#39;s offensive ones.', u'<a href=\"/cadencesport\" class=\"twitter-atreply... cercat Barcelona i tot eren perfils corporatius', u'it is unfortunate that Lee&#39;s first act as ...<span class=\"invisible\">&nbsp;</span></span></a>', u'<a href=\"/zulahni\" class=\"twitter-atreply pret...me column, at the front edge of the fire escape.', u'I am a Samsung Paralympic Blogger - watch all ...-id=\"321336256\" ><s>@</s><b>Paralimpicos</b></a>', u'<a href=\"/howden_africa\" class=\"twitter-atrepl...d=\"true\" dir=\"ltr\" >pic.twitter.com/2Gfm0Xbj</a>', u'Sundays in <a href=\"/hashtag/Cork?src=hash\" da...js-nav\" dir=\"ltr\" ><s>#</s><b>MarkAsRead</b></a>', u'Listening to <a href=\"/clsaarinen\" class=\"twit...<span class=\"invisible\">&nbsp;</span></span></a>', u'&quot;<a href=\"/UxioMalvido\" class=\"twitter-at...class=\"invisible\">&nbsp;</span>\\u2026</span></a>', u'<a href=\"/Infinityindies\" class=\"twitter-atrep...<span class=\"invisible\">&nbsp;</span></span></a>', u'Nueva imagen de Batman vs Deathstroke en el v\\...span></a> Iron Man Mark Z Armour, corto fan-film', u'&quot;Young people need to be able to communic...r-id=\"1168811833\" ><s>@</s><b>mikraemer</b></a>)', u'He runs, I follow! <a href=\"/AllisterF\" class=...<span class=\"invisible\">&nbsp;</span></span></a>', u'NEW!!! Google Page Rank Update 2011 <a href=\"h...M? Anybody used them?\\nDo u use SEO Power Suite?', u'<a href=\"/jamiekilstein\" class=\"twitter-atrepl...class=\"invisible\">&nbsp;</span>\\u2026</span></a>', ...],), **kwargs={})\n     32         if obj is not None:\n     33             # delegate only on instances, not the classes.\n     34             # this is to allow access to the docstrings.\n     35             self.get_attribute(obj)\n     36         # lambda, but not partial, allows help() to work with update_wrapper\n---> 37         out = lambda *args, **kwargs: self.fn(obj, *args, **kwargs)\n        args = ([u'<a href=\"/BobMiller146\" class=\"twitter-atreply...user-id=\"29526003\" ><s>@</s><b>luxeagent</b></a>', u'The Media Journalist Daily is out! <a href=\"ht...ser-id=\"18771370\" ><s>@</s><b>ErikWemple</b></a>', u'Innovation Isn\\u2019t \\u2018Creativity,\\u2019 ...class=\"invisible\">&nbsp;</span>\\u2026</span></a>', u'You\\u2019re using this conspiracy theory as an...ento!\\n@SonrisaDesigual Muy de Cucumberhot... ;)', u'Alzheimer&#39;s Resource Center and Lifestyle ...<span class=\"invisible\">&nbsp;</span></span></a>', u'Wonder how this approach compares to what Chen...ensive tactics to MS+Apple&#39;s offensive ones.', u'<a href=\"/cadencesport\" class=\"twitter-atreply... cercat Barcelona i tot eren perfils corporatius', u'it is unfortunate that Lee&#39;s first act as ...<span class=\"invisible\">&nbsp;</span></span></a>', u'<a href=\"/zulahni\" class=\"twitter-atreply pret...me column, at the front edge of the fire escape.', u'I am a Samsung Paralympic Blogger - watch all ...-id=\"321336256\" ><s>@</s><b>Paralimpicos</b></a>', u'<a href=\"/howden_africa\" class=\"twitter-atrepl...d=\"true\" dir=\"ltr\" >pic.twitter.com/2Gfm0Xbj</a>', u'Sundays in <a href=\"/hashtag/Cork?src=hash\" da...js-nav\" dir=\"ltr\" ><s>#</s><b>MarkAsRead</b></a>', u'Listening to <a href=\"/clsaarinen\" class=\"twit...<span class=\"invisible\">&nbsp;</span></span></a>', u'&quot;<a href=\"/UxioMalvido\" class=\"twitter-at...class=\"invisible\">&nbsp;</span>\\u2026</span></a>', u'<a href=\"/Infinityindies\" class=\"twitter-atrep...<span class=\"invisible\">&nbsp;</span></span></a>', u'Nueva imagen de Batman vs Deathstroke en el v\\...span></a> Iron Man Mark Z Armour, corto fan-film', u'&quot;Young people need to be able to communic...r-id=\"1168811833\" ><s>@</s><b>mikraemer</b></a>)', u'He runs, I follow! <a href=\"/AllisterF\" class=...<span class=\"invisible\">&nbsp;</span></span></a>', u'NEW!!! Google Page Rank Update 2011 <a href=\"h...M? Anybody used them?\\nDo u use SEO Power Suite?', u'<a href=\"/jamiekilstein\" class=\"twitter-atrepl...class=\"invisible\">&nbsp;</span>\\u2026</span></a>', ...],)\n        kwargs = {}\n     38         # update the docstring of the returned function\n     39         update_wrapper(out, self.fn)\n     40         return out\n     41 \n\n...........................................................................\n/usr/local/lib/python2.7/dist-packages/sklearn/pipeline.py in predict(self=Pipeline(steps=[('CharCount', EmoticonExtractor(...e, shrinking=True,\n  tol=0.001, verbose=False))]), X=[u'<a href=\"/BobMiller146\" class=\"twitter-atreply...user-id=\"29526003\" ><s>@</s><b>luxeagent</b></a>', u'The Media Journalist Daily is out! <a href=\"ht...ser-id=\"18771370\" ><s>@</s><b>ErikWemple</b></a>', u'Innovation Isn\\u2019t \\u2018Creativity,\\u2019 ...class=\"invisible\">&nbsp;</span>\\u2026</span></a>', u'You\\u2019re using this conspiracy theory as an...ento!\\n@SonrisaDesigual Muy de Cucumberhot... ;)', u'Alzheimer&#39;s Resource Center and Lifestyle ...<span class=\"invisible\">&nbsp;</span></span></a>', u'Wonder how this approach compares to what Chen...ensive tactics to MS+Apple&#39;s offensive ones.', u'<a href=\"/cadencesport\" class=\"twitter-atreply... cercat Barcelona i tot eren perfils corporatius', u'it is unfortunate that Lee&#39;s first act as ...<span class=\"invisible\">&nbsp;</span></span></a>', u'<a href=\"/zulahni\" class=\"twitter-atreply pret...me column, at the front edge of the fire escape.', u'I am a Samsung Paralympic Blogger - watch all ...-id=\"321336256\" ><s>@</s><b>Paralimpicos</b></a>', u'<a href=\"/howden_africa\" class=\"twitter-atrepl...d=\"true\" dir=\"ltr\" >pic.twitter.com/2Gfm0Xbj</a>', u'Sundays in <a href=\"/hashtag/Cork?src=hash\" da...js-nav\" dir=\"ltr\" ><s>#</s><b>MarkAsRead</b></a>', u'Listening to <a href=\"/clsaarinen\" class=\"twit...<span class=\"invisible\">&nbsp;</span></span></a>', u'&quot;<a href=\"/UxioMalvido\" class=\"twitter-at...class=\"invisible\">&nbsp;</span>\\u2026</span></a>', u'<a href=\"/Infinityindies\" class=\"twitter-atrep...<span class=\"invisible\">&nbsp;</span></span></a>', u'Nueva imagen de Batman vs Deathstroke en el v\\...span></a> Iron Man Mark Z Armour, corto fan-film', u'&quot;Young people need to be able to communic...r-id=\"1168811833\" ><s>@</s><b>mikraemer</b></a>)', u'He runs, I follow! <a href=\"/AllisterF\" class=...<span class=\"invisible\">&nbsp;</span></span></a>', u'NEW!!! Google Page Rank Update 2011 <a href=\"h...M? Anybody used them?\\nDo u use SEO Power Suite?', u'<a href=\"/jamiekilstein\" class=\"twitter-atrepl...class=\"invisible\">&nbsp;</span>\\u2026</span></a>', ...])\n    198             Data to predict on. Must fulfill input requirements of first step of\n    199             the pipeline.\n    200         \"\"\"\n    201         Xt = X\n    202         for name, transform in self.steps[:-1]:\n--> 203             Xt = transform.transform(Xt)\n        Xt = [u'<a href=\"/BobMiller146\" class=\"twitter-atreply...user-id=\"29526003\" ><s>@</s><b>luxeagent</b></a>', u'The Media Journalist Daily is out! <a href=\"ht...ser-id=\"18771370\" ><s>@</s><b>ErikWemple</b></a>', u'Innovation Isn\\u2019t \\u2018Creativity,\\u2019 ...class=\"invisible\">&nbsp;</span>\\u2026</span></a>', u'You\\u2019re using this conspiracy theory as an...ento!\\n@SonrisaDesigual Muy de Cucumberhot... ;)', u'Alzheimer&#39;s Resource Center and Lifestyle ...<span class=\"invisible\">&nbsp;</span></span></a>', u'Wonder how this approach compares to what Chen...ensive tactics to MS+Apple&#39;s offensive ones.', u'<a href=\"/cadencesport\" class=\"twitter-atreply... cercat Barcelona i tot eren perfils corporatius', u'it is unfortunate that Lee&#39;s first act as ...<span class=\"invisible\">&nbsp;</span></span></a>', u'<a href=\"/zulahni\" class=\"twitter-atreply pret...me column, at the front edge of the fire escape.', u'I am a Samsung Paralympic Blogger - watch all ...-id=\"321336256\" ><s>@</s><b>Paralimpicos</b></a>', u'<a href=\"/howden_africa\" class=\"twitter-atrepl...d=\"true\" dir=\"ltr\" >pic.twitter.com/2Gfm0Xbj</a>', u'Sundays in <a href=\"/hashtag/Cork?src=hash\" da...js-nav\" dir=\"ltr\" ><s>#</s><b>MarkAsRead</b></a>', u'Listening to <a href=\"/clsaarinen\" class=\"twit...<span class=\"invisible\">&nbsp;</span></span></a>', u'&quot;<a href=\"/UxioMalvido\" class=\"twitter-at...class=\"invisible\">&nbsp;</span>\\u2026</span></a>', u'<a href=\"/Infinityindies\" class=\"twitter-atrep...<span class=\"invisible\">&nbsp;</span></span></a>', u'Nueva imagen de Batman vs Deathstroke en el v\\...span></a> Iron Man Mark Z Armour, corto fan-film', u'&quot;Young people need to be able to communic...r-id=\"1168811833\" ><s>@</s><b>mikraemer</b></a>)', u'He runs, I follow! <a href=\"/AllisterF\" class=...<span class=\"invisible\">&nbsp;</span></span></a>', u'NEW!!! Google Page Rank Update 2011 <a href=\"h...M? Anybody used them?\\nDo u use SEO Power Suite?', u'<a href=\"/jamiekilstein\" class=\"twitter-atrepl...class=\"invisible\">&nbsp;</span>\\u2026</span></a>', ...]\n        transform.transform = <bound method EmoticonExtractor.transform of Emo... ';>3', ';>X'],\n         norm=True, norm_axis=0)>\n    204         return self.steps[-1][-1].predict(Xt)\n    205 \n    206     @if_delegate_has_method(delegate='_final_estimator')\n    207     def fit_predict(self, X, y=None, **fit_params):\n\n...........................................................................\n/media/kostas/DATA/GIT/PAN16/<ipython-input-65-605b5c46136b> in transform(self=EmoticonExtractor(emoticons=['*O', '*-*', '*O*',..., ';>3', ';>X'],\n         norm=True, norm_axis=0), texts=[u'<a href=\"/BobMiller146\" class=\"twitter-atreply...user-id=\"29526003\" ><s>@</s><b>luxeagent</b></a>', u'The Media Journalist Daily is out! <a href=\"ht...ser-id=\"18771370\" ><s>@</s><b>ErikWemple</b></a>', u'Innovation Isn\\u2019t \\u2018Creativity,\\u2019 ...class=\"invisible\">&nbsp;</span>\\u2026</span></a>', u'You\\u2019re using this conspiracy theory as an...ento!\\n@SonrisaDesigual Muy de Cucumberhot... ;)', u'Alzheimer&#39;s Resource Center and Lifestyle ...<span class=\"invisible\">&nbsp;</span></span></a>', u'Wonder how this approach compares to what Chen...ensive tactics to MS+Apple&#39;s offensive ones.', u'<a href=\"/cadencesport\" class=\"twitter-atreply... cercat Barcelona i tot eren perfils corporatius', u'it is unfortunate that Lee&#39;s first act as ...<span class=\"invisible\">&nbsp;</span></span></a>', u'<a href=\"/zulahni\" class=\"twitter-atreply pret...me column, at the front edge of the fire escape.', u'I am a Samsung Paralympic Blogger - watch all ...-id=\"321336256\" ><s>@</s><b>Paralimpicos</b></a>', u'<a href=\"/howden_africa\" class=\"twitter-atrepl...d=\"true\" dir=\"ltr\" >pic.twitter.com/2Gfm0Xbj</a>', u'Sundays in <a href=\"/hashtag/Cork?src=hash\" da...js-nav\" dir=\"ltr\" ><s>#</s><b>MarkAsRead</b></a>', u'Listening to <a href=\"/clsaarinen\" class=\"twit...<span class=\"invisible\">&nbsp;</span></span></a>', u'&quot;<a href=\"/UxioMalvido\" class=\"twitter-at...class=\"invisible\">&nbsp;</span>\\u2026</span></a>', u'<a href=\"/Infinityindies\" class=\"twitter-atrep...<span class=\"invisible\">&nbsp;</span></span></a>', u'Nueva imagen de Batman vs Deathstroke en el v\\...span></a> Iron Man Mark Z Armour, corto fan-film', u'&quot;Young people need to be able to communic...r-id=\"1168811833\" ><s>@</s><b>mikraemer</b></a>)', u'He runs, I follow! <a href=\"/AllisterF\" class=...<span class=\"invisible\">&nbsp;</span></span></a>', u'NEW!!! Google Page Rank Update 2011 <a href=\"h...M? Anybody used them?\\nDo u use SEO Power Suite?', u'<a href=\"/jamiekilstein\" class=\"twitter-atrepl...class=\"invisible\">&nbsp;</span>\\u2026</span></a>', ...])\n     57         final_feat3 = final_feat2[:, numpy.nonzero(final_feat2.sum(axis=0))[0]]\n     58         print 'Indexes'\n     59         print numpy.nonzero(final_feat2.sum(axis=0))[0]\n     60         print 'Names'\n     61         print numpy.array(self.names).shape\n---> 62         self.names = numpy.array(self.names)[numpy.nonzero(final_feat2.sum(axis=0))[0]]\n     63         print final_feat3.shape\n     64         if self.norm:\n     65             final_feat3 = normalize(numpy.array(final_feat3), norm='l1', axis=0)\n     66             return final_feat3\n\nIndexError: index 64 is out of bounds for axis 1 with size 64\n___________________________________________________________________________",
     "output_type": "error",
     "traceback": [
      "\u001b[1;31m---------------------------------------------------------------------------\u001b[0m",
      "\u001b[1;31mJoblibIndexError\u001b[0m                          Traceback (most recent call last)",
      "\u001b[1;32m<ipython-input-69-cff36440402c>\u001b[0m in \u001b[0;36m<module>\u001b[1;34m()\u001b[0m\n\u001b[0;32m     30\u001b[0m     grid_search = GridSearchCV(estimator=model, param_grid=params, verbose=1, n_jobs=2, cv=num_folds, \n\u001b[0;32m     31\u001b[0m                                    refit=True, scoring='f1_weighted')\n\u001b[1;32m---> 32\u001b[1;33m     \u001b[0mgrid_search\u001b[0m\u001b[1;33m.\u001b[0m\u001b[0mfit\u001b[0m\u001b[1;33m(\u001b[0m\u001b[0mX_train\u001b[0m\u001b[1;33m,\u001b[0m\u001b[0my_train\u001b[0m\u001b[1;33m)\u001b[0m\u001b[1;33m\u001b[0m\u001b[0m\n\u001b[0m\u001b[0;32m     33\u001b[0m     \u001b[1;32mprint\u001b[0m\u001b[1;33m(\u001b[0m\u001b[0mgrid_search\u001b[0m\u001b[1;33m.\u001b[0m\u001b[0mbest_score_\u001b[0m\u001b[1;33m)\u001b[0m\u001b[1;33m\u001b[0m\u001b[0m\n\u001b[0;32m     34\u001b[0m     \u001b[1;32mprint\u001b[0m\u001b[1;33m(\u001b[0m\u001b[0mgrid_search\u001b[0m\u001b[1;33m.\u001b[0m\u001b[0mbest_estimator_\u001b[0m\u001b[1;33m)\u001b[0m\u001b[1;33m\u001b[0m\u001b[0m\n",
      "\u001b[1;32m/usr/local/lib/python2.7/dist-packages/sklearn/grid_search.pyc\u001b[0m in \u001b[0;36mfit\u001b[1;34m(self, X, y)\u001b[0m\n\u001b[0;32m    802\u001b[0m \u001b[1;33m\u001b[0m\u001b[0m\n\u001b[0;32m    803\u001b[0m         \"\"\"\n\u001b[1;32m--> 804\u001b[1;33m         \u001b[1;32mreturn\u001b[0m \u001b[0mself\u001b[0m\u001b[1;33m.\u001b[0m\u001b[0m_fit\u001b[0m\u001b[1;33m(\u001b[0m\u001b[0mX\u001b[0m\u001b[1;33m,\u001b[0m \u001b[0my\u001b[0m\u001b[1;33m,\u001b[0m \u001b[0mParameterGrid\u001b[0m\u001b[1;33m(\u001b[0m\u001b[0mself\u001b[0m\u001b[1;33m.\u001b[0m\u001b[0mparam_grid\u001b[0m\u001b[1;33m)\u001b[0m\u001b[1;33m)\u001b[0m\u001b[1;33m\u001b[0m\u001b[0m\n\u001b[0m\u001b[0;32m    805\u001b[0m \u001b[1;33m\u001b[0m\u001b[0m\n\u001b[0;32m    806\u001b[0m \u001b[1;33m\u001b[0m\u001b[0m\n",
      "\u001b[1;32m/usr/local/lib/python2.7/dist-packages/sklearn/grid_search.pyc\u001b[0m in \u001b[0;36m_fit\u001b[1;34m(self, X, y, parameter_iterable)\u001b[0m\n\u001b[0;32m    551\u001b[0m                                     \u001b[0mself\u001b[0m\u001b[1;33m.\u001b[0m\u001b[0mfit_params\u001b[0m\u001b[1;33m,\u001b[0m \u001b[0mreturn_parameters\u001b[0m\u001b[1;33m=\u001b[0m\u001b[0mTrue\u001b[0m\u001b[1;33m,\u001b[0m\u001b[1;33m\u001b[0m\u001b[0m\n\u001b[0;32m    552\u001b[0m                                     error_score=self.error_score)\n\u001b[1;32m--> 553\u001b[1;33m                 \u001b[1;32mfor\u001b[0m \u001b[0mparameters\u001b[0m \u001b[1;32min\u001b[0m \u001b[0mparameter_iterable\u001b[0m\u001b[1;33m\u001b[0m\u001b[0m\n\u001b[0m\u001b[0;32m    554\u001b[0m                 for train, test in cv)\n\u001b[0;32m    555\u001b[0m \u001b[1;33m\u001b[0m\u001b[0m\n",
      "\u001b[1;32m/usr/local/lib/python2.7/dist-packages/sklearn/externals/joblib/parallel.pyc\u001b[0m in \u001b[0;36m__call__\u001b[1;34m(self, iterable)\u001b[0m\n\u001b[0;32m    808\u001b[0m                 \u001b[1;31m# consumption.\u001b[0m\u001b[1;33m\u001b[0m\u001b[1;33m\u001b[0m\u001b[0m\n\u001b[0;32m    809\u001b[0m                 \u001b[0mself\u001b[0m\u001b[1;33m.\u001b[0m\u001b[0m_iterating\u001b[0m \u001b[1;33m=\u001b[0m \u001b[0mFalse\u001b[0m\u001b[1;33m\u001b[0m\u001b[0m\n\u001b[1;32m--> 810\u001b[1;33m             \u001b[0mself\u001b[0m\u001b[1;33m.\u001b[0m\u001b[0mretrieve\u001b[0m\u001b[1;33m(\u001b[0m\u001b[1;33m)\u001b[0m\u001b[1;33m\u001b[0m\u001b[0m\n\u001b[0m\u001b[0;32m    811\u001b[0m             \u001b[1;31m# Make sure that we get a last message telling us we are done\u001b[0m\u001b[1;33m\u001b[0m\u001b[1;33m\u001b[0m\u001b[0m\n\u001b[0;32m    812\u001b[0m             \u001b[0melapsed_time\u001b[0m \u001b[1;33m=\u001b[0m \u001b[0mtime\u001b[0m\u001b[1;33m.\u001b[0m\u001b[0mtime\u001b[0m\u001b[1;33m(\u001b[0m\u001b[1;33m)\u001b[0m \u001b[1;33m-\u001b[0m \u001b[0mself\u001b[0m\u001b[1;33m.\u001b[0m\u001b[0m_start_time\u001b[0m\u001b[1;33m\u001b[0m\u001b[0m\n",
      "\u001b[1;32m/usr/local/lib/python2.7/dist-packages/sklearn/externals/joblib/parallel.pyc\u001b[0m in \u001b[0;36mretrieve\u001b[1;34m(self)\u001b[0m\n\u001b[0;32m    755\u001b[0m                     \u001b[1;31m# a working pool as they expect.\u001b[0m\u001b[1;33m\u001b[0m\u001b[1;33m\u001b[0m\u001b[0m\n\u001b[0;32m    756\u001b[0m                     \u001b[0mself\u001b[0m\u001b[1;33m.\u001b[0m\u001b[0m_initialize_pool\u001b[0m\u001b[1;33m(\u001b[0m\u001b[1;33m)\u001b[0m\u001b[1;33m\u001b[0m\u001b[0m\n\u001b[1;32m--> 757\u001b[1;33m                 \u001b[1;32mraise\u001b[0m \u001b[0mexception\u001b[0m\u001b[1;33m\u001b[0m\u001b[0m\n\u001b[0m\u001b[0;32m    758\u001b[0m \u001b[1;33m\u001b[0m\u001b[0m\n\u001b[0;32m    759\u001b[0m     \u001b[1;32mdef\u001b[0m \u001b[0m__call__\u001b[0m\u001b[1;33m(\u001b[0m\u001b[0mself\u001b[0m\u001b[1;33m,\u001b[0m \u001b[0miterable\u001b[0m\u001b[1;33m)\u001b[0m\u001b[1;33m:\u001b[0m\u001b[1;33m\u001b[0m\u001b[0m\n",
      "\u001b[1;31mJoblibIndexError\u001b[0m: JoblibIndexError\n___________________________________________________________________________\nMultiprocessing exception:\n...........................................................................\n/usr/lib/python2.7/runpy.py in _run_module_as_main(mod_name='ipykernel.__main__', alter_argv=1)\n    157     pkg_name = mod_name.rpartition('.')[0]\n    158     main_globals = sys.modules[\"__main__\"].__dict__\n    159     if alter_argv:\n    160         sys.argv[0] = fname\n    161     return _run_code(code, main_globals, None,\n--> 162                      \"__main__\", fname, loader, pkg_name)\n        fname = '/usr/local/lib/python2.7/dist-packages/ipykernel/__main__.py'\n        loader = <pkgutil.ImpLoader instance>\n        pkg_name = 'ipykernel'\n    163 \n    164 def run_module(mod_name, init_globals=None,\n    165                run_name=None, alter_sys=False):\n    166     \"\"\"Execute a module's code without importing it\n\n...........................................................................\n/usr/lib/python2.7/runpy.py in _run_code(code=<code object <module> at 0x7f8d01683930, file \"/...2.7/dist-packages/ipykernel/__main__.py\", line 1>, run_globals={'__builtins__': <module '__builtin__' (built-in)>, '__doc__': None, '__file__': '/usr/local/lib/python2.7/dist-packages/ipykernel/__main__.py', '__loader__': <pkgutil.ImpLoader instance>, '__name__': '__main__', '__package__': 'ipykernel', 'app': <module 'ipykernel.kernelapp' from '/usr/local/lib/python2.7/dist-packages/ipykernel/kernelapp.pyc'>}, init_globals=None, mod_name='__main__', mod_fname='/usr/local/lib/python2.7/dist-packages/ipykernel/__main__.py', mod_loader=<pkgutil.ImpLoader instance>, pkg_name='ipykernel')\n     67         run_globals.update(init_globals)\n     68     run_globals.update(__name__ = mod_name,\n     69                        __file__ = mod_fname,\n     70                        __loader__ = mod_loader,\n     71                        __package__ = pkg_name)\n---> 72     exec code in run_globals\n        code = <code object <module> at 0x7f8d01683930, file \"/...2.7/dist-packages/ipykernel/__main__.py\", line 1>\n        run_globals = {'__builtins__': <module '__builtin__' (built-in)>, '__doc__': None, '__file__': '/usr/local/lib/python2.7/dist-packages/ipykernel/__main__.py', '__loader__': <pkgutil.ImpLoader instance>, '__name__': '__main__', '__package__': 'ipykernel', 'app': <module 'ipykernel.kernelapp' from '/usr/local/lib/python2.7/dist-packages/ipykernel/kernelapp.pyc'>}\n     73     return run_globals\n     74 \n     75 def _run_module_code(code, init_globals=None,\n     76                     mod_name=None, mod_fname=None,\n\n...........................................................................\n/usr/local/lib/python2.7/dist-packages/ipykernel/__main__.py in <module>()\n      1 \n      2 \n----> 3 \n      4 if __name__ == '__main__':\n      5     from ipykernel import kernelapp as app\n      6     app.launch_new_instance()\n      7 \n      8 \n      9 \n     10 \n\n...........................................................................\n/usr/local/lib/python2.7/dist-packages/traitlets/config/application.py in launch_instance(cls=<class 'ipykernel.kernelapp.IPKernelApp'>, argv=None, **kwargs={})\n    584         \n    585         If a global instance already exists, this reinitializes and starts it\n    586         \"\"\"\n    587         app = cls.instance(**kwargs)\n    588         app.initialize(argv)\n--> 589         app.start()\n        app.start = <bound method IPKernelApp.start of <ipykernel.kernelapp.IPKernelApp object>>\n    590 \n    591 #-----------------------------------------------------------------------------\n    592 # utility functions, for convenience\n    593 #-----------------------------------------------------------------------------\n\n...........................................................................\n/usr/local/lib/python2.7/dist-packages/ipykernel/kernelapp.py in start(self=<ipykernel.kernelapp.IPKernelApp object>)\n    400         \n    401         if self.poller is not None:\n    402             self.poller.start()\n    403         self.kernel.start()\n    404         try:\n--> 405             ioloop.IOLoop.instance().start()\n    406         except KeyboardInterrupt:\n    407             pass\n    408 \n    409 launch_new_instance = IPKernelApp.launch_instance\n\n...........................................................................\n/usr/local/lib/python2.7/dist-packages/zmq/eventloop/ioloop.py in start(self=<zmq.eventloop.ioloop.ZMQIOLoop object>)\n    157             PollIOLoop.configure(ZMQIOLoop)\n    158         return PollIOLoop.current(*args, **kwargs)\n    159     \n    160     def start(self):\n    161         try:\n--> 162             super(ZMQIOLoop, self).start()\n        self.start = <bound method ZMQIOLoop.start of <zmq.eventloop.ioloop.ZMQIOLoop object>>\n    163         except ZMQError as e:\n    164             if e.errno == ETERM:\n    165                 # quietly return on ETERM\n    166                 pass\n\n...........................................................................\n/usr/local/lib/python2.7/dist-packages/tornado-4.3-py2.7-linux-x86_64.egg/tornado/ioloop.py in start(self=<zmq.eventloop.ioloop.ZMQIOLoop object>)\n    878                 self._events.update(event_pairs)\n    879                 while self._events:\n    880                     fd, events = self._events.popitem()\n    881                     try:\n    882                         fd_obj, handler_func = self._handlers[fd]\n--> 883                         handler_func(fd_obj, events)\n        handler_func = <function null_wrapper>\n        fd_obj = <zmq.sugar.socket.Socket object>\n        events = 1\n    884                     except (OSError, IOError) as e:\n    885                         if errno_from_exception(e) == errno.EPIPE:\n    886                             # Happens when the client closes the connection\n    887                             pass\n\n...........................................................................\n/usr/local/lib/python2.7/dist-packages/tornado-4.3-py2.7-linux-x86_64.egg/tornado/stack_context.py in null_wrapper(*args=(<zmq.sugar.socket.Socket object>, 1), **kwargs={})\n    270         # Fast path when there are no active contexts.\n    271         def null_wrapper(*args, **kwargs):\n    272             try:\n    273                 current_state = _state.contexts\n    274                 _state.contexts = cap_contexts[0]\n--> 275                 return fn(*args, **kwargs)\n        args = (<zmq.sugar.socket.Socket object>, 1)\n        kwargs = {}\n    276             finally:\n    277                 _state.contexts = current_state\n    278         null_wrapper._wrapped = True\n    279         return null_wrapper\n\n...........................................................................\n/usr/local/lib/python2.7/dist-packages/zmq/eventloop/zmqstream.py in _handle_events(self=<zmq.eventloop.zmqstream.ZMQStream object>, fd=<zmq.sugar.socket.Socket object>, events=1)\n    435             # dispatch events:\n    436             if events & IOLoop.ERROR:\n    437                 gen_log.error(\"got POLLERR event on ZMQStream, which doesn't make sense\")\n    438                 return\n    439             if events & IOLoop.READ:\n--> 440                 self._handle_recv()\n        self._handle_recv = <bound method ZMQStream._handle_recv of <zmq.eventloop.zmqstream.ZMQStream object>>\n    441                 if not self.socket:\n    442                     return\n    443             if events & IOLoop.WRITE:\n    444                 self._handle_send()\n\n...........................................................................\n/usr/local/lib/python2.7/dist-packages/zmq/eventloop/zmqstream.py in _handle_recv(self=<zmq.eventloop.zmqstream.ZMQStream object>)\n    467                 gen_log.error(\"RECV Error: %s\"%zmq.strerror(e.errno))\n    468         else:\n    469             if self._recv_callback:\n    470                 callback = self._recv_callback\n    471                 # self._recv_callback = None\n--> 472                 self._run_callback(callback, msg)\n        self._run_callback = <bound method ZMQStream._run_callback of <zmq.eventloop.zmqstream.ZMQStream object>>\n        callback = <function null_wrapper>\n        msg = [<zmq.sugar.frame.Frame object>, <zmq.sugar.frame.Frame object>, <zmq.sugar.frame.Frame object>, <zmq.sugar.frame.Frame object>, <zmq.sugar.frame.Frame object>, <zmq.sugar.frame.Frame object>, <zmq.sugar.frame.Frame object>]\n    473                 \n    474         # self.update_state()\n    475         \n    476 \n\n...........................................................................\n/usr/local/lib/python2.7/dist-packages/zmq/eventloop/zmqstream.py in _run_callback(self=<zmq.eventloop.zmqstream.ZMQStream object>, callback=<function null_wrapper>, *args=([<zmq.sugar.frame.Frame object>, <zmq.sugar.frame.Frame object>, <zmq.sugar.frame.Frame object>, <zmq.sugar.frame.Frame object>, <zmq.sugar.frame.Frame object>, <zmq.sugar.frame.Frame object>, <zmq.sugar.frame.Frame object>],), **kwargs={})\n    409         close our socket.\"\"\"\n    410         try:\n    411             # Use a NullContext to ensure that all StackContexts are run\n    412             # inside our blanket exception handler rather than outside.\n    413             with stack_context.NullContext():\n--> 414                 callback(*args, **kwargs)\n        callback = <function null_wrapper>\n        args = ([<zmq.sugar.frame.Frame object>, <zmq.sugar.frame.Frame object>, <zmq.sugar.frame.Frame object>, <zmq.sugar.frame.Frame object>, <zmq.sugar.frame.Frame object>, <zmq.sugar.frame.Frame object>, <zmq.sugar.frame.Frame object>],)\n        kwargs = {}\n    415         except:\n    416             gen_log.error(\"Uncaught exception, closing connection.\",\n    417                           exc_info=True)\n    418             # Close the socket on an uncaught exception from a user callback\n\n...........................................................................\n/usr/local/lib/python2.7/dist-packages/tornado-4.3-py2.7-linux-x86_64.egg/tornado/stack_context.py in null_wrapper(*args=([<zmq.sugar.frame.Frame object>, <zmq.sugar.frame.Frame object>, <zmq.sugar.frame.Frame object>, <zmq.sugar.frame.Frame object>, <zmq.sugar.frame.Frame object>, <zmq.sugar.frame.Frame object>, <zmq.sugar.frame.Frame object>],), **kwargs={})\n    270         # Fast path when there are no active contexts.\n    271         def null_wrapper(*args, **kwargs):\n    272             try:\n    273                 current_state = _state.contexts\n    274                 _state.contexts = cap_contexts[0]\n--> 275                 return fn(*args, **kwargs)\n        args = ([<zmq.sugar.frame.Frame object>, <zmq.sugar.frame.Frame object>, <zmq.sugar.frame.Frame object>, <zmq.sugar.frame.Frame object>, <zmq.sugar.frame.Frame object>, <zmq.sugar.frame.Frame object>, <zmq.sugar.frame.Frame object>],)\n        kwargs = {}\n    276             finally:\n    277                 _state.contexts = current_state\n    278         null_wrapper._wrapped = True\n    279         return null_wrapper\n\n...........................................................................\n/usr/local/lib/python2.7/dist-packages/ipykernel/kernelbase.py in dispatcher(msg=[<zmq.sugar.frame.Frame object>, <zmq.sugar.frame.Frame object>, <zmq.sugar.frame.Frame object>, <zmq.sugar.frame.Frame object>, <zmq.sugar.frame.Frame object>, <zmq.sugar.frame.Frame object>, <zmq.sugar.frame.Frame object>])\n    255         if self.control_stream:\n    256             self.control_stream.on_recv(self.dispatch_control, copy=False)\n    257 \n    258         def make_dispatcher(stream):\n    259             def dispatcher(msg):\n--> 260                 return self.dispatch_shell(stream, msg)\n        msg = [<zmq.sugar.frame.Frame object>, <zmq.sugar.frame.Frame object>, <zmq.sugar.frame.Frame object>, <zmq.sugar.frame.Frame object>, <zmq.sugar.frame.Frame object>, <zmq.sugar.frame.Frame object>, <zmq.sugar.frame.Frame object>]\n    261             return dispatcher\n    262 \n    263         for s in self.shell_streams:\n    264             s.on_recv(make_dispatcher(s), copy=False)\n\n...........................................................................\n/usr/local/lib/python2.7/dist-packages/ipykernel/kernelbase.py in dispatch_shell(self=<ipykernel.ipkernel.IPythonKernel object>, stream=<zmq.eventloop.zmqstream.ZMQStream object>, msg={'buffers': [], 'content': {'allow_stdin': True, 'code': 'from sklearn.cross_validation import train_test_...t_estimator_) \\nbest = grid_search.best_estimator_', 'silent': False, 'stop_on_error': True, 'store_history': True, 'user_expressions': {}}, 'header': {'date': '2016-11-14T17:43:10.052043', 'msg_id': '62D810C1A64640D48A3BEA6F4A8D8075', 'msg_type': 'execute_request', 'session': 'C9DC4ED682F9437B85C131741637BBBC', 'username': 'username', 'version': '5.0'}, 'metadata': {}, 'msg_id': '62D810C1A64640D48A3BEA6F4A8D8075', 'msg_type': 'execute_request', 'parent_header': {}})\n    207             self.log.error(\"UNKNOWN MESSAGE TYPE: %r\", msg_type)\n    208         else:\n    209             self.log.debug(\"%s: %s\", msg_type, msg)\n    210             self.pre_handler_hook()\n    211             try:\n--> 212                 handler(stream, idents, msg)\n        handler = <bound method IPythonKernel.execute_request of <ipykernel.ipkernel.IPythonKernel object>>\n        stream = <zmq.eventloop.zmqstream.ZMQStream object>\n        idents = ['C9DC4ED682F9437B85C131741637BBBC']\n        msg = {'buffers': [], 'content': {'allow_stdin': True, 'code': 'from sklearn.cross_validation import train_test_...t_estimator_) \\nbest = grid_search.best_estimator_', 'silent': False, 'stop_on_error': True, 'store_history': True, 'user_expressions': {}}, 'header': {'date': '2016-11-14T17:43:10.052043', 'msg_id': '62D810C1A64640D48A3BEA6F4A8D8075', 'msg_type': 'execute_request', 'session': 'C9DC4ED682F9437B85C131741637BBBC', 'username': 'username', 'version': '5.0'}, 'metadata': {}, 'msg_id': '62D810C1A64640D48A3BEA6F4A8D8075', 'msg_type': 'execute_request', 'parent_header': {}}\n    213             except Exception:\n    214                 self.log.error(\"Exception in message handler:\", exc_info=True)\n    215             finally:\n    216                 self.post_handler_hook()\n\n...........................................................................\n/usr/local/lib/python2.7/dist-packages/ipykernel/kernelbase.py in execute_request(self=<ipykernel.ipkernel.IPythonKernel object>, stream=<zmq.eventloop.zmqstream.ZMQStream object>, ident=['C9DC4ED682F9437B85C131741637BBBC'], parent={'buffers': [], 'content': {'allow_stdin': True, 'code': 'from sklearn.cross_validation import train_test_...t_estimator_) \\nbest = grid_search.best_estimator_', 'silent': False, 'stop_on_error': True, 'store_history': True, 'user_expressions': {}}, 'header': {'date': '2016-11-14T17:43:10.052043', 'msg_id': '62D810C1A64640D48A3BEA6F4A8D8075', 'msg_type': 'execute_request', 'session': 'C9DC4ED682F9437B85C131741637BBBC', 'username': 'username', 'version': '5.0'}, 'metadata': {}, 'msg_id': '62D810C1A64640D48A3BEA6F4A8D8075', 'msg_type': 'execute_request', 'parent_header': {}})\n    365         if not silent:\n    366             self.execution_count += 1\n    367             self._publish_execute_input(code, parent, self.execution_count)\n    368 \n    369         reply_content = self.do_execute(code, silent, store_history,\n--> 370                                         user_expressions, allow_stdin)\n        user_expressions = {}\n        allow_stdin = True\n    371 \n    372         # Flush output before sending the reply.\n    373         sys.stdout.flush()\n    374         sys.stderr.flush()\n\n...........................................................................\n/usr/local/lib/python2.7/dist-packages/ipykernel/ipkernel.py in do_execute(self=<ipykernel.ipkernel.IPythonKernel object>, code=u'from sklearn.cross_validation import train_tes...estimator_) \\nbest = grid_search.best_estimator_', silent=False, store_history=True, user_expressions={}, allow_stdin=True)\n    170 \n    171         reply_content = {}\n    172         # FIXME: the shell calls the exception handler itself.\n    173         shell._reply_content = None\n    174         try:\n--> 175             shell.run_cell(code, store_history=store_history, silent=silent)\n        shell.run_cell = <bound method ZMQInteractiveShell.run_cell of <ipykernel.zmqshell.ZMQInteractiveShell object>>\n        code = u'from sklearn.cross_validation import train_tes...estimator_) \\nbest = grid_search.best_estimator_'\n        store_history = True\n        silent = False\n    176         except:\n    177             status = u'error'\n    178             # FIXME: this code right now isn't being used yet by default,\n    179             # because the run_cell() call above directly fires off exception\n\n...........................................................................\n/usr/local/lib/python2.7/dist-packages/IPython/core/interactiveshell.py in run_cell(self=<ipykernel.zmqshell.ZMQInteractiveShell object>, raw_cell=u'from sklearn.cross_validation import train_tes...estimator_) \\nbest = grid_search.best_estimator_', store_history=True, silent=False, shell_futures=True)\n   2897                 self.displayhook.exec_result = result\n   2898 \n   2899                 # Execute the user code\n   2900                 interactivity = \"none\" if silent else self.ast_node_interactivity\n   2901                 self.run_ast_nodes(code_ast.body, cell_name,\n-> 2902                    interactivity=interactivity, compiler=compiler, result=result)\n        interactivity = 'last_expr'\n        compiler = <IPython.core.compilerop.CachingCompiler instance>\n   2903 \n   2904                 # Reset this so later displayed values do not modify the\n   2905                 # ExecutionResult\n   2906                 self.displayhook.exec_result = None\n\n...........................................................................\n/usr/local/lib/python2.7/dist-packages/IPython/core/interactiveshell.py in run_ast_nodes(self=<ipykernel.zmqshell.ZMQInteractiveShell object>, nodelist=[<_ast.ImportFrom object>, <_ast.ImportFrom object>, <_ast.ImportFrom object>, <_ast.ImportFrom object>, <_ast.ImportFrom object>, <_ast.ImportFrom object>, <_ast.Assign object>, <_ast.Assign object>, <_ast.Assign object>, <_ast.Assign object>, <_ast.Assign object>, <_ast.Assign object>, <_ast.Assign object>, <_ast.Assign object>, <_ast.Assign object>, <_ast.Assign object>, <_ast.Assign object>, <_ast.Print object>, <_ast.Assign object>, <_ast.For object>, ...], cell_name='<ipython-input-69-cff36440402c>', interactivity='none', compiler=<IPython.core.compilerop.CachingCompiler instance>, result=<IPython.core.interactiveshell.ExecutionResult object>)\n   3001 \n   3002         try:\n   3003             for i, node in enumerate(to_run_exec):\n   3004                 mod = ast.Module([node])\n   3005                 code = compiler(mod, cell_name, \"exec\")\n-> 3006                 if self.run_code(code, result):\n        self.run_code = <bound method ZMQInteractiveShell.run_code of <ipykernel.zmqshell.ZMQInteractiveShell object>>\n        code = <code object <module> at 0x7f8caae2e330, file \"<ipython-input-69-cff36440402c>\", line 29>\n        result = <IPython.core.interactiveshell.ExecutionResult object>\n   3007                     return True\n   3008 \n   3009             for i, node in enumerate(to_run_interactive):\n   3010                 mod = ast.Interactive([node])\n\n...........................................................................\n/usr/local/lib/python2.7/dist-packages/IPython/core/interactiveshell.py in run_code(self=<ipykernel.zmqshell.ZMQInteractiveShell object>, code_obj=<code object <module> at 0x7f8caae2e330, file \"<ipython-input-69-cff36440402c>\", line 29>, result=<IPython.core.interactiveshell.ExecutionResult object>)\n   3061         outflag = 1  # happens in more places, so it's easier as default\n   3062         try:\n   3063             try:\n   3064                 self.hooks.pre_run_code_hook()\n   3065                 #rprint('Running code', repr(code_obj)) # dbg\n-> 3066                 exec(code_obj, self.user_global_ns, self.user_ns)\n        code_obj = <code object <module> at 0x7f8caae2e330, file \"<ipython-input-69-cff36440402c>\", line 29>\n        self.user_global_ns = {'ArgumentParser': <class 'argparse.ArgumentParser'>, 'BaseEstimator': <class 'sklearn.base.BaseEstimator'>, 'CharFeatureExtractor': <class '__main__.CharFeatureExtractor'>, 'EmoticonExtractor': <class '__main__.EmoticonExtractor'>, 'FeatureUnion': <class 'sklearn.pipeline.FeatureUnion'>, 'GridSearchCV': <class 'sklearn.grid_search.GridSearchCV'>, 'In': ['', u'import os\\nfrom argparse import ArgumentParser...  # load data\\n    X, y = dataset.get_data(task)', u'#reload(preprocess)\\n#reload(features)\\nfrom p...$$$$$$$$$$$$$$$$$$$$$$$$$$$$$$$$$$\"\\n#print X[0]', u'from sklearn.pipeline import Pipeline, Feature...estimator_) \\nbest = grid_search.best_estimator_', u'from sklearn.pipeline import Pipeline, Feature...estimator_) \\nbest = grid_search.best_estimator_', u'from sklearn.pipeline import Pipeline, Feature...est_params_)\\nbest = grid_search.best_estimator_', u\"print('Best_params')\\nprint(grid_search.best_params_)\", u\"print('Best_params')\\nprint(grid_search.grid_scores_)\", u'import json\\nwith open(\"../DATA/graph-twitter/...int len(X), len(y)\\nX = preprocess.preprocess(X)', u'y', u'from sklearn.pipeline import Pipeline, Feature...est_params_)\\nbest = grid_search.best_estimator_', u\"print('Best_params')\\nprint(grid_search.grid_scores_)\", u\"from pan import ProfilingDataset, createDocPro...sk)\\nprint len(X)\\n#X = preprocess.preprocess(X)\", u'from sklearn.pipeline import Pipeline, Feature...id_scores_)\\n#best = grid_search.best_estimator_', u'import json\\nwith open(\"../DATA/graph-twitter/...int len(X), len(y)\\nX = preprocess.preprocess(X)', u\"from sklearn.metrics import accuracy_score, co...int('Classification report :\\\\n {}'.format(rep))\", u'from sklearn.pipeline import Pipeline, Feature...id_scores_)\\n#best = grid_search.best_estimator_', u\"from pan import ProfilingDataset, createDocPro...sk)\\nprint len(X)\\n#X = preprocess.preprocess(X)\", u'from sklearn.pipeline import Pipeline, Feature...rid_scores_)\\nbest = grid_search.best_estimator_', u'import json\\nwith open(\"../DATA/graph-twitter/...int len(X), len(y)\\nX = preprocess.preprocess(X)', ...], 'LinearSVC': <class 'sklearn.svm.classes.LinearSVC'>, 'Out': {9: [u'female', u'female', u'female', u'female', u'male', u'male', u'female', u'female', u'male', u'male', u'male', u'male', u'female', u'female', u'female', u'male', u'female', u'female', u'male', u'male', ...], 45: [u'An ocean obsessed Spanish chef brings plankton... ARG Poll \\n\\nTrump    +  \\nClinton  \\nJohnson  ', u'RT  BREAKING  Inside Sources CONFIRM Host SUPP...r  The true  the false and everything in between', u'College educated white women are Hillary Clint...mnesty International locked out of Moscow office', u'Saudi government inks more lobbyists as Congre...y cool thing for a random Cubs fan before Game  ', u'An ocean obsessed Spanish chef brings plankton... ARG Poll \\n\\nTrump    +  \\nClinton  \\nJohnson  ', u'Apparent hacking leads to profane  Crooked Hil...3c2 \\u03c7\\u03b1\\u03c7\\u03b1\\u03c7 ellinofreneia', u'Here s where your Senate races stand   The epi... primary since    Bernie Sanders stood no chance', u'Neiman Marcus sells collard greens for $   and...l to let terminally ill patients end their lives', u'Neiman Marcus sells collard greens for $   and...l to let terminally ill patients end their lives', u'Is Virginia warming up to pot   Why a federal ...f602\\U0001f600\\U0001f600\\U0001f600 ellinofreneia', u'Evenings are about to get a lot darker \\u2014 ...ason due to sexually explicit  scouting reports ', u'When was America great  Opinion  Let\\u2019s sh... break   year old World Series \\u2018curse\\u2019', u'RT  PodestaEmails \\nErdogan  Turkey s radical ...de Can an anti Trump surge of voters sway Texas ', u' Reporters aren\\u2019t supposed to give things...ame after me  via How to eat for an energy boost', u'This principal and secretary take heat for Tru... Big changes are afoot at Victoria\\u2019s Secret', u'Metro Board Chairman Jack Evans urges federal ...b4\\u03ce\\u03c3\\u03b5\\u03b9\\u03c2 \\nellinofreneia', u'RT  Alabama death row inmate Thomas Arthur s e... just might have helped end the Cubs\\u2019 curse', u' I\\u2019m not a monster  A teen horror blogger...c4\\u03c3\\u03bf\\u03bb\\u03b9\\u03ac   ellinofreneia', u'Five things we still don\\u2019t know about Hil...cretary take heat for Trump and Clinton costumes', u'The ramifications of law enforcement advocatin... on par with Trump  Post ABC Tracking poll finds', ...]}, 'Pipeline': <class 'sklearn.pipeline.Pipeline'>, ...}\n        self.user_ns = {'ArgumentParser': <class 'argparse.ArgumentParser'>, 'BaseEstimator': <class 'sklearn.base.BaseEstimator'>, 'CharFeatureExtractor': <class '__main__.CharFeatureExtractor'>, 'EmoticonExtractor': <class '__main__.EmoticonExtractor'>, 'FeatureUnion': <class 'sklearn.pipeline.FeatureUnion'>, 'GridSearchCV': <class 'sklearn.grid_search.GridSearchCV'>, 'In': ['', u'import os\\nfrom argparse import ArgumentParser...  # load data\\n    X, y = dataset.get_data(task)', u'#reload(preprocess)\\n#reload(features)\\nfrom p...$$$$$$$$$$$$$$$$$$$$$$$$$$$$$$$$$$\"\\n#print X[0]', u'from sklearn.pipeline import Pipeline, Feature...estimator_) \\nbest = grid_search.best_estimator_', u'from sklearn.pipeline import Pipeline, Feature...estimator_) \\nbest = grid_search.best_estimator_', u'from sklearn.pipeline import Pipeline, Feature...est_params_)\\nbest = grid_search.best_estimator_', u\"print('Best_params')\\nprint(grid_search.best_params_)\", u\"print('Best_params')\\nprint(grid_search.grid_scores_)\", u'import json\\nwith open(\"../DATA/graph-twitter/...int len(X), len(y)\\nX = preprocess.preprocess(X)', u'y', u'from sklearn.pipeline import Pipeline, Feature...est_params_)\\nbest = grid_search.best_estimator_', u\"print('Best_params')\\nprint(grid_search.grid_scores_)\", u\"from pan import ProfilingDataset, createDocPro...sk)\\nprint len(X)\\n#X = preprocess.preprocess(X)\", u'from sklearn.pipeline import Pipeline, Feature...id_scores_)\\n#best = grid_search.best_estimator_', u'import json\\nwith open(\"../DATA/graph-twitter/...int len(X), len(y)\\nX = preprocess.preprocess(X)', u\"from sklearn.metrics import accuracy_score, co...int('Classification report :\\\\n {}'.format(rep))\", u'from sklearn.pipeline import Pipeline, Feature...id_scores_)\\n#best = grid_search.best_estimator_', u\"from pan import ProfilingDataset, createDocPro...sk)\\nprint len(X)\\n#X = preprocess.preprocess(X)\", u'from sklearn.pipeline import Pipeline, Feature...rid_scores_)\\nbest = grid_search.best_estimator_', u'import json\\nwith open(\"../DATA/graph-twitter/...int len(X), len(y)\\nX = preprocess.preprocess(X)', ...], 'LinearSVC': <class 'sklearn.svm.classes.LinearSVC'>, 'Out': {9: [u'female', u'female', u'female', u'female', u'male', u'male', u'female', u'female', u'male', u'male', u'male', u'male', u'female', u'female', u'female', u'male', u'female', u'female', u'male', u'male', ...], 45: [u'An ocean obsessed Spanish chef brings plankton... ARG Poll \\n\\nTrump    +  \\nClinton  \\nJohnson  ', u'RT  BREAKING  Inside Sources CONFIRM Host SUPP...r  The true  the false and everything in between', u'College educated white women are Hillary Clint...mnesty International locked out of Moscow office', u'Saudi government inks more lobbyists as Congre...y cool thing for a random Cubs fan before Game  ', u'An ocean obsessed Spanish chef brings plankton... ARG Poll \\n\\nTrump    +  \\nClinton  \\nJohnson  ', u'Apparent hacking leads to profane  Crooked Hil...3c2 \\u03c7\\u03b1\\u03c7\\u03b1\\u03c7 ellinofreneia', u'Here s where your Senate races stand   The epi... primary since    Bernie Sanders stood no chance', u'Neiman Marcus sells collard greens for $   and...l to let terminally ill patients end their lives', u'Neiman Marcus sells collard greens for $   and...l to let terminally ill patients end their lives', u'Is Virginia warming up to pot   Why a federal ...f602\\U0001f600\\U0001f600\\U0001f600 ellinofreneia', u'Evenings are about to get a lot darker \\u2014 ...ason due to sexually explicit  scouting reports ', u'When was America great  Opinion  Let\\u2019s sh... break   year old World Series \\u2018curse\\u2019', u'RT  PodestaEmails \\nErdogan  Turkey s radical ...de Can an anti Trump surge of voters sway Texas ', u' Reporters aren\\u2019t supposed to give things...ame after me  via How to eat for an energy boost', u'This principal and secretary take heat for Tru... Big changes are afoot at Victoria\\u2019s Secret', u'Metro Board Chairman Jack Evans urges federal ...b4\\u03ce\\u03c3\\u03b5\\u03b9\\u03c2 \\nellinofreneia', u'RT  Alabama death row inmate Thomas Arthur s e... just might have helped end the Cubs\\u2019 curse', u' I\\u2019m not a monster  A teen horror blogger...c4\\u03c3\\u03bf\\u03bb\\u03b9\\u03ac   ellinofreneia', u'Five things we still don\\u2019t know about Hil...cretary take heat for Trump and Clinton costumes', u'The ramifications of law enforcement advocatin... on par with Trump  Post ABC Tracking poll finds', ...]}, 'Pipeline': <class 'sklearn.pipeline.Pipeline'>, ...}\n   3067             finally:\n   3068                 # Reset our crash handler in place\n   3069                 sys.excepthook = old_excepthook\n   3070         except SystemExit as e:\n\n...........................................................................\n/media/kostas/DATA/GIT/PAN16/<ipython-input-69-cff36440402c> in <module>()\n     27 # params = {}\n     28 params = {'svm__C': [0.001, 0.01, 0.1, 1, 10, 100]}\n     29 for model in [pipe1]:\n     30     grid_search = GridSearchCV(estimator=model, param_grid=params, verbose=1, n_jobs=2, cv=num_folds, \n     31                                    refit=True, scoring='f1_weighted')\n---> 32     grid_search.fit(X_train,y_train)\n     33     print(grid_search.best_score_)\n     34     print(grid_search.best_estimator_) \n     35 best = grid_search.best_estimator_\n     36 \n\n...........................................................................\n/usr/local/lib/python2.7/dist-packages/sklearn/grid_search.py in fit(self=GridSearchCV(cv=4, error_score='raise',\n       e...it=True, scoring='f1_weighted',\n       verbose=1), X=[u'<a href=\"/BobMiller146\" class=\"twitter-atreply...user-id=\"29526003\" ><s>@</s><b>luxeagent</b></a>', u'The Media Journalist Daily is out! <a href=\"ht...ser-id=\"18771370\" ><s>@</s><b>ErikWemple</b></a>', u'Innovation Isn\\u2019t \\u2018Creativity,\\u2019 ...class=\"invisible\">&nbsp;</span>\\u2026</span></a>', u'You\\u2019re using this conspiracy theory as an...ento!\\n@SonrisaDesigual Muy de Cucumberhot... ;)', u'Alzheimer&#39;s Resource Center and Lifestyle ...<span class=\"invisible\">&nbsp;</span></span></a>', u'Wonder how this approach compares to what Chen...ensive tactics to MS+Apple&#39;s offensive ones.', u'<a href=\"/cadencesport\" class=\"twitter-atreply... cercat Barcelona i tot eren perfils corporatius', u'it is unfortunate that Lee&#39;s first act as ...<span class=\"invisible\">&nbsp;</span></span></a>', u'<a href=\"/zulahni\" class=\"twitter-atreply pret...me column, at the front edge of the fire escape.', u'I am a Samsung Paralympic Blogger - watch all ...-id=\"321336256\" ><s>@</s><b>Paralimpicos</b></a>', u'<a href=\"/howden_africa\" class=\"twitter-atrepl...d=\"true\" dir=\"ltr\" >pic.twitter.com/2Gfm0Xbj</a>', u'Sundays in <a href=\"/hashtag/Cork?src=hash\" da...js-nav\" dir=\"ltr\" ><s>#</s><b>MarkAsRead</b></a>', u'Listening to <a href=\"/clsaarinen\" class=\"twit...<span class=\"invisible\">&nbsp;</span></span></a>', u'&quot;<a href=\"/UxioMalvido\" class=\"twitter-at...class=\"invisible\">&nbsp;</span>\\u2026</span></a>', u'<a href=\"/Infinityindies\" class=\"twitter-atrep...<span class=\"invisible\">&nbsp;</span></span></a>', u'Nueva imagen de Batman vs Deathstroke en el v\\...span></a> Iron Man Mark Z Armour, corto fan-film', u'&quot;Young people need to be able to communic...r-id=\"1168811833\" ><s>@</s><b>mikraemer</b></a>)', u'He runs, I follow! <a href=\"/AllisterF\" class=...<span class=\"invisible\">&nbsp;</span></span></a>', u'NEW!!! Google Page Rank Update 2011 <a href=\"h...M? Anybody used them?\\nDo u use SEO Power Suite?', u'<a href=\"/jamiekilstein\" class=\"twitter-atrepl...class=\"invisible\">&nbsp;</span>\\u2026</span></a>', ...], y=['male', 'female', 'male', 'female', 'female', 'male', 'female', 'female', 'male', 'female', 'female', 'male', 'female', 'female', 'male', 'male', 'female', 'female', 'male', 'male', ...])\n    799         y : array-like, shape = [n_samples] or [n_samples, n_output], optional\n    800             Target relative to X for classification or regression;\n    801             None for unsupervised learning.\n    802 \n    803         \"\"\"\n--> 804         return self._fit(X, y, ParameterGrid(self.param_grid))\n        self._fit = <bound method GridSearchCV._fit of GridSearchCV(...t=True, scoring='f1_weighted',\n       verbose=1)>\n        X = [u'<a href=\"/BobMiller146\" class=\"twitter-atreply...user-id=\"29526003\" ><s>@</s><b>luxeagent</b></a>', u'The Media Journalist Daily is out! <a href=\"ht...ser-id=\"18771370\" ><s>@</s><b>ErikWemple</b></a>', u'Innovation Isn\\u2019t \\u2018Creativity,\\u2019 ...class=\"invisible\">&nbsp;</span>\\u2026</span></a>', u'You\\u2019re using this conspiracy theory as an...ento!\\n@SonrisaDesigual Muy de Cucumberhot... ;)', u'Alzheimer&#39;s Resource Center and Lifestyle ...<span class=\"invisible\">&nbsp;</span></span></a>', u'Wonder how this approach compares to what Chen...ensive tactics to MS+Apple&#39;s offensive ones.', u'<a href=\"/cadencesport\" class=\"twitter-atreply... cercat Barcelona i tot eren perfils corporatius', u'it is unfortunate that Lee&#39;s first act as ...<span class=\"invisible\">&nbsp;</span></span></a>', u'<a href=\"/zulahni\" class=\"twitter-atreply pret...me column, at the front edge of the fire escape.', u'I am a Samsung Paralympic Blogger - watch all ...-id=\"321336256\" ><s>@</s><b>Paralimpicos</b></a>', u'<a href=\"/howden_africa\" class=\"twitter-atrepl...d=\"true\" dir=\"ltr\" >pic.twitter.com/2Gfm0Xbj</a>', u'Sundays in <a href=\"/hashtag/Cork?src=hash\" da...js-nav\" dir=\"ltr\" ><s>#</s><b>MarkAsRead</b></a>', u'Listening to <a href=\"/clsaarinen\" class=\"twit...<span class=\"invisible\">&nbsp;</span></span></a>', u'&quot;<a href=\"/UxioMalvido\" class=\"twitter-at...class=\"invisible\">&nbsp;</span>\\u2026</span></a>', u'<a href=\"/Infinityindies\" class=\"twitter-atrep...<span class=\"invisible\">&nbsp;</span></span></a>', u'Nueva imagen de Batman vs Deathstroke en el v\\...span></a> Iron Man Mark Z Armour, corto fan-film', u'&quot;Young people need to be able to communic...r-id=\"1168811833\" ><s>@</s><b>mikraemer</b></a>)', u'He runs, I follow! <a href=\"/AllisterF\" class=...<span class=\"invisible\">&nbsp;</span></span></a>', u'NEW!!! Google Page Rank Update 2011 <a href=\"h...M? Anybody used them?\\nDo u use SEO Power Suite?', u'<a href=\"/jamiekilstein\" class=\"twitter-atrepl...class=\"invisible\">&nbsp;</span>\\u2026</span></a>', ...]\n        y = ['male', 'female', 'male', 'female', 'female', 'male', 'female', 'female', 'male', 'female', 'female', 'male', 'female', 'female', 'male', 'male', 'female', 'female', 'male', 'male', ...]\n        self.param_grid = {'svm__C': [0.001, 0.01, 0.1, 1, 10, 100]}\n    805 \n    806 \n    807 class RandomizedSearchCV(BaseSearchCV):\n    808     \"\"\"Randomized search on hyper parameters.\n\n...........................................................................\n/usr/local/lib/python2.7/dist-packages/sklearn/grid_search.py in _fit(self=GridSearchCV(cv=4, error_score='raise',\n       e...it=True, scoring='f1_weighted',\n       verbose=1), X=[u'<a href=\"/BobMiller146\" class=\"twitter-atreply...user-id=\"29526003\" ><s>@</s><b>luxeagent</b></a>', u'The Media Journalist Daily is out! <a href=\"ht...ser-id=\"18771370\" ><s>@</s><b>ErikWemple</b></a>', u'Innovation Isn\\u2019t \\u2018Creativity,\\u2019 ...class=\"invisible\">&nbsp;</span>\\u2026</span></a>', u'You\\u2019re using this conspiracy theory as an...ento!\\n@SonrisaDesigual Muy de Cucumberhot... ;)', u'Alzheimer&#39;s Resource Center and Lifestyle ...<span class=\"invisible\">&nbsp;</span></span></a>', u'Wonder how this approach compares to what Chen...ensive tactics to MS+Apple&#39;s offensive ones.', u'<a href=\"/cadencesport\" class=\"twitter-atreply... cercat Barcelona i tot eren perfils corporatius', u'it is unfortunate that Lee&#39;s first act as ...<span class=\"invisible\">&nbsp;</span></span></a>', u'<a href=\"/zulahni\" class=\"twitter-atreply pret...me column, at the front edge of the fire escape.', u'I am a Samsung Paralympic Blogger - watch all ...-id=\"321336256\" ><s>@</s><b>Paralimpicos</b></a>', u'<a href=\"/howden_africa\" class=\"twitter-atrepl...d=\"true\" dir=\"ltr\" >pic.twitter.com/2Gfm0Xbj</a>', u'Sundays in <a href=\"/hashtag/Cork?src=hash\" da...js-nav\" dir=\"ltr\" ><s>#</s><b>MarkAsRead</b></a>', u'Listening to <a href=\"/clsaarinen\" class=\"twit...<span class=\"invisible\">&nbsp;</span></span></a>', u'&quot;<a href=\"/UxioMalvido\" class=\"twitter-at...class=\"invisible\">&nbsp;</span>\\u2026</span></a>', u'<a href=\"/Infinityindies\" class=\"twitter-atrep...<span class=\"invisible\">&nbsp;</span></span></a>', u'Nueva imagen de Batman vs Deathstroke en el v\\...span></a> Iron Man Mark Z Armour, corto fan-film', u'&quot;Young people need to be able to communic...r-id=\"1168811833\" ><s>@</s><b>mikraemer</b></a>)', u'He runs, I follow! <a href=\"/AllisterF\" class=...<span class=\"invisible\">&nbsp;</span></span></a>', u'NEW!!! Google Page Rank Update 2011 <a href=\"h...M? Anybody used them?\\nDo u use SEO Power Suite?', u'<a href=\"/jamiekilstein\" class=\"twitter-atrepl...class=\"invisible\">&nbsp;</span>\\u2026</span></a>', ...], y=['male', 'female', 'male', 'female', 'female', 'male', 'female', 'female', 'male', 'female', 'female', 'male', 'female', 'female', 'male', 'male', 'female', 'female', 'male', 'male', ...], parameter_iterable=<sklearn.grid_search.ParameterGrid object>)\n    548         )(\n    549             delayed(_fit_and_score)(clone(base_estimator), X, y, self.scorer_,\n    550                                     train, test, self.verbose, parameters,\n    551                                     self.fit_params, return_parameters=True,\n    552                                     error_score=self.error_score)\n--> 553                 for parameters in parameter_iterable\n        parameters = undefined\n        parameter_iterable = <sklearn.grid_search.ParameterGrid object>\n    554                 for train, test in cv)\n    555 \n    556         # Out is a list of triplet: score, estimator, n_test_samples\n    557         n_fits = len(out)\n\n...........................................................................\n/usr/local/lib/python2.7/dist-packages/sklearn/externals/joblib/parallel.py in __call__(self=Parallel(n_jobs=2), iterable=<generator object <genexpr>>)\n    805             if pre_dispatch == \"all\" or n_jobs == 1:\n    806                 # The iterable was consumed all at once by the above for loop.\n    807                 # No need to wait for async callbacks to trigger to\n    808                 # consumption.\n    809                 self._iterating = False\n--> 810             self.retrieve()\n        self.retrieve = <bound method Parallel.retrieve of Parallel(n_jobs=2)>\n    811             # Make sure that we get a last message telling us we are done\n    812             elapsed_time = time.time() - self._start_time\n    813             self._print('Done %3i out of %3i | elapsed: %s finished',\n    814                         (len(self._output), len(self._output),\n\n---------------------------------------------------------------------------\nSub-process traceback:\n---------------------------------------------------------------------------\nIndexError                                         Mon Nov 14 17:43:33 2016\nPID: 388                                      Python 2.7.6: /usr/bin/python\n...........................................................................\n/usr/local/lib/python2.7/dist-packages/sklearn/externals/joblib/parallel.py in __call__(self=<sklearn.externals.joblib.parallel.BatchedCalls object>)\n     67     def __init__(self, iterator_slice):\n     68         self.items = list(iterator_slice)\n     69         self._size = len(self.items)\n     70 \n     71     def __call__(self):\n---> 72         return [func(*args, **kwargs) for func, args, kwargs in self.items]\n        func = <function _fit_and_score>\n        args = <type 'tuple'> instance\n        kwargs = {'error_score': 'raise', 'return_parameters': True}\n        self.items = <type 'list'> instance\n     73 \n     74     def __len__(self):\n     75         return self._size\n     76 \n\n...........................................................................\n/usr/local/lib/python2.7/dist-packages/sklearn/cross_validation.py in _fit_and_score(estimator=Pipeline(steps=[('CharCount', EmoticonExtractor(...e, shrinking=True,\n  tol=0.001, verbose=False))]), X=[u'<a href=\"/BobMiller146\" class=\"twitter-atreply...user-id=\"29526003\" ><s>@</s><b>luxeagent</b></a>', u'The Media Journalist Daily is out! <a href=\"ht...ser-id=\"18771370\" ><s>@</s><b>ErikWemple</b></a>', u'Innovation Isn\\u2019t \\u2018Creativity,\\u2019 ...class=\"invisible\">&nbsp;</span>\\u2026</span></a>', u'You\\u2019re using this conspiracy theory as an...ento!\\n@SonrisaDesigual Muy de Cucumberhot... ;)', u'Alzheimer&#39;s Resource Center and Lifestyle ...<span class=\"invisible\">&nbsp;</span></span></a>', u'Wonder how this approach compares to what Chen...ensive tactics to MS+Apple&#39;s offensive ones.', u'<a href=\"/cadencesport\" class=\"twitter-atreply... cercat Barcelona i tot eren perfils corporatius', u'it is unfortunate that Lee&#39;s first act as ...<span class=\"invisible\">&nbsp;</span></span></a>', u'<a href=\"/zulahni\" class=\"twitter-atreply pret...me column, at the front edge of the fire escape.', u'I am a Samsung Paralympic Blogger - watch all ...-id=\"321336256\" ><s>@</s><b>Paralimpicos</b></a>', u'<a href=\"/howden_africa\" class=\"twitter-atrepl...d=\"true\" dir=\"ltr\" >pic.twitter.com/2Gfm0Xbj</a>', u'Sundays in <a href=\"/hashtag/Cork?src=hash\" da...js-nav\" dir=\"ltr\" ><s>#</s><b>MarkAsRead</b></a>', u'Listening to <a href=\"/clsaarinen\" class=\"twit...<span class=\"invisible\">&nbsp;</span></span></a>', u'&quot;<a href=\"/UxioMalvido\" class=\"twitter-at...class=\"invisible\">&nbsp;</span>\\u2026</span></a>', u'<a href=\"/Infinityindies\" class=\"twitter-atrep...<span class=\"invisible\">&nbsp;</span></span></a>', u'Nueva imagen de Batman vs Deathstroke en el v\\...span></a> Iron Man Mark Z Armour, corto fan-film', u'&quot;Young people need to be able to communic...r-id=\"1168811833\" ><s>@</s><b>mikraemer</b></a>)', u'He runs, I follow! <a href=\"/AllisterF\" class=...<span class=\"invisible\">&nbsp;</span></span></a>', u'NEW!!! Google Page Rank Update 2011 <a href=\"h...M? Anybody used them?\\nDo u use SEO Power Suite?', u'<a href=\"/jamiekilstein\" class=\"twitter-atrepl...class=\"invisible\">&nbsp;</span>\\u2026</span></a>', ...], y=['male', 'female', 'male', 'female', 'female', 'male', 'female', 'female', 'male', 'female', 'female', 'male', 'female', 'female', 'male', 'male', 'female', 'female', 'male', 'male', ...], scorer=<class 'sklearn.metrics.scorer._PredictScorer'> instance, train=array([ 88,  89,  90,  91,  92,  93,  94,  95,  ...38, 339, 340, 341, 342, 343, 344, 345, 346, 347]), test=array([ 0,  1,  2,  3,  4,  5,  6,  7,  8,  9, 1..., 78, 79, 80, 81, 82, 83, 84,\n       85, 86, 87]), verbose=1, parameters={'svm__C': 0.001}, fit_params={}, return_train_score=False, return_parameters=True, error_score='raise')\n   1545                              \" numeric value. (Hint: if using 'raise', please\"\n   1546                              \" make sure that it has been spelled correctly.)\"\n   1547                              )\n   1548 \n   1549     else:\n-> 1550         test_score = _score(estimator, X_test, y_test, scorer)\n        test_score = undefined\n        estimator = Pipeline(steps=[('CharCount', EmoticonExtractor(...e, shrinking=True,\n  tol=0.001, verbose=False))])\n        X_test = [u'<a href=\"/BobMiller146\" class=\"twitter-atreply...user-id=\"29526003\" ><s>@</s><b>luxeagent</b></a>', u'The Media Journalist Daily is out! <a href=\"ht...ser-id=\"18771370\" ><s>@</s><b>ErikWemple</b></a>', u'Innovation Isn\\u2019t \\u2018Creativity,\\u2019 ...class=\"invisible\">&nbsp;</span>\\u2026</span></a>', u'You\\u2019re using this conspiracy theory as an...ento!\\n@SonrisaDesigual Muy de Cucumberhot... ;)', u'Alzheimer&#39;s Resource Center and Lifestyle ...<span class=\"invisible\">&nbsp;</span></span></a>', u'Wonder how this approach compares to what Chen...ensive tactics to MS+Apple&#39;s offensive ones.', u'<a href=\"/cadencesport\" class=\"twitter-atreply... cercat Barcelona i tot eren perfils corporatius', u'it is unfortunate that Lee&#39;s first act as ...<span class=\"invisible\">&nbsp;</span></span></a>', u'<a href=\"/zulahni\" class=\"twitter-atreply pret...me column, at the front edge of the fire escape.', u'I am a Samsung Paralympic Blogger - watch all ...-id=\"321336256\" ><s>@</s><b>Paralimpicos</b></a>', u'<a href=\"/howden_africa\" class=\"twitter-atrepl...d=\"true\" dir=\"ltr\" >pic.twitter.com/2Gfm0Xbj</a>', u'Sundays in <a href=\"/hashtag/Cork?src=hash\" da...js-nav\" dir=\"ltr\" ><s>#</s><b>MarkAsRead</b></a>', u'Listening to <a href=\"/clsaarinen\" class=\"twit...<span class=\"invisible\">&nbsp;</span></span></a>', u'&quot;<a href=\"/UxioMalvido\" class=\"twitter-at...class=\"invisible\">&nbsp;</span>\\u2026</span></a>', u'<a href=\"/Infinityindies\" class=\"twitter-atrep...<span class=\"invisible\">&nbsp;</span></span></a>', u'Nueva imagen de Batman vs Deathstroke en el v\\...span></a> Iron Man Mark Z Armour, corto fan-film', u'&quot;Young people need to be able to communic...r-id=\"1168811833\" ><s>@</s><b>mikraemer</b></a>)', u'He runs, I follow! <a href=\"/AllisterF\" class=...<span class=\"invisible\">&nbsp;</span></span></a>', u'NEW!!! Google Page Rank Update 2011 <a href=\"h...M? Anybody used them?\\nDo u use SEO Power Suite?', u'<a href=\"/jamiekilstein\" class=\"twitter-atrepl...class=\"invisible\">&nbsp;</span>\\u2026</span></a>', ...]\n        y_test = ['male', 'female', 'male', 'female', 'female', 'male', 'female', 'female', 'male', 'female', 'female', 'male', 'female', 'female', 'male', 'male', 'female', 'female', 'male', 'male', ...]\n        scorer = <class 'sklearn.metrics.scorer._PredictScorer'> instance\n   1551         if return_train_score:\n   1552             train_score = _score(estimator, X_train, y_train, scorer)\n   1553 \n   1554     scoring_time = time.time() - start_time\n\n...........................................................................\n/usr/local/lib/python2.7/dist-packages/sklearn/cross_validation.py in _score(estimator=Pipeline(steps=[('CharCount', EmoticonExtractor(...e, shrinking=True,\n  tol=0.001, verbose=False))]), X_test=[u'<a href=\"/BobMiller146\" class=\"twitter-atreply...user-id=\"29526003\" ><s>@</s><b>luxeagent</b></a>', u'The Media Journalist Daily is out! <a href=\"ht...ser-id=\"18771370\" ><s>@</s><b>ErikWemple</b></a>', u'Innovation Isn\\u2019t \\u2018Creativity,\\u2019 ...class=\"invisible\">&nbsp;</span>\\u2026</span></a>', u'You\\u2019re using this conspiracy theory as an...ento!\\n@SonrisaDesigual Muy de Cucumberhot... ;)', u'Alzheimer&#39;s Resource Center and Lifestyle ...<span class=\"invisible\">&nbsp;</span></span></a>', u'Wonder how this approach compares to what Chen...ensive tactics to MS+Apple&#39;s offensive ones.', u'<a href=\"/cadencesport\" class=\"twitter-atreply... cercat Barcelona i tot eren perfils corporatius', u'it is unfortunate that Lee&#39;s first act as ...<span class=\"invisible\">&nbsp;</span></span></a>', u'<a href=\"/zulahni\" class=\"twitter-atreply pret...me column, at the front edge of the fire escape.', u'I am a Samsung Paralympic Blogger - watch all ...-id=\"321336256\" ><s>@</s><b>Paralimpicos</b></a>', u'<a href=\"/howden_africa\" class=\"twitter-atrepl...d=\"true\" dir=\"ltr\" >pic.twitter.com/2Gfm0Xbj</a>', u'Sundays in <a href=\"/hashtag/Cork?src=hash\" da...js-nav\" dir=\"ltr\" ><s>#</s><b>MarkAsRead</b></a>', u'Listening to <a href=\"/clsaarinen\" class=\"twit...<span class=\"invisible\">&nbsp;</span></span></a>', u'&quot;<a href=\"/UxioMalvido\" class=\"twitter-at...class=\"invisible\">&nbsp;</span>\\u2026</span></a>', u'<a href=\"/Infinityindies\" class=\"twitter-atrep...<span class=\"invisible\">&nbsp;</span></span></a>', u'Nueva imagen de Batman vs Deathstroke en el v\\...span></a> Iron Man Mark Z Armour, corto fan-film', u'&quot;Young people need to be able to communic...r-id=\"1168811833\" ><s>@</s><b>mikraemer</b></a>)', u'He runs, I follow! <a href=\"/AllisterF\" class=...<span class=\"invisible\">&nbsp;</span></span></a>', u'NEW!!! Google Page Rank Update 2011 <a href=\"h...M? Anybody used them?\\nDo u use SEO Power Suite?', u'<a href=\"/jamiekilstein\" class=\"twitter-atrepl...class=\"invisible\">&nbsp;</span>\\u2026</span></a>', ...], y_test=['male', 'female', 'male', 'female', 'female', 'male', 'female', 'female', 'male', 'female', 'female', 'male', 'female', 'female', 'male', 'male', 'female', 'female', 'male', 'male', ...], scorer=<class 'sklearn.metrics.scorer._PredictScorer'> instance)\n   1601 def _score(estimator, X_test, y_test, scorer):\n   1602     \"\"\"Compute the score of an estimator on a given test set.\"\"\"\n   1603     if y_test is None:\n   1604         score = scorer(estimator, X_test)\n   1605     else:\n-> 1606         score = scorer(estimator, X_test, y_test)\n        score = undefined\n        scorer = <class 'sklearn.metrics.scorer._PredictScorer'> instance\n        estimator = Pipeline(steps=[('CharCount', EmoticonExtractor(...e, shrinking=True,\n  tol=0.001, verbose=False))])\n        X_test = [u'<a href=\"/BobMiller146\" class=\"twitter-atreply...user-id=\"29526003\" ><s>@</s><b>luxeagent</b></a>', u'The Media Journalist Daily is out! <a href=\"ht...ser-id=\"18771370\" ><s>@</s><b>ErikWemple</b></a>', u'Innovation Isn\\u2019t \\u2018Creativity,\\u2019 ...class=\"invisible\">&nbsp;</span>\\u2026</span></a>', u'You\\u2019re using this conspiracy theory as an...ento!\\n@SonrisaDesigual Muy de Cucumberhot... ;)', u'Alzheimer&#39;s Resource Center and Lifestyle ...<span class=\"invisible\">&nbsp;</span></span></a>', u'Wonder how this approach compares to what Chen...ensive tactics to MS+Apple&#39;s offensive ones.', u'<a href=\"/cadencesport\" class=\"twitter-atreply... cercat Barcelona i tot eren perfils corporatius', u'it is unfortunate that Lee&#39;s first act as ...<span class=\"invisible\">&nbsp;</span></span></a>', u'<a href=\"/zulahni\" class=\"twitter-atreply pret...me column, at the front edge of the fire escape.', u'I am a Samsung Paralympic Blogger - watch all ...-id=\"321336256\" ><s>@</s><b>Paralimpicos</b></a>', u'<a href=\"/howden_africa\" class=\"twitter-atrepl...d=\"true\" dir=\"ltr\" >pic.twitter.com/2Gfm0Xbj</a>', u'Sundays in <a href=\"/hashtag/Cork?src=hash\" da...js-nav\" dir=\"ltr\" ><s>#</s><b>MarkAsRead</b></a>', u'Listening to <a href=\"/clsaarinen\" class=\"twit...<span class=\"invisible\">&nbsp;</span></span></a>', u'&quot;<a href=\"/UxioMalvido\" class=\"twitter-at...class=\"invisible\">&nbsp;</span>\\u2026</span></a>', u'<a href=\"/Infinityindies\" class=\"twitter-atrep...<span class=\"invisible\">&nbsp;</span></span></a>', u'Nueva imagen de Batman vs Deathstroke en el v\\...span></a> Iron Man Mark Z Armour, corto fan-film', u'&quot;Young people need to be able to communic...r-id=\"1168811833\" ><s>@</s><b>mikraemer</b></a>)', u'He runs, I follow! <a href=\"/AllisterF\" class=...<span class=\"invisible\">&nbsp;</span></span></a>', u'NEW!!! Google Page Rank Update 2011 <a href=\"h...M? Anybody used them?\\nDo u use SEO Power Suite?', u'<a href=\"/jamiekilstein\" class=\"twitter-atrepl...class=\"invisible\">&nbsp;</span>\\u2026</span></a>', ...]\n        y_test = ['male', 'female', 'male', 'female', 'female', 'male', 'female', 'female', 'male', 'female', 'female', 'male', 'female', 'female', 'male', 'male', 'female', 'female', 'male', 'male', ...]\n   1607     if not isinstance(score, numbers.Number):\n   1608         raise ValueError(\"scoring must return a number, got %s (%s) instead.\"\n   1609                          % (str(score), type(score)))\n   1610     return score\n\n...........................................................................\n/usr/local/lib/python2.7/dist-packages/sklearn/metrics/scorer.py in __call__(self=<class 'sklearn.metrics.scorer._PredictScorer'> instance, estimator=Pipeline(steps=[('CharCount', EmoticonExtractor(...e, shrinking=True,\n  tol=0.001, verbose=False))]), X=[u'<a href=\"/BobMiller146\" class=\"twitter-atreply...user-id=\"29526003\" ><s>@</s><b>luxeagent</b></a>', u'The Media Journalist Daily is out! <a href=\"ht...ser-id=\"18771370\" ><s>@</s><b>ErikWemple</b></a>', u'Innovation Isn\\u2019t \\u2018Creativity,\\u2019 ...class=\"invisible\">&nbsp;</span>\\u2026</span></a>', u'You\\u2019re using this conspiracy theory as an...ento!\\n@SonrisaDesigual Muy de Cucumberhot... ;)', u'Alzheimer&#39;s Resource Center and Lifestyle ...<span class=\"invisible\">&nbsp;</span></span></a>', u'Wonder how this approach compares to what Chen...ensive tactics to MS+Apple&#39;s offensive ones.', u'<a href=\"/cadencesport\" class=\"twitter-atreply... cercat Barcelona i tot eren perfils corporatius', u'it is unfortunate that Lee&#39;s first act as ...<span class=\"invisible\">&nbsp;</span></span></a>', u'<a href=\"/zulahni\" class=\"twitter-atreply pret...me column, at the front edge of the fire escape.', u'I am a Samsung Paralympic Blogger - watch all ...-id=\"321336256\" ><s>@</s><b>Paralimpicos</b></a>', u'<a href=\"/howden_africa\" class=\"twitter-atrepl...d=\"true\" dir=\"ltr\" >pic.twitter.com/2Gfm0Xbj</a>', u'Sundays in <a href=\"/hashtag/Cork?src=hash\" da...js-nav\" dir=\"ltr\" ><s>#</s><b>MarkAsRead</b></a>', u'Listening to <a href=\"/clsaarinen\" class=\"twit...<span class=\"invisible\">&nbsp;</span></span></a>', u'&quot;<a href=\"/UxioMalvido\" class=\"twitter-at...class=\"invisible\">&nbsp;</span>\\u2026</span></a>', u'<a href=\"/Infinityindies\" class=\"twitter-atrep...<span class=\"invisible\">&nbsp;</span></span></a>', u'Nueva imagen de Batman vs Deathstroke en el v\\...span></a> Iron Man Mark Z Armour, corto fan-film', u'&quot;Young people need to be able to communic...r-id=\"1168811833\" ><s>@</s><b>mikraemer</b></a>)', u'He runs, I follow! <a href=\"/AllisterF\" class=...<span class=\"invisible\">&nbsp;</span></span></a>', u'NEW!!! Google Page Rank Update 2011 <a href=\"h...M? Anybody used them?\\nDo u use SEO Power Suite?', u'<a href=\"/jamiekilstein\" class=\"twitter-atrepl...class=\"invisible\">&nbsp;</span>\\u2026</span></a>', ...], y_true=['male', 'female', 'male', 'female', 'female', 'male', 'female', 'female', 'male', 'female', 'female', 'male', 'female', 'female', 'male', 'male', 'female', 'female', 'male', 'male', ...], sample_weight=None)\n     78         Returns\n     79         -------\n     80         score : float\n     81             Score function applied to prediction of estimator on X.\n     82         \"\"\"\n---> 83         y_pred = estimator.predict(X)\n        y_pred = undefined\n        estimator.predict = <function predict>\n        X = [u'<a href=\"/BobMiller146\" class=\"twitter-atreply...user-id=\"29526003\" ><s>@</s><b>luxeagent</b></a>', u'The Media Journalist Daily is out! <a href=\"ht...ser-id=\"18771370\" ><s>@</s><b>ErikWemple</b></a>', u'Innovation Isn\\u2019t \\u2018Creativity,\\u2019 ...class=\"invisible\">&nbsp;</span>\\u2026</span></a>', u'You\\u2019re using this conspiracy theory as an...ento!\\n@SonrisaDesigual Muy de Cucumberhot... ;)', u'Alzheimer&#39;s Resource Center and Lifestyle ...<span class=\"invisible\">&nbsp;</span></span></a>', u'Wonder how this approach compares to what Chen...ensive tactics to MS+Apple&#39;s offensive ones.', u'<a href=\"/cadencesport\" class=\"twitter-atreply... cercat Barcelona i tot eren perfils corporatius', u'it is unfortunate that Lee&#39;s first act as ...<span class=\"invisible\">&nbsp;</span></span></a>', u'<a href=\"/zulahni\" class=\"twitter-atreply pret...me column, at the front edge of the fire escape.', u'I am a Samsung Paralympic Blogger - watch all ...-id=\"321336256\" ><s>@</s><b>Paralimpicos</b></a>', u'<a href=\"/howden_africa\" class=\"twitter-atrepl...d=\"true\" dir=\"ltr\" >pic.twitter.com/2Gfm0Xbj</a>', u'Sundays in <a href=\"/hashtag/Cork?src=hash\" da...js-nav\" dir=\"ltr\" ><s>#</s><b>MarkAsRead</b></a>', u'Listening to <a href=\"/clsaarinen\" class=\"twit...<span class=\"invisible\">&nbsp;</span></span></a>', u'&quot;<a href=\"/UxioMalvido\" class=\"twitter-at...class=\"invisible\">&nbsp;</span>\\u2026</span></a>', u'<a href=\"/Infinityindies\" class=\"twitter-atrep...<span class=\"invisible\">&nbsp;</span></span></a>', u'Nueva imagen de Batman vs Deathstroke en el v\\...span></a> Iron Man Mark Z Armour, corto fan-film', u'&quot;Young people need to be able to communic...r-id=\"1168811833\" ><s>@</s><b>mikraemer</b></a>)', u'He runs, I follow! <a href=\"/AllisterF\" class=...<span class=\"invisible\">&nbsp;</span></span></a>', u'NEW!!! Google Page Rank Update 2011 <a href=\"h...M? Anybody used them?\\nDo u use SEO Power Suite?', u'<a href=\"/jamiekilstein\" class=\"twitter-atrepl...class=\"invisible\">&nbsp;</span>\\u2026</span></a>', ...]\n     84         if sample_weight is not None:\n     85             return self._sign * self._score_func(y_true, y_pred,\n     86                                                  sample_weight=sample_weight,\n     87                                                  **self._kwargs)\n\n...........................................................................\n/usr/local/lib/python2.7/dist-packages/sklearn/utils/metaestimators.py in <lambda>(*args=([u'<a href=\"/BobMiller146\" class=\"twitter-atreply...user-id=\"29526003\" ><s>@</s><b>luxeagent</b></a>', u'The Media Journalist Daily is out! <a href=\"ht...ser-id=\"18771370\" ><s>@</s><b>ErikWemple</b></a>', u'Innovation Isn\\u2019t \\u2018Creativity,\\u2019 ...class=\"invisible\">&nbsp;</span>\\u2026</span></a>', u'You\\u2019re using this conspiracy theory as an...ento!\\n@SonrisaDesigual Muy de Cucumberhot... ;)', u'Alzheimer&#39;s Resource Center and Lifestyle ...<span class=\"invisible\">&nbsp;</span></span></a>', u'Wonder how this approach compares to what Chen...ensive tactics to MS+Apple&#39;s offensive ones.', u'<a href=\"/cadencesport\" class=\"twitter-atreply... cercat Barcelona i tot eren perfils corporatius', u'it is unfortunate that Lee&#39;s first act as ...<span class=\"invisible\">&nbsp;</span></span></a>', u'<a href=\"/zulahni\" class=\"twitter-atreply pret...me column, at the front edge of the fire escape.', u'I am a Samsung Paralympic Blogger - watch all ...-id=\"321336256\" ><s>@</s><b>Paralimpicos</b></a>', u'<a href=\"/howden_africa\" class=\"twitter-atrepl...d=\"true\" dir=\"ltr\" >pic.twitter.com/2Gfm0Xbj</a>', u'Sundays in <a href=\"/hashtag/Cork?src=hash\" da...js-nav\" dir=\"ltr\" ><s>#</s><b>MarkAsRead</b></a>', u'Listening to <a href=\"/clsaarinen\" class=\"twit...<span class=\"invisible\">&nbsp;</span></span></a>', u'&quot;<a href=\"/UxioMalvido\" class=\"twitter-at...class=\"invisible\">&nbsp;</span>\\u2026</span></a>', u'<a href=\"/Infinityindies\" class=\"twitter-atrep...<span class=\"invisible\">&nbsp;</span></span></a>', u'Nueva imagen de Batman vs Deathstroke en el v\\...span></a> Iron Man Mark Z Armour, corto fan-film', u'&quot;Young people need to be able to communic...r-id=\"1168811833\" ><s>@</s><b>mikraemer</b></a>)', u'He runs, I follow! <a href=\"/AllisterF\" class=...<span class=\"invisible\">&nbsp;</span></span></a>', u'NEW!!! Google Page Rank Update 2011 <a href=\"h...M? Anybody used them?\\nDo u use SEO Power Suite?', u'<a href=\"/jamiekilstein\" class=\"twitter-atrepl...class=\"invisible\">&nbsp;</span>\\u2026</span></a>', ...],), **kwargs={})\n     32         if obj is not None:\n     33             # delegate only on instances, not the classes.\n     34             # this is to allow access to the docstrings.\n     35             self.get_attribute(obj)\n     36         # lambda, but not partial, allows help() to work with update_wrapper\n---> 37         out = lambda *args, **kwargs: self.fn(obj, *args, **kwargs)\n        args = ([u'<a href=\"/BobMiller146\" class=\"twitter-atreply...user-id=\"29526003\" ><s>@</s><b>luxeagent</b></a>', u'The Media Journalist Daily is out! <a href=\"ht...ser-id=\"18771370\" ><s>@</s><b>ErikWemple</b></a>', u'Innovation Isn\\u2019t \\u2018Creativity,\\u2019 ...class=\"invisible\">&nbsp;</span>\\u2026</span></a>', u'You\\u2019re using this conspiracy theory as an...ento!\\n@SonrisaDesigual Muy de Cucumberhot... ;)', u'Alzheimer&#39;s Resource Center and Lifestyle ...<span class=\"invisible\">&nbsp;</span></span></a>', u'Wonder how this approach compares to what Chen...ensive tactics to MS+Apple&#39;s offensive ones.', u'<a href=\"/cadencesport\" class=\"twitter-atreply... cercat Barcelona i tot eren perfils corporatius', u'it is unfortunate that Lee&#39;s first act as ...<span class=\"invisible\">&nbsp;</span></span></a>', u'<a href=\"/zulahni\" class=\"twitter-atreply pret...me column, at the front edge of the fire escape.', u'I am a Samsung Paralympic Blogger - watch all ...-id=\"321336256\" ><s>@</s><b>Paralimpicos</b></a>', u'<a href=\"/howden_africa\" class=\"twitter-atrepl...d=\"true\" dir=\"ltr\" >pic.twitter.com/2Gfm0Xbj</a>', u'Sundays in <a href=\"/hashtag/Cork?src=hash\" da...js-nav\" dir=\"ltr\" ><s>#</s><b>MarkAsRead</b></a>', u'Listening to <a href=\"/clsaarinen\" class=\"twit...<span class=\"invisible\">&nbsp;</span></span></a>', u'&quot;<a href=\"/UxioMalvido\" class=\"twitter-at...class=\"invisible\">&nbsp;</span>\\u2026</span></a>', u'<a href=\"/Infinityindies\" class=\"twitter-atrep...<span class=\"invisible\">&nbsp;</span></span></a>', u'Nueva imagen de Batman vs Deathstroke en el v\\...span></a> Iron Man Mark Z Armour, corto fan-film', u'&quot;Young people need to be able to communic...r-id=\"1168811833\" ><s>@</s><b>mikraemer</b></a>)', u'He runs, I follow! <a href=\"/AllisterF\" class=...<span class=\"invisible\">&nbsp;</span></span></a>', u'NEW!!! Google Page Rank Update 2011 <a href=\"h...M? Anybody used them?\\nDo u use SEO Power Suite?', u'<a href=\"/jamiekilstein\" class=\"twitter-atrepl...class=\"invisible\">&nbsp;</span>\\u2026</span></a>', ...],)\n        kwargs = {}\n     38         # update the docstring of the returned function\n     39         update_wrapper(out, self.fn)\n     40         return out\n     41 \n\n...........................................................................\n/usr/local/lib/python2.7/dist-packages/sklearn/pipeline.py in predict(self=Pipeline(steps=[('CharCount', EmoticonExtractor(...e, shrinking=True,\n  tol=0.001, verbose=False))]), X=[u'<a href=\"/BobMiller146\" class=\"twitter-atreply...user-id=\"29526003\" ><s>@</s><b>luxeagent</b></a>', u'The Media Journalist Daily is out! <a href=\"ht...ser-id=\"18771370\" ><s>@</s><b>ErikWemple</b></a>', u'Innovation Isn\\u2019t \\u2018Creativity,\\u2019 ...class=\"invisible\">&nbsp;</span>\\u2026</span></a>', u'You\\u2019re using this conspiracy theory as an...ento!\\n@SonrisaDesigual Muy de Cucumberhot... ;)', u'Alzheimer&#39;s Resource Center and Lifestyle ...<span class=\"invisible\">&nbsp;</span></span></a>', u'Wonder how this approach compares to what Chen...ensive tactics to MS+Apple&#39;s offensive ones.', u'<a href=\"/cadencesport\" class=\"twitter-atreply... cercat Barcelona i tot eren perfils corporatius', u'it is unfortunate that Lee&#39;s first act as ...<span class=\"invisible\">&nbsp;</span></span></a>', u'<a href=\"/zulahni\" class=\"twitter-atreply pret...me column, at the front edge of the fire escape.', u'I am a Samsung Paralympic Blogger - watch all ...-id=\"321336256\" ><s>@</s><b>Paralimpicos</b></a>', u'<a href=\"/howden_africa\" class=\"twitter-atrepl...d=\"true\" dir=\"ltr\" >pic.twitter.com/2Gfm0Xbj</a>', u'Sundays in <a href=\"/hashtag/Cork?src=hash\" da...js-nav\" dir=\"ltr\" ><s>#</s><b>MarkAsRead</b></a>', u'Listening to <a href=\"/clsaarinen\" class=\"twit...<span class=\"invisible\">&nbsp;</span></span></a>', u'&quot;<a href=\"/UxioMalvido\" class=\"twitter-at...class=\"invisible\">&nbsp;</span>\\u2026</span></a>', u'<a href=\"/Infinityindies\" class=\"twitter-atrep...<span class=\"invisible\">&nbsp;</span></span></a>', u'Nueva imagen de Batman vs Deathstroke en el v\\...span></a> Iron Man Mark Z Armour, corto fan-film', u'&quot;Young people need to be able to communic...r-id=\"1168811833\" ><s>@</s><b>mikraemer</b></a>)', u'He runs, I follow! <a href=\"/AllisterF\" class=...<span class=\"invisible\">&nbsp;</span></span></a>', u'NEW!!! Google Page Rank Update 2011 <a href=\"h...M? Anybody used them?\\nDo u use SEO Power Suite?', u'<a href=\"/jamiekilstein\" class=\"twitter-atrepl...class=\"invisible\">&nbsp;</span>\\u2026</span></a>', ...])\n    198             Data to predict on. Must fulfill input requirements of first step of\n    199             the pipeline.\n    200         \"\"\"\n    201         Xt = X\n    202         for name, transform in self.steps[:-1]:\n--> 203             Xt = transform.transform(Xt)\n        Xt = [u'<a href=\"/BobMiller146\" class=\"twitter-atreply...user-id=\"29526003\" ><s>@</s><b>luxeagent</b></a>', u'The Media Journalist Daily is out! <a href=\"ht...ser-id=\"18771370\" ><s>@</s><b>ErikWemple</b></a>', u'Innovation Isn\\u2019t \\u2018Creativity,\\u2019 ...class=\"invisible\">&nbsp;</span>\\u2026</span></a>', u'You\\u2019re using this conspiracy theory as an...ento!\\n@SonrisaDesigual Muy de Cucumberhot... ;)', u'Alzheimer&#39;s Resource Center and Lifestyle ...<span class=\"invisible\">&nbsp;</span></span></a>', u'Wonder how this approach compares to what Chen...ensive tactics to MS+Apple&#39;s offensive ones.', u'<a href=\"/cadencesport\" class=\"twitter-atreply... cercat Barcelona i tot eren perfils corporatius', u'it is unfortunate that Lee&#39;s first act as ...<span class=\"invisible\">&nbsp;</span></span></a>', u'<a href=\"/zulahni\" class=\"twitter-atreply pret...me column, at the front edge of the fire escape.', u'I am a Samsung Paralympic Blogger - watch all ...-id=\"321336256\" ><s>@</s><b>Paralimpicos</b></a>', u'<a href=\"/howden_africa\" class=\"twitter-atrepl...d=\"true\" dir=\"ltr\" >pic.twitter.com/2Gfm0Xbj</a>', u'Sundays in <a href=\"/hashtag/Cork?src=hash\" da...js-nav\" dir=\"ltr\" ><s>#</s><b>MarkAsRead</b></a>', u'Listening to <a href=\"/clsaarinen\" class=\"twit...<span class=\"invisible\">&nbsp;</span></span></a>', u'&quot;<a href=\"/UxioMalvido\" class=\"twitter-at...class=\"invisible\">&nbsp;</span>\\u2026</span></a>', u'<a href=\"/Infinityindies\" class=\"twitter-atrep...<span class=\"invisible\">&nbsp;</span></span></a>', u'Nueva imagen de Batman vs Deathstroke en el v\\...span></a> Iron Man Mark Z Armour, corto fan-film', u'&quot;Young people need to be able to communic...r-id=\"1168811833\" ><s>@</s><b>mikraemer</b></a>)', u'He runs, I follow! <a href=\"/AllisterF\" class=...<span class=\"invisible\">&nbsp;</span></span></a>', u'NEW!!! Google Page Rank Update 2011 <a href=\"h...M? Anybody used them?\\nDo u use SEO Power Suite?', u'<a href=\"/jamiekilstein\" class=\"twitter-atrepl...class=\"invisible\">&nbsp;</span>\\u2026</span></a>', ...]\n        transform.transform = <bound method EmoticonExtractor.transform of Emo... ';>3', ';>X'],\n         norm=True, norm_axis=0)>\n    204         return self.steps[-1][-1].predict(Xt)\n    205 \n    206     @if_delegate_has_method(delegate='_final_estimator')\n    207     def fit_predict(self, X, y=None, **fit_params):\n\n...........................................................................\n/media/kostas/DATA/GIT/PAN16/<ipython-input-65-605b5c46136b> in transform(self=EmoticonExtractor(emoticons=['*O', '*-*', '*O*',..., ';>3', ';>X'],\n         norm=True, norm_axis=0), texts=[u'<a href=\"/BobMiller146\" class=\"twitter-atreply...user-id=\"29526003\" ><s>@</s><b>luxeagent</b></a>', u'The Media Journalist Daily is out! <a href=\"ht...ser-id=\"18771370\" ><s>@</s><b>ErikWemple</b></a>', u'Innovation Isn\\u2019t \\u2018Creativity,\\u2019 ...class=\"invisible\">&nbsp;</span>\\u2026</span></a>', u'You\\u2019re using this conspiracy theory as an...ento!\\n@SonrisaDesigual Muy de Cucumberhot... ;)', u'Alzheimer&#39;s Resource Center and Lifestyle ...<span class=\"invisible\">&nbsp;</span></span></a>', u'Wonder how this approach compares to what Chen...ensive tactics to MS+Apple&#39;s offensive ones.', u'<a href=\"/cadencesport\" class=\"twitter-atreply... cercat Barcelona i tot eren perfils corporatius', u'it is unfortunate that Lee&#39;s first act as ...<span class=\"invisible\">&nbsp;</span></span></a>', u'<a href=\"/zulahni\" class=\"twitter-atreply pret...me column, at the front edge of the fire escape.', u'I am a Samsung Paralympic Blogger - watch all ...-id=\"321336256\" ><s>@</s><b>Paralimpicos</b></a>', u'<a href=\"/howden_africa\" class=\"twitter-atrepl...d=\"true\" dir=\"ltr\" >pic.twitter.com/2Gfm0Xbj</a>', u'Sundays in <a href=\"/hashtag/Cork?src=hash\" da...js-nav\" dir=\"ltr\" ><s>#</s><b>MarkAsRead</b></a>', u'Listening to <a href=\"/clsaarinen\" class=\"twit...<span class=\"invisible\">&nbsp;</span></span></a>', u'&quot;<a href=\"/UxioMalvido\" class=\"twitter-at...class=\"invisible\">&nbsp;</span>\\u2026</span></a>', u'<a href=\"/Infinityindies\" class=\"twitter-atrep...<span class=\"invisible\">&nbsp;</span></span></a>', u'Nueva imagen de Batman vs Deathstroke en el v\\...span></a> Iron Man Mark Z Armour, corto fan-film', u'&quot;Young people need to be able to communic...r-id=\"1168811833\" ><s>@</s><b>mikraemer</b></a>)', u'He runs, I follow! <a href=\"/AllisterF\" class=...<span class=\"invisible\">&nbsp;</span></span></a>', u'NEW!!! Google Page Rank Update 2011 <a href=\"h...M? Anybody used them?\\nDo u use SEO Power Suite?', u'<a href=\"/jamiekilstein\" class=\"twitter-atrepl...class=\"invisible\">&nbsp;</span>\\u2026</span></a>', ...])\n     57         final_feat3 = final_feat2[:, numpy.nonzero(final_feat2.sum(axis=0))[0]]\n     58         print 'Indexes'\n     59         print numpy.nonzero(final_feat2.sum(axis=0))[0]\n     60         print 'Names'\n     61         print numpy.array(self.names).shape\n---> 62         self.names = numpy.array(self.names)[numpy.nonzero(final_feat2.sum(axis=0))[0]]\n     63         print final_feat3.shape\n     64         if self.norm:\n     65             final_feat3 = normalize(numpy.array(final_feat3), norm='l1', axis=0)\n     66             return final_feat3\n\nIndexError: index 64 is out of bounds for axis 1 with size 64\n___________________________________________________________________________"
     ]
    }
   ],
   "source": [
    "from sklearn.cross_validation import train_test_split\n",
    "from sklearn.metrics import accuracy_score, confusion_matrix\n",
    "from sklearn.grid_search import GridSearchCV\n",
    "from sklearn.metrics import accuracy_score, confusion_matrix, classification_report\n",
    "from sklearn.svm import LinearSVC, SVC\n",
    "from sklearn.pipeline import Pipeline, FeatureUnion\n",
    "\n",
    "\n",
    "aa =EmoticonExtractor(emoticons)\n",
    "c = CharFeatureExtractor(norm_axis=0, norm=True)\n",
    "svm2 = SVC(kernel='rbf', C=1, gamma=1, class_weight='balanced', probability=False)\n",
    "#w = WordFeatureExtractor(function_words_path='./English_Function_Words_Set/', norm=True, norm_axis=0)\n",
    "soacw = SOACWrapper()\n",
    "svm = LinearSVC(C=0.001,  class_weight='balanced')\n",
    "svm2 = SVC(kernel='linear', C=1, gamma=1, class_weight='balanced', probability=False)\n",
    "pipe1 = Pipeline([('CharCount', aa), ('svm', svm2)])\n",
    "#pipe2 = Pipeline([('WordCount', w), ('svm', svm2)])\n",
    "pipe2 = Pipeline([('CharCount', c), ('soac', soacw),('svm', svm2)])\n",
    "\n",
    "num_folds = 4\n",
    "split = 0.2\n",
    "X_train, X_cv, y_train, y_cv = train_test_split(X, y, test_size=split, stratify=y, random_state=100)\n",
    "print len(X_train), len(X_cv), len(X_cv) + len(X_train), len(X)\n",
    "#eclf = VotingClassifier(estimators=[(\"0\", pipe1), ('1', pipe2)], voting='soft')\n",
    "#pipe2.fit(X_train, y_train)\n",
    "# trained_models = []\n",
    "# params = {}\n",
    "params = {'svm__C': [0.001, 0.01, 0.1, 1, 10, 100]}\n",
    "for model in [pipe1]:\n",
    "    grid_search = GridSearchCV(estimator=model, param_grid=params, verbose=1, n_jobs=2, cv=num_folds, \n",
    "                                   refit=True, scoring='f1_weighted')\n",
    "    grid_search.fit(X_train,y_train)\n",
    "    print(grid_search.best_score_)\n",
    "    print(grid_search.best_estimator_) \n",
    "best = grid_search.best_estimator_"
   ]
  },
  {
   "cell_type": "code",
   "execution_count": 60,
   "metadata": {
    "collapsed": false
   },
   "outputs": [
    {
     "name": "stdout",
     "output_type": "stream",
     "text": [
      "Accuracy : 0.475409836066\n",
      "Confusion matrix :\n",
      " [[29  0]\n",
      " [32  0]]\n",
      "Classification report :\n",
      "              precision    recall  f1-score   support\n",
      "\n",
      "     female       0.48      1.00      0.64        29\n",
      "       male       0.00      0.00      0.00        32\n",
      "\n",
      "avg / total       0.23      0.48      0.31        61\n",
      "\n"
     ]
    }
   ],
   "source": [
    "from sklearn.metrics import accuracy_score, confusion_matrix, classification_report\n",
    "predict = best.predict(X_cv)\n",
    "acc = accuracy_score(y_cv, predict)\n",
    "conf = confusion_matrix(y_cv, predict, labels=sorted(list(set(y_cv))))\n",
    "rep = classification_report(y_cv, predict, target_names=sorted(list(set(y_cv))))\n",
    "print('Accuracy : {}'.format(acc))\n",
    "print('Confusion matrix :\\n {}'.format(conf))\n",
    "print('Classification report :\\n {}'.format(rep))"
   ]
  },
  {
   "cell_type": "code",
   "execution_count": null,
   "metadata": {
    "collapsed": true
   },
   "outputs": [],
   "source": [
    "import joblib\n",
    "all_models = joblib.load(\"./\")"
   ]
  },
  {
   "cell_type": "code",
   "execution_count": null,
   "metadata": {
    "collapsed": true
   },
   "outputs": [],
   "source": []
  }
 ],
 "metadata": {
  "kernelspec": {
   "display_name": "Python 2",
   "language": "python",
   "name": "python2"
  },
  "language_info": {
   "codemirror_mode": {
    "name": "ipython",
    "version": 2
   },
   "file_extension": ".py",
   "mimetype": "text/x-python",
   "name": "python",
   "nbconvert_exporter": "python",
   "pygments_lexer": "ipython2",
   "version": "2.7.6"
  }
 },
 "nbformat": 4,
 "nbformat_minor": 0
}
